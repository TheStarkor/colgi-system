{
 "cells": [
  {
   "cell_type": "code",
   "execution_count": 27,
   "metadata": {},
   "outputs": [
    {
     "name": "stderr",
     "output_type": "stream",
     "text": [
      "[nltk_data] Downloading package punkt to\n",
      "[nltk_data]     C:\\Users\\AEL\\AppData\\Roaming\\nltk_data...\n",
      "[nltk_data]   Package punkt is already up-to-date!\n",
      "[nltk_data] Downloading package stopwords to\n",
      "[nltk_data]     C:\\Users\\AEL\\AppData\\Roaming\\nltk_data...\n",
      "[nltk_data]   Package stopwords is already up-to-date!\n"
     ]
    },
    {
     "data": {
      "text/plain": [
       "True"
      ]
     },
     "execution_count": 27,
     "metadata": {},
     "output_type": "execute_result"
    }
   ],
   "source": [
    "import csv\n",
    "import pandas as pd\n",
    "import nltk\n",
    "from nltk.util import pad_sequence\n",
    "from nltk.util import bigrams\n",
    "from nltk.util import ngrams\n",
    "from nltk.util import everygrams\n",
    "from nltk.lm.preprocessing import pad_both_ends\n",
    "from nltk.lm.preprocessing import flatten\n",
    "\n",
    "\n",
    "nltk.download('punkt')\n",
    "nltk.download('stopwords')"
   ]
  },
  {
   "cell_type": "code",
   "execution_count": 28,
   "metadata": {},
   "outputs": [
    {
     "data": {
      "text/html": [
       "<div>\n",
       "<style scoped>\n",
       "    .dataframe tbody tr th:only-of-type {\n",
       "        vertical-align: middle;\n",
       "    }\n",
       "\n",
       "    .dataframe tbody tr th {\n",
       "        vertical-align: top;\n",
       "    }\n",
       "\n",
       "    .dataframe thead th {\n",
       "        text-align: right;\n",
       "    }\n",
       "</style>\n",
       "<table border=\"1\" class=\"dataframe\">\n",
       "  <thead>\n",
       "    <tr style=\"text-align: right;\">\n",
       "      <th></th>\n",
       "      <th>text</th>\n",
       "    </tr>\n",
       "  </thead>\n",
       "  <tbody>\n",
       "    <tr>\n",
       "      <th>0</th>\n",
       "      <td>a group of colorful fish on a beige background</td>\n",
       "    </tr>\n",
       "    <tr>\n",
       "      <th>1</th>\n",
       "      <td>a painting of a group of fish swimming together</td>\n",
       "    </tr>\n",
       "    <tr>\n",
       "      <th>2</th>\n",
       "      <td>a painting of a fish swimming in the ocean</td>\n",
       "    </tr>\n",
       "    <tr>\n",
       "      <th>3</th>\n",
       "      <td>a painting of a group of fish swimming in the ...</td>\n",
       "    </tr>\n",
       "    <tr>\n",
       "      <th>4</th>\n",
       "      <td>a bunch of fish that are on some rocks</td>\n",
       "    </tr>\n",
       "  </tbody>\n",
       "</table>\n",
       "</div>"
      ],
      "text/plain": [
       "                                                text\n",
       "0     a group of colorful fish on a beige background\n",
       "1    a painting of a group of fish swimming together\n",
       "2         a painting of a fish swimming in the ocean\n",
       "3  a painting of a group of fish swimming in the ...\n",
       "4             a bunch of fish that are on some rocks"
      ]
     },
     "execution_count": 28,
     "metadata": {},
     "output_type": "execute_result"
    }
   ],
   "source": [
    "dataset = pd.read_csv(\"space_explore_bear.csv\")\n",
    "dataset.head(5)\n"
   ]
  },
  {
   "cell_type": "code",
   "execution_count": 29,
   "metadata": {},
   "outputs": [
    {
     "data": {
      "text/html": [
       "<div>\n",
       "<style scoped>\n",
       "    .dataframe tbody tr th:only-of-type {\n",
       "        vertical-align: middle;\n",
       "    }\n",
       "\n",
       "    .dataframe tbody tr th {\n",
       "        vertical-align: top;\n",
       "    }\n",
       "\n",
       "    .dataframe thead th {\n",
       "        text-align: right;\n",
       "    }\n",
       "</style>\n",
       "<table border=\"1\" class=\"dataframe\">\n",
       "  <thead>\n",
       "    <tr style=\"text-align: right;\">\n",
       "      <th></th>\n",
       "      <th>text</th>\n",
       "      <th>category</th>\n",
       "    </tr>\n",
       "  </thead>\n",
       "  <tbody>\n",
       "    <tr>\n",
       "      <th>0</th>\n",
       "      <td>a group of colorful fish on a beige background</td>\n",
       "      <td>0</td>\n",
       "    </tr>\n",
       "    <tr>\n",
       "      <th>1</th>\n",
       "      <td>a painting of a group of fish swimming together</td>\n",
       "      <td>0</td>\n",
       "    </tr>\n",
       "    <tr>\n",
       "      <th>2</th>\n",
       "      <td>a painting of a fish swimming in the ocean</td>\n",
       "      <td>0</td>\n",
       "    </tr>\n",
       "    <tr>\n",
       "      <th>3</th>\n",
       "      <td>a painting of a group of fish swimming in the ...</td>\n",
       "      <td>0</td>\n",
       "    </tr>\n",
       "    <tr>\n",
       "      <th>4</th>\n",
       "      <td>a bunch of fish that are on some rocks</td>\n",
       "      <td>0</td>\n",
       "    </tr>\n",
       "  </tbody>\n",
       "</table>\n",
       "</div>"
      ],
      "text/plain": [
       "                                                text  category\n",
       "0     a group of colorful fish on a beige background         0\n",
       "1    a painting of a group of fish swimming together         0\n",
       "2         a painting of a fish swimming in the ocean         0\n",
       "3  a painting of a group of fish swimming in the ...         0\n",
       "4             a bunch of fish that are on some rocks         0"
      ]
     },
     "execution_count": 29,
     "metadata": {},
     "output_type": "execute_result"
    }
   ],
   "source": [
    "\n",
    "category=[]\n",
    "\n",
    "col=[\"red\",\"black\",\"blue\",\"yellow\",\"green\",\"orange\"]\n",
    "colo=[]\n",
    "for j in range(6):\n",
    "    for i in range(300):\n",
    "        category.append(j)\n",
    "        colo.append(col[j])\n",
    "\n",
    "dataset[\"category\"]=category\n",
    "\n",
    "dataset.head()"
   ]
  },
  {
   "cell_type": "code",
   "execution_count": 30,
   "metadata": {},
   "outputs": [],
   "source": [
    "import spacy\n",
    "import numpy as np\n",
    "import csv\n",
    "from sklearn import linear_model\n",
    "import matplotlib.pyplot as plt\n",
    "\n",
    "stop_words = set(nltk.corpus.stopwords.words('english'))\n",
    "\n",
    "nlp = spacy.load('en_core_web_lg')\n",
    "\n",
    "def our_tokenizer(sentence):\n",
    "    ps = nltk.stem.PorterStemmer()\n",
    "    sentence = sentence.replace(',','')\n",
    "    sentence = sentence.replace('.','')\n",
    "    words = nltk.word_tokenize(sentence)\n",
    "    \n",
    "\n",
    "    temps = []\n",
    "    for w in words: \n",
    "        if w not in stop_words: \n",
    "            temps.append(w) \n",
    "\n",
    "    res = []\n",
    "    for stem in temps:\n",
    "        res.append(ps.stem(stem))\n",
    "\n",
    "    return res\n",
    "\n",
    "\n",
    "def embedding_sim(token1, token2):\n",
    "    avg=0\n",
    "    for token in token1:\n",
    "        max=-2\n",
    "        for t in token2:\n",
    "            if nlp(token).similarity(nlp(t))>max : max= nlp(token).similarity(nlp(t))\n",
    "        avg+=max\n",
    "    avg=float(avg/len(token1))\n",
    "\n",
    "    return avg\n",
    "\n",
    "def embedding_vector(token):\n",
    "    sent=\"\"\n",
    "    for t in token:\n",
    "        sent+=\" \"+t\n",
    "\n",
    "    return nlp(sent)\n",
    "\n",
    "\n",
    "vectors=[]\n",
    "for i,row in dataset.iterrows():\n",
    "    vectors.append(embedding_vector(our_tokenizer(row[\"text\"])).vector)"
   ]
  },
  {
   "cell_type": "code",
   "execution_count": 31,
   "metadata": {},
   "outputs": [],
   "source": [
    "dataset[\"vector\"]=vectors"
   ]
  },
  {
   "cell_type": "code",
   "execution_count": 32,
   "metadata": {},
   "outputs": [],
   "source": [
    "from sklearn.manifold import TSNE"
   ]
  },
  {
   "cell_type": "code",
   "execution_count": 33,
   "metadata": {},
   "outputs": [
    {
     "name": "stderr",
     "output_type": "stream",
     "text": [
      "c:\\Users\\AEL\\anaconda3\\envs\\clip\\lib\\site-packages\\sklearn\\manifold\\_t_sne.py:800: FutureWarning:\n",
      "\n",
      "The default initialization in TSNE will change from 'random' to 'pca' in 1.2.\n",
      "\n",
      "c:\\Users\\AEL\\anaconda3\\envs\\clip\\lib\\site-packages\\sklearn\\manifold\\_t_sne.py:810: FutureWarning:\n",
      "\n",
      "The default learning rate in TSNE will change from 200.0 to 'auto' in 1.2.\n",
      "\n"
     ]
    },
    {
     "data": {
      "image/png": "[encoded data removed]",
      "text/plain": [
       "<Figure size 1800x1800 with 1 Axes>"
      ]
     },
     "metadata": {},
     "output_type": "display_data"
    }
   ],
   "source": [
    "\n",
    "\"\"\"\n",
    "Function to plot the words using t-SNE from the models vocabulary and the probability associations.\n",
    ":param word2vec_model: Word2Vec Model.\n",
    "\"\"\"\n",
    "\n",
    "labels = list()\n",
    "sentences = dataset[\"vector\"]\n",
    "\n",
    "\n",
    "\n",
    "tsne_model = TSNE(perplexity=25, n_components=2, n_iter=2000, random_state=0)\n",
    "new_values = tsne_model.fit_transform(np.asarray(vectors))\n",
    "\n",
    "x, y = list(), list()\n",
    "\n",
    "for value in new_values:\n",
    "    x.append(value[0])\n",
    "    y.append(value[1])\n",
    "\n",
    "plt.figure(figsize=(18, 18))\n",
    "\n",
    "for i in range(len(x)):\n",
    "    plt.scatter(x[i], y[i], c=colo[i])\n",
    "    plt.annotate(category[i],\n",
    "                    xy=(x[i], y[i]),\n",
    "                    xytext=(5, 2),\n",
    "                    textcoords=\"offset points\",\n",
    "                    color=colo[i],\n",
    "                    ha=\"right\",\n",
    "                    va=\"bottom\")\n",
    "plt.savefig(\"./tsne_plot_word2vec.png\")\n",
    "plt.show(True)"
   ]
  },
  {
   "cell_type": "code",
   "execution_count": 34,
   "metadata": {},
   "outputs": [
    {
     "data": {
      "application/vnd.plotly.v1+json": {
       "config": {
        "plotlyServerURL": "https://plot.ly"
       },
       "data": [
        {
         "alignmentgroup": "True",
         "bingroup": "x",
         "hovertemplate": "variable=0<br>value=%{x}<br>count=%{y}<extra></extra>",
         "legendgroup": "0",
         "marker": {
          "color": "#636efa",
          "pattern": {
           "shape": ""
          }
         },
         "name": "0",
         "offsetgroup": "0",
         "orientation": "v",
         "showlegend": true,
         "type": "histogram",
         "x": [
          0.8259632701902075,
          0.9386794478494231,
          0.9334989103229441,
          0.946301298881372,
          0.8180476941555624,
          0.946301298881372,
          0.9381466517759715,
          0.8704150248148015,
          0.8324327233694186,
          0.8916525792550138,
          0.8392171125820117,
          0.8627748777280643,
          0.7869727786780908,
          0.946301298881372,
          0.8784283528014639,
          0.9367952885717632,
          0.7593948993318672,
          0.8962100084263518,
          0.9088965557549161,
          0.8802865816382209,
          0.8272918876122846,
          0.887300563774002,
          0.8537742719329748,
          0.8719307748254341,
          0.887300563774002,
          0.8962100084263518,
          0.8566668089459151,
          0.9202290239324227,
          0.8752403561920158,
          0.9249939594479256,
          0.8578642291699642,
          0.8887497303524885,
          0.8570191040266669,
          0.8469533915022325,
          0.8558799828499793,
          0.8109272074587592,
          0.946301298881372,
          0.8449169856925501,
          0.946301298881372,
          0.9229938944759098,
          0.9055030733379007,
          0.8272918876122846,
          0.946301298881372,
          0.9360232803672828,
          0.8802865816382209,
          0.9334989103229441,
          0.92182204421724,
          0.8820430120090265,
          0.887300563774002,
          0.946301298881372,
          0.9006368749502339,
          0.946301298881372,
          0.9147873277839955,
          0.9202290239324227,
          0.9117497945396427,
          0.8348021632041925,
          0.8046018930317028,
          0.8897571173318856,
          0.946301298881372,
          0.8936659890843955,
          0.8598912442278833,
          0.9147873277839955,
          0.8719307748254341,
          0.8802865816382209,
          0.8376692167705285,
          0.9146381897457007,
          0.8747706656386202,
          0.8711595468536789,
          0.8704124833035551,
          0.8412873265940343,
          0.8734747809460746,
          0.8802865816382209,
          0.9088965557549161,
          0.9039785894129476,
          0.9403052201673763,
          0.8887497303524885,
          0.8272918876122846,
          0.9213846473990849,
          0.876798777984793,
          0.8763657491013402,
          0.8962100084263518,
          0.8745309718152298,
          0.8704124833035551,
          0.9104330657506554,
          0.9104330657506554,
          0.8272918876122846,
          0.946301298881372,
          0.947915404347612,
          0.8882189868296533,
          0.8578103682541115,
          0.9059161668103934,
          0.887300563774002,
          0.9085355638518582,
          0.8170197222076265,
          0.8935584580919721,
          0.8272918876122846,
          0.8566827049717646,
          0.9445315432118925,
          0.8529364418268036,
          0.887300563774002,
          0.8802865816382209,
          0.7996310698956691,
          0.8719307748254341,
          0.8802865816382209,
          0.7594423044656756,
          0.9059161668103934,
          0.8872365091476913,
          0.8962100084263518,
          0.8532552155919184,
          0.8580260254899507,
          0.864603467637147,
          0.9334989103229441,
          0.838792631465933,
          0.9334989103229441,
          0.946301298881372,
          0.9249939594479256,
          0.8962100084263518,
          0.9076346209479109,
          0.8897571173318856,
          0.8738754287115986,
          0.9098131346493857,
          0.4820939905337466,
          0.887300563774002,
          0.8719307748254341,
          0.946301298881372,
          0.8802865816382209,
          0.8639241964883914,
          0.9161283282442887,
          0.8699053585243284,
          0.9067775159876285,
          0.8302759019590932,
          0.9088965557549161,
          0.9117497945396427,
          0.8385430506821256,
          0.9386794478494231,
          0.8949794845558395,
          0.8180476941555624,
          0.8684179246117856,
          0.8765118705595886,
          0.904737205453612,
          0.946301298881372,
          0.9202290239324227,
          0.9246935236759916,
          0.8962100084263518,
          0.8338020988702486,
          0.8529364418268036,
          0.9147873277839955,
          0.8711595468536789,
          0.946301298881372,
          0.7832395965739178,
          0.8684179250163289,
          0.8723501050028158,
          0.8711595468536789,
          0.924282980407584,
          0.8220187808191222,
          0.8851094237751914,
          0.9227938466011936,
          0.8719307748254341,
          0.9088965557549161,
          0.9055434789042506,
          0.9367952885717632,
          0.9088965557549161,
          0.8883980960218897,
          0.8887497303524885,
          0.9324115253406431,
          0.8572400783266276,
          0.8444982665298217,
          0.8324327233694186,
          0.9006087683505913,
          0.8742390240084781,
          0.8820487512942291,
          0.946301298881372,
          0.8594156075199902,
          0.8431964139442708,
          0.9334989103229441,
          0.904737205453612,
          0.9202290239324227,
          0.9121956641870043,
          0.8794533472999563,
          0.9184492962706231,
          0.8448345407013969,
          0.9202290239324227,
          0.8805545582228647,
          0.815799597729468,
          0.8897571173318856,
          0.9088965557549161,
          0.7392038853306104,
          0.8598125545696785,
          0.9421681974718964,
          0.8701211488031759,
          0.7631164137126443,
          0.9069504967624866,
          0.8554241763309587,
          0.8802865816382209,
          0.8139959668656108,
          0.8446835007527744,
          0.8448345548976295,
          0.9096961980525993,
          0.8711595468536789,
          0.8711595468536789,
          0.947915404347612,
          0.8719307748254341,
          0.8225392062401751,
          0.9396080484020898,
          0.8663335335977863,
          0.8719307748254341,
          0.9421681974718964,
          0.85900149908717,
          0.8561663161669085,
          0.8378894675009072,
          0.7633137710714555,
          0.939664167204041,
          0.8711595468536789,
          0.9202290239324227,
          0.8683055101271197,
          0.8718099545749837,
          0.9421681974718964,
          0.9044730168644133,
          0.9202290239324227,
          0.9542081317957154,
          0.9006368749502339,
          0.8813770519245798,
          0.9202290239324227,
          0.8561663161669085,
          0.8737276575900366,
          0.8936076784384344,
          0.8315498817944144,
          0.946301298881372,
          0.8324327233694186,
          0.8406862749139988,
          0.8492241869211096,
          0.8711595468536789,
          0.769005245614489,
          0.8542928534951956,
          0.853657698678945,
          0.867322872501976,
          0.8962100084263518,
          0.8835790964101055,
          0.9334989103229441,
          0.918689748216505,
          0.8272918876122846,
          0.8765705596847991,
          0.7658924815867689,
          0.930463269892065,
          0.713612500146369,
          0.8050556811393018,
          0.7544114124266461,
          0.9147873277839955,
          0.904737205453612,
          0.8007576997869083,
          0.8274279363830542,
          0.8765503399797339,
          0.9006087683505913,
          0.946301298881372,
          0.939664167204041,
          0.9443502113910512,
          0.9147873277839955,
          0.9411155166301042,
          0.9044730168644133,
          0.8824989254701063,
          0.8253833155815234,
          0.7515241212085216,
          0.8348579950037093,
          0.8802784751586635,
          0.8349792819915651,
          0.946301298881372,
          0.9147873277839955,
          0.8911847004856674,
          0.9088965557549161,
          0.8402939983337311,
          0.9421681974718964,
          0.9367952885717632,
          0.8802865816382209,
          0.9544177695038605,
          0.769005245614489,
          0.8711595468536789,
          0.8171126714497059,
          0.8719307748254341,
          0.8818699338964548,
          0.8787108192600769,
          0.8962100084263518,
          0.8881970239190636,
          0.864603467637147,
          0.8802865816382209,
          0.8798207049590446,
          0.8876902960614997,
          0.887300563774002,
          0.8609010711221456,
          0.8206099764112113,
          0.8763120004765559,
          0.8962100084263518,
          0.887300563774002,
          0.8962100084263518,
          0.887300563774002,
          0.932046187997545,
          0.9076346209479109,
          0.7673196813287684,
          0.887300563774002,
          0.873185493407711,
          0.9292978899224228
         ],
         "xaxis": "x",
         "xbins": {
          "end": 1,
          "size": 0.02,
          "start": 0.3
         },
         "yaxis": "y"
        }
       ],
       "layout": {
        "barmode": "relative",
        "height": 400,
        "legend": {
         "title": {
          "text": "variable"
         },
         "tracegroupgap": 0
        },
        "margin": {
         "t": 60
        },
        "template": {
         "data": {
          "bar": [
           {
            "error_x": {
             "color": "#2a3f5f"
            },
            "error_y": {
             "color": "#2a3f5f"
            },
            "marker": {
             "line": {
              "color": "#E5ECF6",
              "width": 0.5
             },
             "pattern": {
              "fillmode": "overlay",
              "size": 10,
              "solidity": 0.2
             }
            },
            "type": "bar"
           }
          ],
          "barpolar": [
           {
            "marker": {
             "line": {
              "color": "#E5ECF6",
              "width": 0.5
             },
             "pattern": {
              "fillmode": "overlay",
              "size": 10,
              "solidity": 0.2
             }
            },
            "type": "barpolar"
           }
          ],
          "carpet": [
           {
            "aaxis": {
             "endlinecolor": "#2a3f5f",
             "gridcolor": "white",
             "linecolor": "white",
             "minorgridcolor": "white",
             "startlinecolor": "#2a3f5f"
            },
            "baxis": {
             "endlinecolor": "#2a3f5f",
             "gridcolor": "white",
             "linecolor": "white",
             "minorgridcolor": "white",
             "startlinecolor": "#2a3f5f"
            },
            "type": "carpet"
           }
          ],
          "choropleth": [
           {
            "colorbar": {
             "outlinewidth": 0,
             "ticks": ""
            },
            "type": "choropleth"
           }
          ],
          "contour": [
           {
            "colorbar": {
             "outlinewidth": 0,
             "ticks": ""
            },
            "colorscale": [
             [
              0,
              "#0d0887"
             ],
             [
              0.1111111111111111,
              "#46039f"
             ],
             [
              0.2222222222222222,
              "#7201a8"
             ],
             [
              0.3333333333333333,
              "#9c179e"
             ],
             [
              0.4444444444444444,
              "#bd3786"
             ],
             [
              0.5555555555555556,
              "#d8576b"
             ],
             [
              0.6666666666666666,
              "#ed7953"
             ],
             [
              0.7777777777777778,
              "#fb9f3a"
             ],
             [
              0.8888888888888888,
              "#fdca26"
             ],
             [
              1,
              "#f0f921"
             ]
            ],
            "type": "contour"
           }
          ],
          "contourcarpet": [
           {
            "colorbar": {
             "outlinewidth": 0,
             "ticks": ""
            },
            "type": "contourcarpet"
           }
          ],
          "heatmap": [
           {
            "colorbar": {
             "outlinewidth": 0,
             "ticks": ""
            },
            "colorscale": [
             [
              0,
              "#0d0887"
             ],
             [
              0.1111111111111111,
              "#46039f"
             ],
             [
              0.2222222222222222,
              "#7201a8"
             ],
             [
              0.3333333333333333,
              "#9c179e"
             ],
             [
              0.4444444444444444,
              "#bd3786"
             ],
             [
              0.5555555555555556,
              "#d8576b"
             ],
             [
              0.6666666666666666,
              "#ed7953"
             ],
             [
              0.7777777777777778,
              "#fb9f3a"
             ],
             [
              0.8888888888888888,
              "#fdca26"
             ],
             [
              1,
              "#f0f921"
             ]
            ],
            "type": "heatmap"
           }
          ],
          "heatmapgl": [
           {
            "colorbar": {
             "outlinewidth": 0,
             "ticks": ""
            },
            "colorscale": [
             [
              0,
              "#0d0887"
             ],
             [
              0.1111111111111111,
              "#46039f"
             ],
             [
              0.2222222222222222,
              "#7201a8"
             ],
             [
              0.3333333333333333,
              "#9c179e"
             ],
             [
              0.4444444444444444,
              "#bd3786"
             ],
             [
              0.5555555555555556,
              "#d8576b"
             ],
             [
              0.6666666666666666,
              "#ed7953"
             ],
             [
              0.7777777777777778,
              "#fb9f3a"
             ],
             [
              0.8888888888888888,
              "#fdca26"
             ],
             [
              1,
              "#f0f921"
             ]
            ],
            "type": "heatmapgl"
           }
          ],
          "histogram": [
           {
            "marker": {
             "pattern": {
              "fillmode": "overlay",
              "size": 10,
              "solidity": 0.2
             }
            },
            "type": "histogram"
           }
          ],
          "histogram2d": [
           {
            "colorbar": {
             "outlinewidth": 0,
             "ticks": ""
            },
            "colorscale": [
             [
              0,
              "#0d0887"
             ],
             [
              0.1111111111111111,
              "#46039f"
             ],
             [
              0.2222222222222222,
              "#7201a8"
             ],
             [
              0.3333333333333333,
              "#9c179e"
             ],
             [
              0.4444444444444444,
              "#bd3786"
             ],
             [
              0.5555555555555556,
              "#d8576b"
             ],
             [
              0.6666666666666666,
              "#ed7953"
             ],
             [
              0.7777777777777778,
              "#fb9f3a"
             ],
             [
              0.8888888888888888,
              "#fdca26"
             ],
             [
              1,
              "#f0f921"
             ]
            ],
            "type": "histogram2d"
           }
          ],
          "histogram2dcontour": [
           {
            "colorbar": {
             "outlinewidth": 0,
             "ticks": ""
            },
            "colorscale": [
             [
              0,
              "#0d0887"
             ],
             [
              0.1111111111111111,
              "#46039f"
             ],
             [
              0.2222222222222222,
              "#7201a8"
             ],
             [
              0.3333333333333333,
              "#9c179e"
             ],
             [
              0.4444444444444444,
              "#bd3786"
             ],
             [
              0.5555555555555556,
              "#d8576b"
             ],
             [
              0.6666666666666666,
              "#ed7953"
             ],
             [
              0.7777777777777778,
              "#fb9f3a"
             ],
             [
              0.8888888888888888,
              "#fdca26"
             ],
             [
              1,
              "#f0f921"
             ]
            ],
            "type": "histogram2dcontour"
           }
          ],
          "mesh3d": [
           {
            "colorbar": {
             "outlinewidth": 0,
             "ticks": ""
            },
            "type": "mesh3d"
           }
          ],
          "parcoords": [
           {
            "line": {
             "colorbar": {
              "outlinewidth": 0,
              "ticks": ""
             }
            },
            "type": "parcoords"
           }
          ],
          "pie": [
           {
            "automargin": true,
            "type": "pie"
           }
          ],
          "scatter": [
           {
            "fillpattern": {
             "fillmode": "overlay",
             "size": 10,
             "solidity": 0.2
            },
            "type": "scatter"
           }
          ],
          "scatter3d": [
           {
            "line": {
             "colorbar": {
              "outlinewidth": 0,
              "ticks": ""
             }
            },
            "marker": {
             "colorbar": {
              "outlinewidth": 0,
              "ticks": ""
             }
            },
            "type": "scatter3d"
           }
          ],
          "scattercarpet": [
           {
            "marker": {
             "colorbar": {
              "outlinewidth": 0,
              "ticks": ""
             }
            },
            "type": "scattercarpet"
           }
          ],
          "scattergeo": [
           {
            "marker": {
             "colorbar": {
              "outlinewidth": 0,
              "ticks": ""
             }
            },
            "type": "scattergeo"
           }
          ],
          "scattergl": [
           {
            "marker": {
             "colorbar": {
              "outlinewidth": 0,
              "ticks": ""
             }
            },
            "type": "scattergl"
           }
          ],
          "scattermapbox": [
           {
            "marker": {
             "colorbar": {
              "outlinewidth": 0,
              "ticks": ""
             }
            },
            "type": "scattermapbox"
           }
          ],
          "scatterpolar": [
           {
            "marker": {
             "colorbar": {
              "outlinewidth": 0,
              "ticks": ""
             }
            },
            "type": "scatterpolar"
           }
          ],
          "scatterpolargl": [
           {
            "marker": {
             "colorbar": {
              "outlinewidth": 0,
              "ticks": ""
             }
            },
            "type": "scatterpolargl"
           }
          ],
          "scatterternary": [
           {
            "marker": {
             "colorbar": {
              "outlinewidth": 0,
              "ticks": ""
             }
            },
            "type": "scatterternary"
           }
          ],
          "surface": [
           {
            "colorbar": {
             "outlinewidth": 0,
             "ticks": ""
            },
            "colorscale": [
             [
              0,
              "#0d0887"
             ],
             [
              0.1111111111111111,
              "#46039f"
             ],
             [
              0.2222222222222222,
              "#7201a8"
             ],
             [
              0.3333333333333333,
              "#9c179e"
             ],
             [
              0.4444444444444444,
              "#bd3786"
             ],
             [
              0.5555555555555556,
              "#d8576b"
             ],
             [
              0.6666666666666666,
              "#ed7953"
             ],
             [
              0.7777777777777778,
              "#fb9f3a"
             ],
             [
              0.8888888888888888,
              "#fdca26"
             ],
             [
              1,
              "#f0f921"
             ]
            ],
            "type": "surface"
           }
          ],
          "table": [
           {
            "cells": {
             "fill": {
              "color": "#EBF0F8"
             },
             "line": {
              "color": "white"
             }
            },
            "header": {
             "fill": {
              "color": "#C8D4E3"
             },
             "line": {
              "color": "white"
             }
            },
            "type": "table"
           }
          ]
         },
         "layout": {
          "annotationdefaults": {
           "arrowcolor": "#2a3f5f",
           "arrowhead": 0,
           "arrowwidth": 1
          },
          "autotypenumbers": "strict",
          "coloraxis": {
           "colorbar": {
            "outlinewidth": 0,
            "ticks": ""
           }
          },
          "colorscale": {
           "diverging": [
            [
             0,
             "#8e0152"
            ],
            [
             0.1,
             "#c51b7d"
            ],
            [
             0.2,
             "#de77ae"
            ],
            [
             0.3,
             "#f1b6da"
            ],
            [
             0.4,
             "#fde0ef"
            ],
            [
             0.5,
             "#f7f7f7"
            ],
            [
             0.6,
             "#e6f5d0"
            ],
            [
             0.7,
             "#b8e186"
            ],
            [
             0.8,
             "#7fbc41"
            ],
            [
             0.9,
             "#4d9221"
            ],
            [
             1,
             "#276419"
            ]
           ],
           "sequential": [
            [
             0,
             "#0d0887"
            ],
            [
             0.1111111111111111,
             "#46039f"
            ],
            [
             0.2222222222222222,
             "#7201a8"
            ],
            [
             0.3333333333333333,
             "#9c179e"
            ],
            [
             0.4444444444444444,
             "#bd3786"
            ],
            [
             0.5555555555555556,
             "#d8576b"
            ],
            [
             0.6666666666666666,
             "#ed7953"
            ],
            [
             0.7777777777777778,
             "#fb9f3a"
            ],
            [
             0.8888888888888888,
             "#fdca26"
            ],
            [
             1,
             "#f0f921"
            ]
           ],
           "sequentialminus": [
            [
             0,
             "#0d0887"
            ],
            [
             0.1111111111111111,
             "#46039f"
            ],
            [
             0.2222222222222222,
             "#7201a8"
            ],
            [
             0.3333333333333333,
             "#9c179e"
            ],
            [
             0.4444444444444444,
             "#bd3786"
            ],
            [
             0.5555555555555556,
             "#d8576b"
            ],
            [
             0.6666666666666666,
             "#ed7953"
            ],
            [
             0.7777777777777778,
             "#fb9f3a"
            ],
            [
             0.8888888888888888,
             "#fdca26"
            ],
            [
             1,
             "#f0f921"
            ]
           ]
          },
          "colorway": [
           "#636efa",
           "#EF553B",
           "#00cc96",
           "#ab63fa",
           "#FFA15A",
           "#19d3f3",
           "#FF6692",
           "#B6E880",
           "#FF97FF",
           "#FECB52"
          ],
          "font": {
           "color": "#2a3f5f"
          },
          "geo": {
           "bgcolor": "white",
           "lakecolor": "white",
           "landcolor": "#E5ECF6",
           "showlakes": true,
           "showland": true,
           "subunitcolor": "white"
          },
          "hoverlabel": {
           "align": "left"
          },
          "hovermode": "closest",
          "mapbox": {
           "style": "light"
          },
          "paper_bgcolor": "white",
          "plot_bgcolor": "#E5ECF6",
          "polar": {
           "angularaxis": {
            "gridcolor": "white",
            "linecolor": "white",
            "ticks": ""
           },
           "bgcolor": "#E5ECF6",
           "radialaxis": {
            "gridcolor": "white",
            "linecolor": "white",
            "ticks": ""
           }
          },
          "scene": {
           "xaxis": {
            "backgroundcolor": "#E5ECF6",
            "gridcolor": "white",
            "gridwidth": 2,
            "linecolor": "white",
            "showbackground": true,
            "ticks": "",
            "zerolinecolor": "white"
           },
           "yaxis": {
            "backgroundcolor": "#E5ECF6",
            "gridcolor": "white",
            "gridwidth": 2,
            "linecolor": "white",
            "showbackground": true,
            "ticks": "",
            "zerolinecolor": "white"
           },
           "zaxis": {
            "backgroundcolor": "#E5ECF6",
            "gridcolor": "white",
            "gridwidth": 2,
            "linecolor": "white",
            "showbackground": true,
            "ticks": "",
            "zerolinecolor": "white"
           }
          },
          "shapedefaults": {
           "line": {
            "color": "#2a3f5f"
           }
          },
          "ternary": {
           "aaxis": {
            "gridcolor": "white",
            "linecolor": "white",
            "ticks": ""
           },
           "baxis": {
            "gridcolor": "white",
            "linecolor": "white",
            "ticks": ""
           },
           "bgcolor": "#E5ECF6",
           "caxis": {
            "gridcolor": "white",
            "linecolor": "white",
            "ticks": ""
           }
          },
          "title": {
           "x": 0.05
          },
          "xaxis": {
           "automargin": true,
           "gridcolor": "white",
           "linecolor": "white",
           "ticks": "",
           "title": {
            "standoff": 15
           },
           "zerolinecolor": "white",
           "zerolinewidth": 2
          },
          "yaxis": {
           "automargin": true,
           "gridcolor": "white",
           "linecolor": "white",
           "ticks": "",
           "title": {
            "standoff": 15
           },
           "zerolinecolor": "white",
           "zerolinewidth": 2
          }
         }
        },
        "title": {
         "text": "fish and animal"
        },
        "width": 800,
        "xaxis": {
         "anchor": "y",
         "domain": [
          0,
          1
         ],
         "range": [
          0.3,
          1
         ],
         "title": {
          "text": "value"
         }
        },
        "yaxis": {
         "anchor": "x",
         "domain": [
          0,
          1
         ],
         "range": [
          0,
          210
         ],
         "title": {
          "text": "count"
         }
        }
       }
      }
     },
     "metadata": {},
     "output_type": "display_data"
    },
    {
     "data": {
      "application/vnd.plotly.v1+json": {
       "config": {
        "plotlyServerURL": "https://plot.ly"
       },
       "data": [
        {
         "alignmentgroup": "True",
         "bingroup": "x",
         "hovertemplate": "variable=0<br>value=%{x}<br>count=%{y}<extra></extra>",
         "legendgroup": "0",
         "marker": {
          "color": "#636efa",
          "pattern": {
           "shape": ""
          }
         },
         "name": "0",
         "offsetgroup": "0",
         "orientation": "v",
         "showlegend": true,
         "type": "histogram",
         "x": [
          0.9681712881256965,
          0.907827529847729,
          0.9773097115251503,
          0.823081133921559,
          0.9646511016679781,
          0.9773097115251503,
          0.9204506572241556,
          0.7288127746843704,
          0.9681712881256965,
          0.8472338206923719,
          0.9773097115251503,
          0.9773097115251503,
          0.9252191362678828,
          0.9178213835052592,
          0.9681712881256965,
          0.9773097115251503,
          0.9644206298248682,
          0.963104710056873,
          0.9773097115251503,
          0.9681712881256965,
          0.9681712881256965,
          0.8440718083236842,
          0.9681712881256965,
          0.8472338206923719,
          0.963104710056873,
          0.9646511016679781,
          0.9681712881256965,
          0.9681712881256965,
          0.9252191362678828,
          0.948744219432631,
          0.9773097115251503,
          0.8472338206923719,
          0.6622618536522854,
          0.8472338206923719,
          0.9681712881256965,
          0.9681712881256965,
          0.9681712881256965,
          0.9644206298248682,
          0.9644206298248682,
          0.9773097115251503,
          0.9681712881256965,
          0.7294591244676828,
          0.7692921909149062,
          0.9681712881256965,
          0.9644206298248682,
          0.9681712881256965,
          0.7294591244676828,
          0.9107301205740858,
          0.9773097115251503,
          0.9252191362678828,
          0.8295363902717914,
          0.9644206298248682,
          0.9773097115251503,
          0.9681712881256965,
          0.9644206298248682,
          0.9681712881256965,
          0.9681712881256965,
          0.9681712881256965,
          0.9773097115251503,
          0.9773097115251503,
          0.9681712881256965,
          0.9681712881256965,
          0.9113085048842603,
          0.948744219432631,
          0.8703146970589118,
          0.943162197437396,
          0.905700509229715,
          0.9773097115251503,
          0.963104710056873,
          0.9681712881256965,
          0.9773097115251503,
          0.9773097115251503,
          0.9773097115251503,
          0.8703146970589118,
          0.9773097115251503,
          0.9646511016679781,
          0.9646511016679781,
          0.8295363902717914,
          0.9681712881256965,
          0.9681712881256965,
          0.9431083908768438,
          0.4279004778882938,
          0.9681712881256965,
          0.9773097115251503,
          0.9773097115251503,
          0.9681712881256965,
          0.9773097115251503,
          0.727362681100316,
          0.9773097115251503,
          0.9773097115251503,
          0.9644206298248682,
          0.9587665251408413,
          0.9193245768745547,
          0.9681712881256965,
          0.9088512776734489,
          0.8295363902717914,
          0.9773097115251503,
          0.7830148209825761,
          0.9773097115251503,
          0.8220489981034071,
          0.9773097115251503,
          0.9644206298248682,
          0.9681712881256965,
          0.9773097115251503,
          0.9681712881256965,
          0.9681712881256965,
          0.8487147375966996,
          0.9773097115251503,
          0.9773097115251503,
          0.9681712881256965,
          0.9367732763278636,
          0.9193245768745547,
          0.9773097115251503,
          0.9681712881256965,
          0.9681712881256965,
          0.9431083908768438,
          0.9773097115251503,
          0.9773097115251503,
          0.9431083908768438,
          0.9681712881256965,
          0.9681712881256965,
          0.9773097115251503,
          0.9773097115251503,
          0.9773097115251503,
          0.9773097115251503,
          0.9252191362678828,
          0.9681712881256965,
          0.9773097115251503,
          0.9646511016679781,
          0.9644206298248682,
          0.9113085048842603,
          0.9681712881256965,
          0.9681712881256965,
          0.9681712881256965,
          0.9403517000524412,
          0.9773097115251503,
          0.9681712881256965,
          0.79420994591762,
          0.9773097115251503,
          0.9681712881256965,
          0.9681712881256965,
          0.9773097115251503,
          0.8295363902717914,
          0.9088512776734489,
          0.9681712881256965,
          0.9773097115251503,
          0.9681712881256965,
          0.9318947444130055,
          0.9681712881256965,
          0.823081133921559,
          0.9773097115251503,
          0.940714202165318,
          0.9332082956929294,
          0.9773097115251503,
          0.8236717150023144,
          0.9773097115251503,
          0.9644206298248682,
          0.9773097115251503,
          0.9681712881256965,
          0.9773097115251503,
          0.9773097115251503,
          0.9681712881256965,
          0.9681712881256965,
          0.9773097115251503,
          0.9681712881256965,
          0.8472338206923719,
          0.9773097115251503,
          0.9773097115251503,
          0.9681712881256965,
          0.9681712881256965,
          0.835262388765522,
          0.8295363902717914,
          0.9681712881256965,
          0.9681712881256965,
          0.9644206298248682,
          0.9681712881256965,
          0.9773097115251503,
          0.9646511016679781,
          0.9589300872199601,
          0.8460682887874356,
          0.9773097115251503,
          0.9773097115251503,
          0.9773097115251503,
          0.7791706211304784,
          0.9773097115251503,
          0.9644206298248682,
          0.8472338206923719,
          0.9773097115251503,
          0.9681712881256965,
          0.9773097115251503,
          0.9681712881256965,
          0.8627850093480347,
          0.9773097115251503,
          0.7136024842039413,
          0.9681712881256965,
          0.9644206298248682,
          0.9681712881256965,
          0.9773097115251503,
          0.7913372666969382,
          0.9773097115251503,
          0.9773097115251503,
          0.9113085048842603,
          0.8472338206923719,
          0.9773097115251503,
          0.9773097115251503,
          0.9259446837874437,
          0.8846051013831885,
          0.9240042423147898,
          0.9681712881256965,
          0.8295363902717914,
          0.9681712881256965,
          0.9681712881256965,
          0.9644206298248682,
          0.9773097115251503,
          0.7322883956326808,
          0.9681712881256965,
          0.9644206298248682,
          0.943162197437396,
          0.9681712881256965,
          0.8472338206923719,
          0.9681712881256965,
          0.7876612245890282,
          0.8295363902717914,
          0.9367732763278636,
          0.7745568665628473,
          0.9646511016679781,
          0.9773097115251503,
          0.9367732763278636,
          0.9773097115251503,
          0.9681712881256965,
          0.9431083908768438,
          0.7214763444014298,
          0.9644206298248682,
          0.7002613105084501,
          0.8132777308794785,
          0.7692921909149062,
          0.9681712881256965,
          0.7692921909149062,
          0.9403517000524412,
          0.8510147111003017,
          0.9681712881256965,
          0.9773097115251503,
          0.9773097115251503,
          0.9773097115251503,
          0.9773097115251503,
          0.9644206298248682,
          0.8681069604125023,
          0.9773097115251503,
          0.9644206298248682,
          0.9587665251408413,
          0.7692921909149062,
          0.9773097115251503,
          0.9646511016679781,
          0.9681712881256965,
          0.8472338206923719,
          0.9681712881256965,
          0.9773097115251503,
          0.948744219432631,
          0.9773097115251503,
          0.823081133921559,
          0.9773097115251503,
          0.9681712881256965,
          0.9773097115251503,
          0.9681712881256965,
          0.9646511016679781,
          0.9681712881256965,
          0.9773097115251503,
          0.9773097115251503,
          0.9644206298248682,
          0.9681712881256965,
          0.9311187954437601,
          0.9773097115251503,
          0.9644206298248682,
          0.9773097115251503,
          0.9638861735097155,
          0.9773097115251503,
          0.9773097115251503,
          0.9681712881256965,
          0.7876612245890282,
          0.9681712881256965,
          0.9113085048842603,
          0.7692921909149062,
          0.9773097115251503,
          0.9773097115251503,
          0.9681712881256965,
          0.9644206298248682,
          0.9644206298248682,
          0.9773097115251503,
          0.9589300872199601,
          0.9012128592828832,
          0.9644206298248682,
          0.9681712881256965,
          0.9394842809969587,
          0.9773097115251503,
          0.9311187954437601,
          0.9681712881256965,
          0.9681712881256965,
          0.9681712881256965,
          0.9773097115251503,
          0.9681712881256965
         ],
         "xaxis": "x",
         "xbins": {
          "end": 1,
          "size": 0.02,
          "start": 0.3
         },
         "yaxis": "y"
        }
       ],
       "layout": {
        "barmode": "relative",
        "height": 400,
        "legend": {
         "title": {
          "text": "variable"
         },
         "tracegroupgap": 0
        },
        "margin": {
         "t": 60
        },
        "template": {
         "data": {
          "bar": [
           {
            "error_x": {
             "color": "#2a3f5f"
            },
            "error_y": {
             "color": "#2a3f5f"
            },
            "marker": {
             "line": {
              "color": "#E5ECF6",
              "width": 0.5
             },
             "pattern": {
              "fillmode": "overlay",
              "size": 10,
              "solidity": 0.2
             }
            },
            "type": "bar"
           }
          ],
          "barpolar": [
           {
            "marker": {
             "line": {
              "color": "#E5ECF6",
              "width": 0.5
             },
             "pattern": {
              "fillmode": "overlay",
              "size": 10,
              "solidity": 0.2
             }
            },
            "type": "barpolar"
           }
          ],
          "carpet": [
           {
            "aaxis": {
             "endlinecolor": "#2a3f5f",
             "gridcolor": "white",
             "linecolor": "white",
             "minorgridcolor": "white",
             "startlinecolor": "#2a3f5f"
            },
            "baxis": {
             "endlinecolor": "#2a3f5f",
             "gridcolor": "white",
             "linecolor": "white",
             "minorgridcolor": "white",
             "startlinecolor": "#2a3f5f"
            },
            "type": "carpet"
           }
          ],
          "choropleth": [
           {
            "colorbar": {
             "outlinewidth": 0,
             "ticks": ""
            },
            "type": "choropleth"
           }
          ],
          "contour": [
           {
            "colorbar": {
             "outlinewidth": 0,
             "ticks": ""
            },
            "colorscale": [
             [
              0,
              "#0d0887"
             ],
             [
              0.1111111111111111,
              "#46039f"
             ],
             [
              0.2222222222222222,
              "#7201a8"
             ],
             [
              0.3333333333333333,
              "#9c179e"
             ],
             [
              0.4444444444444444,
              "#bd3786"
             ],
             [
              0.5555555555555556,
              "#d8576b"
             ],
             [
              0.6666666666666666,
              "#ed7953"
             ],
             [
              0.7777777777777778,
              "#fb9f3a"
             ],
             [
              0.8888888888888888,
              "#fdca26"
             ],
             [
              1,
              "#f0f921"
             ]
            ],
            "type": "contour"
           }
          ],
          "contourcarpet": [
           {
            "colorbar": {
             "outlinewidth": 0,
             "ticks": ""
            },
            "type": "contourcarpet"
           }
          ],
          "heatmap": [
           {
            "colorbar": {
             "outlinewidth": 0,
             "ticks": ""
            },
            "colorscale": [
             [
              0,
              "#0d0887"
             ],
             [
              0.1111111111111111,
              "#46039f"
             ],
             [
              0.2222222222222222,
              "#7201a8"
             ],
             [
              0.3333333333333333,
              "#9c179e"
             ],
             [
              0.4444444444444444,
              "#bd3786"
             ],
             [
              0.5555555555555556,
              "#d8576b"
             ],
             [
              0.6666666666666666,
              "#ed7953"
             ],
             [
              0.7777777777777778,
              "#fb9f3a"
             ],
             [
              0.8888888888888888,
              "#fdca26"
             ],
             [
              1,
              "#f0f921"
             ]
            ],
            "type": "heatmap"
           }
          ],
          "heatmapgl": [
           {
            "colorbar": {
             "outlinewidth": 0,
             "ticks": ""
            },
            "colorscale": [
             [
              0,
              "#0d0887"
             ],
             [
              0.1111111111111111,
              "#46039f"
             ],
             [
              0.2222222222222222,
              "#7201a8"
             ],
             [
              0.3333333333333333,
              "#9c179e"
             ],
             [
              0.4444444444444444,
              "#bd3786"
             ],
             [
              0.5555555555555556,
              "#d8576b"
             ],
             [
              0.6666666666666666,
              "#ed7953"
             ],
             [
              0.7777777777777778,
              "#fb9f3a"
             ],
             [
              0.8888888888888888,
              "#fdca26"
             ],
             [
              1,
              "#f0f921"
             ]
            ],
            "type": "heatmapgl"
           }
          ],
          "histogram": [
           {
            "marker": {
             "pattern": {
              "fillmode": "overlay",
              "size": 10,
              "solidity": 0.2
             }
            },
            "type": "histogram"
           }
          ],
          "histogram2d": [
           {
            "colorbar": {
             "outlinewidth": 0,
             "ticks": ""
            },
            "colorscale": [
             [
              0,
              "#0d0887"
             ],
             [
              0.1111111111111111,
              "#46039f"
             ],
             [
              0.2222222222222222,
              "#7201a8"
             ],
             [
              0.3333333333333333,
              "#9c179e"
             ],
             [
              0.4444444444444444,
              "#bd3786"
             ],
             [
              0.5555555555555556,
              "#d8576b"
             ],
             [
              0.6666666666666666,
              "#ed7953"
             ],
             [
              0.7777777777777778,
              "#fb9f3a"
             ],
             [
              0.8888888888888888,
              "#fdca26"
             ],
             [
              1,
              "#f0f921"
             ]
            ],
            "type": "histogram2d"
           }
          ],
          "histogram2dcontour": [
           {
            "colorbar": {
             "outlinewidth": 0,
             "ticks": ""
            },
            "colorscale": [
             [
              0,
              "#0d0887"
             ],
             [
              0.1111111111111111,
              "#46039f"
             ],
             [
              0.2222222222222222,
              "#7201a8"
             ],
             [
              0.3333333333333333,
              "#9c179e"
             ],
             [
              0.4444444444444444,
              "#bd3786"
             ],
             [
              0.5555555555555556,
              "#d8576b"
             ],
             [
              0.6666666666666666,
              "#ed7953"
             ],
             [
              0.7777777777777778,
              "#fb9f3a"
             ],
             [
              0.8888888888888888,
              "#fdca26"
             ],
             [
              1,
              "#f0f921"
             ]
            ],
            "type": "histogram2dcontour"
           }
          ],
          "mesh3d": [
           {
            "colorbar": {
             "outlinewidth": 0,
             "ticks": ""
            },
            "type": "mesh3d"
           }
          ],
          "parcoords": [
           {
            "line": {
             "colorbar": {
              "outlinewidth": 0,
              "ticks": ""
             }
            },
            "type": "parcoords"
           }
          ],
          "pie": [
           {
            "automargin": true,
            "type": "pie"
           }
          ],
          "scatter": [
           {
            "fillpattern": {
             "fillmode": "overlay",
             "size": 10,
             "solidity": 0.2
            },
            "type": "scatter"
           }
          ],
          "scatter3d": [
           {
            "line": {
             "colorbar": {
              "outlinewidth": 0,
              "ticks": ""
             }
            },
            "marker": {
             "colorbar": {
              "outlinewidth": 0,
              "ticks": ""
             }
            },
            "type": "scatter3d"
           }
          ],
          "scattercarpet": [
           {
            "marker": {
             "colorbar": {
              "outlinewidth": 0,
              "ticks": ""
             }
            },
            "type": "scattercarpet"
           }
          ],
          "scattergeo": [
           {
            "marker": {
             "colorbar": {
              "outlinewidth": 0,
              "ticks": ""
             }
            },
            "type": "scattergeo"
           }
          ],
          "scattergl": [
           {
            "marker": {
             "colorbar": {
              "outlinewidth": 0,
              "ticks": ""
             }
            },
            "type": "scattergl"
           }
          ],
          "scattermapbox": [
           {
            "marker": {
             "colorbar": {
              "outlinewidth": 0,
              "ticks": ""
             }
            },
            "type": "scattermapbox"
           }
          ],
          "scatterpolar": [
           {
            "marker": {
             "colorbar": {
              "outlinewidth": 0,
              "ticks": ""
             }
            },
            "type": "scatterpolar"
           }
          ],
          "scatterpolargl": [
           {
            "marker": {
             "colorbar": {
              "outlinewidth": 0,
              "ticks": ""
             }
            },
            "type": "scatterpolargl"
           }
          ],
          "scatterternary": [
           {
            "marker": {
             "colorbar": {
              "outlinewidth": 0,
              "ticks": ""
             }
            },
            "type": "scatterternary"
           }
          ],
          "surface": [
           {
            "colorbar": {
             "outlinewidth": 0,
             "ticks": ""
            },
            "colorscale": [
             [
              0,
              "#0d0887"
             ],
             [
              0.1111111111111111,
              "#46039f"
             ],
             [
              0.2222222222222222,
              "#7201a8"
             ],
             [
              0.3333333333333333,
              "#9c179e"
             ],
             [
              0.4444444444444444,
              "#bd3786"
             ],
             [
              0.5555555555555556,
              "#d8576b"
             ],
             [
              0.6666666666666666,
              "#ed7953"
             ],
             [
              0.7777777777777778,
              "#fb9f3a"
             ],
             [
              0.8888888888888888,
              "#fdca26"
             ],
             [
              1,
              "#f0f921"
             ]
            ],
            "type": "surface"
           }
          ],
          "table": [
           {
            "cells": {
             "fill": {
              "color": "#EBF0F8"
             },
             "line": {
              "color": "white"
             }
            },
            "header": {
             "fill": {
              "color": "#C8D4E3"
             },
             "line": {
              "color": "white"
             }
            },
            "type": "table"
           }
          ]
         },
         "layout": {
          "annotationdefaults": {
           "arrowcolor": "#2a3f5f",
           "arrowhead": 0,
           "arrowwidth": 1
          },
          "autotypenumbers": "strict",
          "coloraxis": {
           "colorbar": {
            "outlinewidth": 0,
            "ticks": ""
           }
          },
          "colorscale": {
           "diverging": [
            [
             0,
             "#8e0152"
            ],
            [
             0.1,
             "#c51b7d"
            ],
            [
             0.2,
             "#de77ae"
            ],
            [
             0.3,
             "#f1b6da"
            ],
            [
             0.4,
             "#fde0ef"
            ],
            [
             0.5,
             "#f7f7f7"
            ],
            [
             0.6,
             "#e6f5d0"
            ],
            [
             0.7,
             "#b8e186"
            ],
            [
             0.8,
             "#7fbc41"
            ],
            [
             0.9,
             "#4d9221"
            ],
            [
             1,
             "#276419"
            ]
           ],
           "sequential": [
            [
             0,
             "#0d0887"
            ],
            [
             0.1111111111111111,
             "#46039f"
            ],
            [
             0.2222222222222222,
             "#7201a8"
            ],
            [
             0.3333333333333333,
             "#9c179e"
            ],
            [
             0.4444444444444444,
             "#bd3786"
            ],
            [
             0.5555555555555556,
             "#d8576b"
            ],
            [
             0.6666666666666666,
             "#ed7953"
            ],
            [
             0.7777777777777778,
             "#fb9f3a"
            ],
            [
             0.8888888888888888,
             "#fdca26"
            ],
            [
             1,
             "#f0f921"
            ]
           ],
           "sequentialminus": [
            [
             0,
             "#0d0887"
            ],
            [
             0.1111111111111111,
             "#46039f"
            ],
            [
             0.2222222222222222,
             "#7201a8"
            ],
            [
             0.3333333333333333,
             "#9c179e"
            ],
            [
             0.4444444444444444,
             "#bd3786"
            ],
            [
             0.5555555555555556,
             "#d8576b"
            ],
            [
             0.6666666666666666,
             "#ed7953"
            ],
            [
             0.7777777777777778,
             "#fb9f3a"
            ],
            [
             0.8888888888888888,
             "#fdca26"
            ],
            [
             1,
             "#f0f921"
            ]
           ]
          },
          "colorway": [
           "#636efa",
           "#EF553B",
           "#00cc96",
           "#ab63fa",
           "#FFA15A",
           "#19d3f3",
           "#FF6692",
           "#B6E880",
           "#FF97FF",
           "#FECB52"
          ],
          "font": {
           "color": "#2a3f5f"
          },
          "geo": {
           "bgcolor": "white",
           "lakecolor": "white",
           "landcolor": "#E5ECF6",
           "showlakes": true,
           "showland": true,
           "subunitcolor": "white"
          },
          "hoverlabel": {
           "align": "left"
          },
          "hovermode": "closest",
          "mapbox": {
           "style": "light"
          },
          "paper_bgcolor": "white",
          "plot_bgcolor": "#E5ECF6",
          "polar": {
           "angularaxis": {
            "gridcolor": "white",
            "linecolor": "white",
            "ticks": ""
           },
           "bgcolor": "#E5ECF6",
           "radialaxis": {
            "gridcolor": "white",
            "linecolor": "white",
            "ticks": ""
           }
          },
          "scene": {
           "xaxis": {
            "backgroundcolor": "#E5ECF6",
            "gridcolor": "white",
            "gridwidth": 2,
            "linecolor": "white",
            "showbackground": true,
            "ticks": "",
            "zerolinecolor": "white"
           },
           "yaxis": {
            "backgroundcolor": "#E5ECF6",
            "gridcolor": "white",
            "gridwidth": 2,
            "linecolor": "white",
            "showbackground": true,
            "ticks": "",
            "zerolinecolor": "white"
           },
           "zaxis": {
            "backgroundcolor": "#E5ECF6",
            "gridcolor": "white",
            "gridwidth": 2,
            "linecolor": "white",
            "showbackground": true,
            "ticks": "",
            "zerolinecolor": "white"
           }
          },
          "shapedefaults": {
           "line": {
            "color": "#2a3f5f"
           }
          },
          "ternary": {
           "aaxis": {
            "gridcolor": "white",
            "linecolor": "white",
            "ticks": ""
           },
           "baxis": {
            "gridcolor": "white",
            "linecolor": "white",
            "ticks": ""
           },
           "bgcolor": "#E5ECF6",
           "caxis": {
            "gridcolor": "white",
            "linecolor": "white",
            "ticks": ""
           }
          },
          "title": {
           "x": 0.05
          },
          "xaxis": {
           "automargin": true,
           "gridcolor": "white",
           "linecolor": "white",
           "ticks": "",
           "title": {
            "standoff": 15
           },
           "zerolinecolor": "white",
           "zerolinewidth": 2
          },
          "yaxis": {
           "automargin": true,
           "gridcolor": "white",
           "linecolor": "white",
           "ticks": "",
           "title": {
            "standoff": 15
           },
           "zerolinecolor": "white",
           "zerolinewidth": 2
          }
         }
        },
        "title": {
         "text": "fish and animals in water"
        },
        "width": 800,
        "xaxis": {
         "anchor": "y",
         "domain": [
          0,
          1
         ],
         "range": [
          0.3,
          1
         ],
         "title": {
          "text": "value"
         }
        },
        "yaxis": {
         "anchor": "x",
         "domain": [
          0,
          1
         ],
         "range": [
          0,
          210
         ],
         "title": {
          "text": "count"
         }
        }
       }
      }
     },
     "metadata": {},
     "output_type": "display_data"
    },
    {
     "data": {
      "application/vnd.plotly.v1+json": {
       "config": {
        "plotlyServerURL": "https://plot.ly"
       },
       "data": [
        {
         "alignmentgroup": "True",
         "bingroup": "x",
         "hovertemplate": "variable=0<br>value=%{x}<br>count=%{y}<extra></extra>",
         "legendgroup": "0",
         "marker": {
          "color": "#636efa",
          "pattern": {
           "shape": ""
          }
         },
         "name": "0",
         "offsetgroup": "0",
         "orientation": "v",
         "showlegend": true,
         "type": "histogram",
         "x": [
          0.9511650683949889,
          0.9229098707119628,
          0.9064226463102079,
          0.6968809073566403,
          0.8860945686763868,
          0.9233437736114185,
          0.9153732769651113,
          0.963083454948588,
          0.9281720937345354,
          0.7914673089176041,
          0.7394741529904681,
          0.8660579127924763,
          0.8415345356599768,
          0.8095353960669049,
          0.8511890464964446,
          0.8860945686763868,
          0.9281720937345354,
          0.9594919125730352,
          0.9263747486469661,
          0.8907936619471196,
          0.8555469622426158,
          0.7392906723423378,
          0.905476234789598,
          0.963083454948588,
          0.924196032809987,
          0.9594919125730352,
          0.9369791934299698,
          0.820510345591237,
          0.7206204718179036,
          0.9128030126940534,
          0.8869596531232673,
          0.8898552715300629,
          0.9331416576058318,
          0.8415345356599768,
          0.8907936619471196,
          0.963083454948588,
          0.9002129414346486,
          0.7113824535700449,
          0.9186672426526067,
          0.9369791934299698,
          0.8884750312931725,
          0.9369791934299698,
          0.8181188893086742,
          0.8927853698849616,
          0.9369791934299698,
          0.9369791934299698,
          0.8476193167840692,
          0.90618785096284,
          0.8470850810837957,
          0.9190766649171531,
          0.8643253629549736,
          0.9512239650562845,
          0.8188306209459559,
          0.8983940161297801,
          0.9479841925770487,
          0.9081074020155113,
          0.8426055327985229,
          0.9398729740797532,
          0.8889889751441041,
          0.9594919125730352,
          0.8780352231688857,
          0.8997959859054491,
          0.8973675382483278,
          0.8797717610610277,
          0.9064226463102079,
          0.9263747486469661,
          0.7678872575005092,
          0.8911516515627504,
          0.8433044385045053,
          0.9355697507512964,
          0.9351782594884726,
          0.9491127346385656,
          0.9406275245399047,
          0.9281720937345354,
          0.8410017609559554,
          0.9351492636891072,
          0.8938760783714207,
          0.734529485207556,
          0.9064226463102079,
          0.9068659214799949,
          0.9369791934299698,
          0.9369791934299698,
          0.9342276797664752,
          0.9195119548292967,
          0.6793464898510793,
          0.8060872547757731,
          0.8943064592020821,
          0.6348401201633883,
          0.9369791934299698,
          0.7392906723423378,
          0.9369791934299698,
          0.9356032776428259,
          0.9369791934299698,
          0.8535788007799965,
          0.8646962707716268,
          0.8987513193429498,
          0.9540028649733114,
          0.9511650683949889,
          0.8592182615619792,
          0.8270130314457281,
          0.9331416576058318,
          0.9331416576058318,
          0.7993653280345278,
          0.9096997798221008,
          0.8651025184882217,
          0.911853284701804,
          0.9351492636891072,
          0.9351782594884726,
          0.9230339909537326,
          0.963083454948588,
          0.9081074020155113,
          0.8898552715300629,
          0.9594919125730352,
          0.8862530472347042,
          0.9128030126940534,
          0.9265408541216392,
          0.9535811481623591,
          0.8502623800849344,
          0.8531742046095233,
          0.9448478128701621,
          0.9512239650562845,
          0.9721628764375759,
          0.9369791934299698,
          0.9064226463102079,
          0.7993653280345278,
          0.8420951427901248,
          0.9275910197654754,
          0.911853284701804,
          0.8907936619471196,
          0.8535788007799965,
          0.9185027895846715,
          0.9384926375153385,
          0.9369791934299698,
          0.7993653280345278,
          0.8653595658172786,
          0.8535788007799965,
          0.8907936619471196,
          0.8199699443421246,
          0.9128030126940534,
          0.963083454948588,
          0.9479841925770487,
          0.8955783281746174,
          0.9369791934299698,
          0.9369791934299698,
          0.8209245276139838,
          0.8209245276139838,
          0.6764325133116632,
          0.9369791934299698,
          0.9128030126940534,
          0.8860945686763868,
          0.898689541525565,
          0.9594919125730352,
          0.9657428157581686,
          0.9612446214475717,
          0.963083454948588,
          0.7263990843036195,
          0.8623186199388146,
          0.9369791934299698,
          0.9237933260171548,
          0.9064226463102079,
          0.8889889751441041,
          0.8860945686763868,
          0.8531742046095233,
          0.9064226463102079,
          0.9511650683949889,
          0.8535788007799965,
          0.801313269718016,
          0.8860945686763868,
          0.886646763808689,
          0.8998648642212863,
          0.9190766649171531,
          0.9369791934299698,
          0.9351782594884726,
          0.9356032776428259,
          0.9108560003212682,
          0.8907936619471196,
          0.9384913809146811,
          0.873783278945941,
          0.9369791934299698,
          0.889888376830937,
          0.9229098707119628,
          0.963083454948588,
          0.9398729575291559,
          0.9369791934299698,
          0.9513480015089635,
          0.9128030126940534,
          0.6069862470267159,
          0.8847009366804717,
          0.8987513193429498,
          0.963083454948588,
          0.8478104124910766,
          0.8953520866176966,
          0.9233437736114185,
          0.9512239650562845,
          0.9398729740797532,
          0.800798716932703,
          0.9353932701063578,
          0.9351782594884726,
          0.9369791934299698,
          0.963083454948588,
          0.9406275245399047,
          0.9243327038817529,
          0.8860945686763868,
          0.911853284701804,
          0.7993653280345278,
          0.9369791934299698,
          0.9167137109288064,
          0.8301258146293254,
          0.9281720937345354,
          0.9239116812138584,
          0.8114323512292478,
          0.911853284701804,
          0.8326617833014045,
          0.77543780761533,
          0.9594919125730352,
          0.8889889751441041,
          0.8860945686763868,
          0.8907936619471196,
          0.9157965460882507,
          0.8531742046095233,
          0.8860810345650998,
          0.9512239650562845,
          0.9263747486469661,
          0.8528026930440072,
          0.8860945686763868,
          0.8812475414189386,
          0.8898552715300629,
          0.8979848534144469,
          0.963083454948588,
          0.8860945686763868,
          0.8698313181652534,
          0.9369791934299698,
          0.8469354657499087,
          0.7206204718179036,
          0.9342276797664752,
          0.5199470535789217,
          0.963083454948588,
          0.8521006994873409,
          0.7417378528873692,
          0.9352668765211521,
          0.8444160422740038,
          0.8564559453047332,
          0.8979848534144469,
          0.8927582512413128,
          0.8898552715300629,
          0.963083454948588,
          0.9351782594884726,
          0.7179029236496735,
          0.8898552715300629,
          0.9157965460882507,
          0.9186475750640977,
          0.9594919125730352,
          0.9343241589290279,
          0.9076917251637826,
          0.9570785952221531,
          0.9351492636891072,
          0.9578516681101639,
          0.911853284701804,
          0.8860945686763868,
          0.9594919125730352,
          0.9331416576058318,
          0.814202426576735,
          0.8535788007799965,
          0.9354906832732668,
          0.9369791934299698,
          0.9594919125730352,
          0.9167137109288064,
          0.9655271362987186,
          0.8860945686763868,
          0.8270302079052165,
          0.9594919125730352,
          0.8736836860743504,
          0.9355697507512964,
          0.9369791934299698,
          0.9369791934299698,
          0.7392906723423378,
          0.9610519969613359,
          0.9351782594884726,
          0.9369791934299698,
          0.6348401201633883,
          0.9403050336119805,
          0.9369791934299698,
          0.8860945686763868,
          0.9594919125730352,
          0.9512239650562845,
          0.9013405841516592,
          0.8585765992715209,
          0.9128030126940534,
          0.5999604969434803,
          0.9369791934299698,
          0.9064226463102079,
          0.9540028649733114,
          0.9351782594884726,
          0.9594919125730352,
          0.911853284701804,
          0.8266194958460598,
          0.7373745718219784,
          0.9351782594884726,
          0.9238922562326561,
          0.9594919125730352
         ],
         "xaxis": "x",
         "xbins": {
          "end": 1,
          "size": 0.02,
          "start": 0.3
         },
         "yaxis": "y"
        }
       ],
       "layout": {
        "barmode": "relative",
        "height": 400,
        "legend": {
         "title": {
          "text": "variable"
         },
         "tracegroupgap": 0
        },
        "margin": {
         "t": 60
        },
        "template": {
         "data": {
          "bar": [
           {
            "error_x": {
             "color": "#2a3f5f"
            },
            "error_y": {
             "color": "#2a3f5f"
            },
            "marker": {
             "line": {
              "color": "#E5ECF6",
              "width": 0.5
             },
             "pattern": {
              "fillmode": "overlay",
              "size": 10,
              "solidity": 0.2
             }
            },
            "type": "bar"
           }
          ],
          "barpolar": [
           {
            "marker": {
             "line": {
              "color": "#E5ECF6",
              "width": 0.5
             },
             "pattern": {
              "fillmode": "overlay",
              "size": 10,
              "solidity": 0.2
             }
            },
            "type": "barpolar"
           }
          ],
          "carpet": [
           {
            "aaxis": {
             "endlinecolor": "#2a3f5f",
             "gridcolor": "white",
             "linecolor": "white",
             "minorgridcolor": "white",
             "startlinecolor": "#2a3f5f"
            },
            "baxis": {
             "endlinecolor": "#2a3f5f",
             "gridcolor": "white",
             "linecolor": "white",
             "minorgridcolor": "white",
             "startlinecolor": "#2a3f5f"
            },
            "type": "carpet"
           }
          ],
          "choropleth": [
           {
            "colorbar": {
             "outlinewidth": 0,
             "ticks": ""
            },
            "type": "choropleth"
           }
          ],
          "contour": [
           {
            "colorbar": {
             "outlinewidth": 0,
             "ticks": ""
            },
            "colorscale": [
             [
              0,
              "#0d0887"
             ],
             [
              0.1111111111111111,
              "#46039f"
             ],
             [
              0.2222222222222222,
              "#7201a8"
             ],
             [
              0.3333333333333333,
              "#9c179e"
             ],
             [
              0.4444444444444444,
              "#bd3786"
             ],
             [
              0.5555555555555556,
              "#d8576b"
             ],
             [
              0.6666666666666666,
              "#ed7953"
             ],
             [
              0.7777777777777778,
              "#fb9f3a"
             ],
             [
              0.8888888888888888,
              "#fdca26"
             ],
             [
              1,
              "#f0f921"
             ]
            ],
            "type": "contour"
           }
          ],
          "contourcarpet": [
           {
            "colorbar": {
             "outlinewidth": 0,
             "ticks": ""
            },
            "type": "contourcarpet"
           }
          ],
          "heatmap": [
           {
            "colorbar": {
             "outlinewidth": 0,
             "ticks": ""
            },
            "colorscale": [
             [
              0,
              "#0d0887"
             ],
             [
              0.1111111111111111,
              "#46039f"
             ],
             [
              0.2222222222222222,
              "#7201a8"
             ],
             [
              0.3333333333333333,
              "#9c179e"
             ],
             [
              0.4444444444444444,
              "#bd3786"
             ],
             [
              0.5555555555555556,
              "#d8576b"
             ],
             [
              0.6666666666666666,
              "#ed7953"
             ],
             [
              0.7777777777777778,
              "#fb9f3a"
             ],
             [
              0.8888888888888888,
              "#fdca26"
             ],
             [
              1,
              "#f0f921"
             ]
            ],
            "type": "heatmap"
           }
          ],
          "heatmapgl": [
           {
            "colorbar": {
             "outlinewidth": 0,
             "ticks": ""
            },
            "colorscale": [
             [
              0,
              "#0d0887"
             ],
             [
              0.1111111111111111,
              "#46039f"
             ],
             [
              0.2222222222222222,
              "#7201a8"
             ],
             [
              0.3333333333333333,
              "#9c179e"
             ],
             [
              0.4444444444444444,
              "#bd3786"
             ],
             [
              0.5555555555555556,
              "#d8576b"
             ],
             [
              0.6666666666666666,
              "#ed7953"
             ],
             [
              0.7777777777777778,
              "#fb9f3a"
             ],
             [
              0.8888888888888888,
              "#fdca26"
             ],
             [
              1,
              "#f0f921"
             ]
            ],
            "type": "heatmapgl"
           }
          ],
          "histogram": [
           {
            "marker": {
             "pattern": {
              "fillmode": "overlay",
              "size": 10,
              "solidity": 0.2
             }
            },
            "type": "histogram"
           }
          ],
          "histogram2d": [
           {
            "colorbar": {
             "outlinewidth": 0,
             "ticks": ""
            },
            "colorscale": [
             [
              0,
              "#0d0887"
             ],
             [
              0.1111111111111111,
              "#46039f"
             ],
             [
              0.2222222222222222,
              "#7201a8"
             ],
             [
              0.3333333333333333,
              "#9c179e"
             ],
             [
              0.4444444444444444,
              "#bd3786"
             ],
             [
              0.5555555555555556,
              "#d8576b"
             ],
             [
              0.6666666666666666,
              "#ed7953"
             ],
             [
              0.7777777777777778,
              "#fb9f3a"
             ],
             [
              0.8888888888888888,
              "#fdca26"
             ],
             [
              1,
              "#f0f921"
             ]
            ],
            "type": "histogram2d"
           }
          ],
          "histogram2dcontour": [
           {
            "colorbar": {
             "outlinewidth": 0,
             "ticks": ""
            },
            "colorscale": [
             [
              0,
              "#0d0887"
             ],
             [
              0.1111111111111111,
              "#46039f"
             ],
             [
              0.2222222222222222,
              "#7201a8"
             ],
             [
              0.3333333333333333,
              "#9c179e"
             ],
             [
              0.4444444444444444,
              "#bd3786"
             ],
             [
              0.5555555555555556,
              "#d8576b"
             ],
             [
              0.6666666666666666,
              "#ed7953"
             ],
             [
              0.7777777777777778,
              "#fb9f3a"
             ],
             [
              0.8888888888888888,
              "#fdca26"
             ],
             [
              1,
              "#f0f921"
             ]
            ],
            "type": "histogram2dcontour"
           }
          ],
          "mesh3d": [
           {
            "colorbar": {
             "outlinewidth": 0,
             "ticks": ""
            },
            "type": "mesh3d"
           }
          ],
          "parcoords": [
           {
            "line": {
             "colorbar": {
              "outlinewidth": 0,
              "ticks": ""
             }
            },
            "type": "parcoords"
           }
          ],
          "pie": [
           {
            "automargin": true,
            "type": "pie"
           }
          ],
          "scatter": [
           {
            "fillpattern": {
             "fillmode": "overlay",
             "size": 10,
             "solidity": 0.2
            },
            "type": "scatter"
           }
          ],
          "scatter3d": [
           {
            "line": {
             "colorbar": {
              "outlinewidth": 0,
              "ticks": ""
             }
            },
            "marker": {
             "colorbar": {
              "outlinewidth": 0,
              "ticks": ""
             }
            },
            "type": "scatter3d"
           }
          ],
          "scattercarpet": [
           {
            "marker": {
             "colorbar": {
              "outlinewidth": 0,
              "ticks": ""
             }
            },
            "type": "scattercarpet"
           }
          ],
          "scattergeo": [
           {
            "marker": {
             "colorbar": {
              "outlinewidth": 0,
              "ticks": ""
             }
            },
            "type": "scattergeo"
           }
          ],
          "scattergl": [
           {
            "marker": {
             "colorbar": {
              "outlinewidth": 0,
              "ticks": ""
             }
            },
            "type": "scattergl"
           }
          ],
          "scattermapbox": [
           {
            "marker": {
             "colorbar": {
              "outlinewidth": 0,
              "ticks": ""
             }
            },
            "type": "scattermapbox"
           }
          ],
          "scatterpolar": [
           {
            "marker": {
             "colorbar": {
              "outlinewidth": 0,
              "ticks": ""
             }
            },
            "type": "scatterpolar"
           }
          ],
          "scatterpolargl": [
           {
            "marker": {
             "colorbar": {
              "outlinewidth": 0,
              "ticks": ""
             }
            },
            "type": "scatterpolargl"
           }
          ],
          "scatterternary": [
           {
            "marker": {
             "colorbar": {
              "outlinewidth": 0,
              "ticks": ""
             }
            },
            "type": "scatterternary"
           }
          ],
          "surface": [
           {
            "colorbar": {
             "outlinewidth": 0,
             "ticks": ""
            },
            "colorscale": [
             [
              0,
              "#0d0887"
             ],
             [
              0.1111111111111111,
              "#46039f"
             ],
             [
              0.2222222222222222,
              "#7201a8"
             ],
             [
              0.3333333333333333,
              "#9c179e"
             ],
             [
              0.4444444444444444,
              "#bd3786"
             ],
             [
              0.5555555555555556,
              "#d8576b"
             ],
             [
              0.6666666666666666,
              "#ed7953"
             ],
             [
              0.7777777777777778,
              "#fb9f3a"
             ],
             [
              0.8888888888888888,
              "#fdca26"
             ],
             [
              1,
              "#f0f921"
             ]
            ],
            "type": "surface"
           }
          ],
          "table": [
           {
            "cells": {
             "fill": {
              "color": "#EBF0F8"
             },
             "line": {
              "color": "white"
             }
            },
            "header": {
             "fill": {
              "color": "#C8D4E3"
             },
             "line": {
              "color": "white"
             }
            },
            "type": "table"
           }
          ]
         },
         "layout": {
          "annotationdefaults": {
           "arrowcolor": "#2a3f5f",
           "arrowhead": 0,
           "arrowwidth": 1
          },
          "autotypenumbers": "strict",
          "coloraxis": {
           "colorbar": {
            "outlinewidth": 0,
            "ticks": ""
           }
          },
          "colorscale": {
           "diverging": [
            [
             0,
             "#8e0152"
            ],
            [
             0.1,
             "#c51b7d"
            ],
            [
             0.2,
             "#de77ae"
            ],
            [
             0.3,
             "#f1b6da"
            ],
            [
             0.4,
             "#fde0ef"
            ],
            [
             0.5,
             "#f7f7f7"
            ],
            [
             0.6,
             "#e6f5d0"
            ],
            [
             0.7,
             "#b8e186"
            ],
            [
             0.8,
             "#7fbc41"
            ],
            [
             0.9,
             "#4d9221"
            ],
            [
             1,
             "#276419"
            ]
           ],
           "sequential": [
            [
             0,
             "#0d0887"
            ],
            [
             0.1111111111111111,
             "#46039f"
            ],
            [
             0.2222222222222222,
             "#7201a8"
            ],
            [
             0.3333333333333333,
             "#9c179e"
            ],
            [
             0.4444444444444444,
             "#bd3786"
            ],
            [
             0.5555555555555556,
             "#d8576b"
            ],
            [
             0.6666666666666666,
             "#ed7953"
            ],
            [
             0.7777777777777778,
             "#fb9f3a"
            ],
            [
             0.8888888888888888,
             "#fdca26"
            ],
            [
             1,
             "#f0f921"
            ]
           ],
           "sequentialminus": [
            [
             0,
             "#0d0887"
            ],
            [
             0.1111111111111111,
             "#46039f"
            ],
            [
             0.2222222222222222,
             "#7201a8"
            ],
            [
             0.3333333333333333,
             "#9c179e"
            ],
            [
             0.4444444444444444,
             "#bd3786"
            ],
            [
             0.5555555555555556,
             "#d8576b"
            ],
            [
             0.6666666666666666,
             "#ed7953"
            ],
            [
             0.7777777777777778,
             "#fb9f3a"
            ],
            [
             0.8888888888888888,
             "#fdca26"
            ],
            [
             1,
             "#f0f921"
            ]
           ]
          },
          "colorway": [
           "#636efa",
           "#EF553B",
           "#00cc96",
           "#ab63fa",
           "#FFA15A",
           "#19d3f3",
           "#FF6692",
           "#B6E880",
           "#FF97FF",
           "#FECB52"
          ],
          "font": {
           "color": "#2a3f5f"
          },
          "geo": {
           "bgcolor": "white",
           "lakecolor": "white",
           "landcolor": "#E5ECF6",
           "showlakes": true,
           "showland": true,
           "subunitcolor": "white"
          },
          "hoverlabel": {
           "align": "left"
          },
          "hovermode": "closest",
          "mapbox": {
           "style": "light"
          },
          "paper_bgcolor": "white",
          "plot_bgcolor": "#E5ECF6",
          "polar": {
           "angularaxis": {
            "gridcolor": "white",
            "linecolor": "white",
            "ticks": ""
           },
           "bgcolor": "#E5ECF6",
           "radialaxis": {
            "gridcolor": "white",
            "linecolor": "white",
            "ticks": ""
           }
          },
          "scene": {
           "xaxis": {
            "backgroundcolor": "#E5ECF6",
            "gridcolor": "white",
            "gridwidth": 2,
            "linecolor": "white",
            "showbackground": true,
            "ticks": "",
            "zerolinecolor": "white"
           },
           "yaxis": {
            "backgroundcolor": "#E5ECF6",
            "gridcolor": "white",
            "gridwidth": 2,
            "linecolor": "white",
            "showbackground": true,
            "ticks": "",
            "zerolinecolor": "white"
           },
           "zaxis": {
            "backgroundcolor": "#E5ECF6",
            "gridcolor": "white",
            "gridwidth": 2,
            "linecolor": "white",
            "showbackground": true,
            "ticks": "",
            "zerolinecolor": "white"
           }
          },
          "shapedefaults": {
           "line": {
            "color": "#2a3f5f"
           }
          },
          "ternary": {
           "aaxis": {
            "gridcolor": "white",
            "linecolor": "white",
            "ticks": ""
           },
           "baxis": {
            "gridcolor": "white",
            "linecolor": "white",
            "ticks": ""
           },
           "bgcolor": "#E5ECF6",
           "caxis": {
            "gridcolor": "white",
            "linecolor": "white",
            "ticks": ""
           }
          },
          "title": {
           "x": 0.05
          },
          "xaxis": {
           "automargin": true,
           "gridcolor": "white",
           "linecolor": "white",
           "ticks": "",
           "title": {
            "standoff": 15
           },
           "zerolinecolor": "white",
           "zerolinewidth": 2
          },
          "yaxis": {
           "automargin": true,
           "gridcolor": "white",
           "linecolor": "white",
           "ticks": "",
           "title": {
            "standoff": 15
           },
           "zerolinecolor": "white",
           "zerolinewidth": 2
          }
         }
        },
        "title": {
         "text": "salmon and animals in water"
        },
        "width": 800,
        "xaxis": {
         "anchor": "y",
         "domain": [
          0,
          1
         ],
         "range": [
          0.3,
          1
         ],
         "title": {
          "text": "value"
         }
        },
        "yaxis": {
         "anchor": "x",
         "domain": [
          0,
          1
         ],
         "range": [
          0,
          210
         ],
         "title": {
          "text": "count"
         }
        }
       }
      }
     },
     "metadata": {},
     "output_type": "display_data"
    },
    {
     "data": {
      "application/vnd.plotly.v1+json": {
       "config": {
        "plotlyServerURL": "https://plot.ly"
       },
       "data": [
        {
         "alignmentgroup": "True",
         "bingroup": "x",
         "hovertemplate": "variable=0<br>value=%{x}<br>count=%{y}<extra></extra>",
         "legendgroup": "0",
         "marker": {
          "color": "#636efa",
          "pattern": {
           "shape": ""
          }
         },
         "name": "0",
         "offsetgroup": "0",
         "orientation": "v",
         "showlegend": true,
         "type": "histogram",
         "x": [
          0.8658710365047743,
          0.9126091009741613,
          0.9190420734492801,
          0.9010348017483396,
          0.8382609253439585,
          0.8476789160727525,
          0.894303993891367,
          0.8404044395390263,
          0.878415247250969,
          0.9405695902282569,
          0.9391229774697324,
          0.7987307995777988,
          0.8883720061576947,
          0.7940130075388394,
          0.882129146266177,
          0.9297090935740686,
          0.8381888354514876,
          0.8615820362521025,
          0.918666211921859,
          0.9190591639921876,
          0.9507063761760371,
          0.8948799789119287,
          0.8382609253439585,
          0.9126091009741613,
          0.9283044140589318,
          0.771486722706183,
          0.809388947169433,
          0.7867150007451819,
          0.7090408146054702,
          0.771486722706183,
          0.8990957001244563,
          0.8916682572165071,
          0.8677156243636819,
          0.7292212874242536,
          0.904810164396644,
          0.8881810395195752,
          0.866245736655882,
          0.915797664214074,
          0.9217590475078589,
          0.833775482977765,
          0.6122923040992606,
          0.66999403715201,
          0.8571268308819592,
          0.828056734298575,
          0.8772525518707336,
          0.866245736655882,
          0.8631537255640633,
          0.7170855448293921,
          0.8726116808609458,
          0.853463984205449,
          0.8847599279315098,
          0.8809484672757562,
          0.8458200437121455,
          0.8948799789119287,
          0.8270324826106208,
          0.894303993891367,
          0.8186886584953764,
          0.9129956726496874,
          0.8132417718235655,
          0.7729625497224423,
          0.8767880844783646,
          0.8894167815603005,
          0.8356353266053874,
          0.8767880844783646,
          0.9406216472106047,
          0.8216616343412035,
          0.7642181531106337,
          0.771486722706183,
          0.9110089033918971,
          0.9197049547424198,
          0.9352064767612238,
          0.904554857617213,
          0.9010348017483396,
          0.8894167815603005,
          0.7465737462404015,
          0.8398704077508081,
          0.7875219156400544,
          0.7549165728733628,
          0.8894167815603005,
          0.6328385556487113,
          0.8382609253439585,
          0.9297090935740686,
          0.9067358183167167,
          0.8739472257215195,
          0.9110089033918971,
          0.7805020478246203,
          0.8867271549749539,
          0.9038653171576879,
          0.8992209346994019,
          0.894303993891367,
          0.894303993891367,
          0.8050111892455868,
          0.8886781126274284,
          0.8881182273195676,
          0.7170855448293921,
          0.8524414225334804,
          0.8554328466387745,
          0.894303993891367,
          0.9425800593691341,
          0.6122923040992606,
          0.8894167815603005,
          0.836354944896909,
          0.9176566646133067,
          0.9038653171576879,
          0.8878522005150804,
          0.8554966912147335,
          0.8636866235279653,
          0.8620148584375247,
          0.8883720061576947,
          0.828056734298575,
          0.8948799789119287,
          0.8967038231772975,
          0.8536017911500376,
          0.894303993891367,
          0.7555604978884451,
          0.8597223849380244,
          0.8908743203930781,
          0.8768740350012512,
          0.8671955632973466,
          0.8791553214434751,
          0.7598053811702877,
          0.894303993891367,
          0.8498387958135523,
          0.8883720061576947,
          0.727695672078901,
          0.9217590475078589,
          0.8404044395390263,
          0.869346135157962,
          0.809388947169433,
          0.878594854434339,
          0.894303993891367,
          0.8948799789119287,
          0.8896817498424399,
          0.8893766423515348,
          0.8276580565352034,
          0.8883720061576947,
          0.859466553121631,
          0.8767880844783646,
          0.894303993891367,
          0.9098865715606141,
          0.9253758196658024,
          0.771486722706183,
          0.8819277154668417,
          0.8739472257215195,
          0.8339448718202872,
          0.8804584444600242,
          0.8899425681681178,
          0.894303993891367,
          0.8382609253439585,
          0.9152674940871236,
          0.8533699061529393,
          0.8906808930332181,
          0.9297090935740686,
          0.771486722706183,
          0.8382609253439585,
          0.7302814614423018,
          0.7020054800005315,
          0.8787885001044253,
          0.8939402659764628,
          0.7939655075872063,
          0.8524251952647353,
          0.5423542380348642,
          0.8403169959293726,
          0.894303993891367,
          0.8714016018281178,
          0.9038653171576879,
          0.9429869086033129,
          0.91582754938496,
          0.8948799789119287,
          0.894303993891367,
          0.9043855379214747,
          0.8967038326966519,
          0.9110089033918971,
          0.9345497819115851,
          0.9043855379214747,
          0.8881182273195676,
          0.9042190966595818,
          0.8665524595337302,
          0.8440264067166117,
          0.8382609253439585,
          0.771486722706183,
          0.8620148584375247,
          0.8486725520052482,
          0.771486722706183,
          0.8388932370775458,
          0.859673646043888,
          0.9064809653599382,
          0.8415292246814573,
          0.8826647255241961,
          0.8451293535863471,
          0.8894167815603005,
          0.7776771959394693,
          0.9051608615720211,
          0.9152352098354011,
          0.7068583554160022,
          0.9110089033918971,
          0.894303993891367,
          0.8893766423515348,
          0.8401099409367957,
          0.7818530102759651,
          0.8955414889028014,
          0.8894167815603005,
          0.8992209346994019,
          0.771486722706183,
          0.8894167815603005,
          0.8890020992029773,
          0.8164927669444754,
          0.8714016018281178,
          0.8714016018281178,
          0.9197049547424198,
          0.8516060818897301,
          0.9126091009741613,
          0.904810164396644,
          0.788498182666095,
          0.8382609253439585,
          0.93358540631945,
          0.8598955734915191,
          0.859466553121631,
          0.8382609253439585,
          0.7762827268010003,
          0.791870077985054,
          0.7428959148388977,
          0.904810164396644,
          0.8878522005150804,
          0.878415247250969,
          0.8883720061576947,
          0.8385280656782677,
          0.8252388059890907,
          0.9425800593691341,
          0.771486722706183,
          0.8893766423515348,
          0.846046871993745,
          0.859466553121631,
          0.9033577103537053,
          0.9507063761760371,
          0.89391824345144,
          0.66999403715201,
          0.894303993891367,
          0.8767880844783646,
          0.7813696195133742,
          0.8997031263965025,
          0.8894167815603005,
          0.9010348017483396,
          0.8746220496464191,
          0.9038653171576879,
          0.8425645286264276,
          0.8267395396178993,
          0.66999403715201,
          0.8678783422215002,
          0.771486722706183,
          0.9365941063145398,
          0.859526466982903,
          0.8748723583666077,
          0.809388947169433,
          0.9010348017483396,
          0.8714016018281178,
          0.8288037700090911,
          0.8914310492937215,
          0.8934558522924059,
          0.9197049547424198,
          0.9030421888337867,
          0.8948799789119287,
          0.7000658072655552,
          0.8894167815603005,
          0.9067358183167167,
          0.9126091009741613,
          0.771486722706183,
          0.8376851091026974,
          0.871366205972882,
          0.9067358183167167,
          0.8851193292390453,
          0.8404044395390263,
          0.8306339411127673,
          0.894303993891367,
          0.9345497819115851,
          0.9190420734492801,
          0.8883720061576947,
          0.9129465212604594,
          0.9144361647977255,
          0.8406780911005753,
          0.9051608615720211,
          0.9047094093767595,
          0.7170855448293921,
          0.8766409372092875,
          0.7829860723562447,
          0.9005033416883869,
          0.771486722706183,
          0.8830644616983832,
          0.894303993891367,
          0.8881295320094059,
          0.7962122936354551,
          0.8834888484810208,
          0.8768740350012512,
          0.7945589607016511,
          0.8788669305303313,
          0.8678783422215002,
          0.7953418635949342,
          0.873516451457984,
          0.771486722706183,
          0.9067041072827373
         ],
         "xaxis": "x",
         "xbins": {
          "end": 1,
          "size": 0.02,
          "start": 0.3
         },
         "yaxis": "y"
        }
       ],
       "layout": {
        "barmode": "relative",
        "height": 400,
        "legend": {
         "title": {
          "text": "variable"
         },
         "tracegroupgap": 0
        },
        "margin": {
         "t": 60
        },
        "template": {
         "data": {
          "bar": [
           {
            "error_x": {
             "color": "#2a3f5f"
            },
            "error_y": {
             "color": "#2a3f5f"
            },
            "marker": {
             "line": {
              "color": "#E5ECF6",
              "width": 0.5
             },
             "pattern": {
              "fillmode": "overlay",
              "size": 10,
              "solidity": 0.2
             }
            },
            "type": "bar"
           }
          ],
          "barpolar": [
           {
            "marker": {
             "line": {
              "color": "#E5ECF6",
              "width": 0.5
             },
             "pattern": {
              "fillmode": "overlay",
              "size": 10,
              "solidity": 0.2
             }
            },
            "type": "barpolar"
           }
          ],
          "carpet": [
           {
            "aaxis": {
             "endlinecolor": "#2a3f5f",
             "gridcolor": "white",
             "linecolor": "white",
             "minorgridcolor": "white",
             "startlinecolor": "#2a3f5f"
            },
            "baxis": {
             "endlinecolor": "#2a3f5f",
             "gridcolor": "white",
             "linecolor": "white",
             "minorgridcolor": "white",
             "startlinecolor": "#2a3f5f"
            },
            "type": "carpet"
           }
          ],
          "choropleth": [
           {
            "colorbar": {
             "outlinewidth": 0,
             "ticks": ""
            },
            "type": "choropleth"
           }
          ],
          "contour": [
           {
            "colorbar": {
             "outlinewidth": 0,
             "ticks": ""
            },
            "colorscale": [
             [
              0,
              "#0d0887"
             ],
             [
              0.1111111111111111,
              "#46039f"
             ],
             [
              0.2222222222222222,
              "#7201a8"
             ],
             [
              0.3333333333333333,
              "#9c179e"
             ],
             [
              0.4444444444444444,
              "#bd3786"
             ],
             [
              0.5555555555555556,
              "#d8576b"
             ],
             [
              0.6666666666666666,
              "#ed7953"
             ],
             [
              0.7777777777777778,
              "#fb9f3a"
             ],
             [
              0.8888888888888888,
              "#fdca26"
             ],
             [
              1,
              "#f0f921"
             ]
            ],
            "type": "contour"
           }
          ],
          "contourcarpet": [
           {
            "colorbar": {
             "outlinewidth": 0,
             "ticks": ""
            },
            "type": "contourcarpet"
           }
          ],
          "heatmap": [
           {
            "colorbar": {
             "outlinewidth": 0,
             "ticks": ""
            },
            "colorscale": [
             [
              0,
              "#0d0887"
             ],
             [
              0.1111111111111111,
              "#46039f"
             ],
             [
              0.2222222222222222,
              "#7201a8"
             ],
             [
              0.3333333333333333,
              "#9c179e"
             ],
             [
              0.4444444444444444,
              "#bd3786"
             ],
             [
              0.5555555555555556,
              "#d8576b"
             ],
             [
              0.6666666666666666,
              "#ed7953"
             ],
             [
              0.7777777777777778,
              "#fb9f3a"
             ],
             [
              0.8888888888888888,
              "#fdca26"
             ],
             [
              1,
              "#f0f921"
             ]
            ],
            "type": "heatmap"
           }
          ],
          "heatmapgl": [
           {
            "colorbar": {
             "outlinewidth": 0,
             "ticks": ""
            },
            "colorscale": [
             [
              0,
              "#0d0887"
             ],
             [
              0.1111111111111111,
              "#46039f"
             ],
             [
              0.2222222222222222,
              "#7201a8"
             ],
             [
              0.3333333333333333,
              "#9c179e"
             ],
             [
              0.4444444444444444,
              "#bd3786"
             ],
             [
              0.5555555555555556,
              "#d8576b"
             ],
             [
              0.6666666666666666,
              "#ed7953"
             ],
             [
              0.7777777777777778,
              "#fb9f3a"
             ],
             [
              0.8888888888888888,
              "#fdca26"
             ],
             [
              1,
              "#f0f921"
             ]
            ],
            "type": "heatmapgl"
           }
          ],
          "histogram": [
           {
            "marker": {
             "pattern": {
              "fillmode": "overlay",
              "size": 10,
              "solidity": 0.2
             }
            },
            "type": "histogram"
           }
          ],
          "histogram2d": [
           {
            "colorbar": {
             "outlinewidth": 0,
             "ticks": ""
            },
            "colorscale": [
             [
              0,
              "#0d0887"
             ],
             [
              0.1111111111111111,
              "#46039f"
             ],
             [
              0.2222222222222222,
              "#7201a8"
             ],
             [
              0.3333333333333333,
              "#9c179e"
             ],
             [
              0.4444444444444444,
              "#bd3786"
             ],
             [
              0.5555555555555556,
              "#d8576b"
             ],
             [
              0.6666666666666666,
              "#ed7953"
             ],
             [
              0.7777777777777778,
              "#fb9f3a"
             ],
             [
              0.8888888888888888,
              "#fdca26"
             ],
             [
              1,
              "#f0f921"
             ]
            ],
            "type": "histogram2d"
           }
          ],
          "histogram2dcontour": [
           {
            "colorbar": {
             "outlinewidth": 0,
             "ticks": ""
            },
            "colorscale": [
             [
              0,
              "#0d0887"
             ],
             [
              0.1111111111111111,
              "#46039f"
             ],
             [
              0.2222222222222222,
              "#7201a8"
             ],
             [
              0.3333333333333333,
              "#9c179e"
             ],
             [
              0.4444444444444444,
              "#bd3786"
             ],
             [
              0.5555555555555556,
              "#d8576b"
             ],
             [
              0.6666666666666666,
              "#ed7953"
             ],
             [
              0.7777777777777778,
              "#fb9f3a"
             ],
             [
              0.8888888888888888,
              "#fdca26"
             ],
             [
              1,
              "#f0f921"
             ]
            ],
            "type": "histogram2dcontour"
           }
          ],
          "mesh3d": [
           {
            "colorbar": {
             "outlinewidth": 0,
             "ticks": ""
            },
            "type": "mesh3d"
           }
          ],
          "parcoords": [
           {
            "line": {
             "colorbar": {
              "outlinewidth": 0,
              "ticks": ""
             }
            },
            "type": "parcoords"
           }
          ],
          "pie": [
           {
            "automargin": true,
            "type": "pie"
           }
          ],
          "scatter": [
           {
            "fillpattern": {
             "fillmode": "overlay",
             "size": 10,
             "solidity": 0.2
            },
            "type": "scatter"
           }
          ],
          "scatter3d": [
           {
            "line": {
             "colorbar": {
              "outlinewidth": 0,
              "ticks": ""
             }
            },
            "marker": {
             "colorbar": {
              "outlinewidth": 0,
              "ticks": ""
             }
            },
            "type": "scatter3d"
           }
          ],
          "scattercarpet": [
           {
            "marker": {
             "colorbar": {
              "outlinewidth": 0,
              "ticks": ""
             }
            },
            "type": "scattercarpet"
           }
          ],
          "scattergeo": [
           {
            "marker": {
             "colorbar": {
              "outlinewidth": 0,
              "ticks": ""
             }
            },
            "type": "scattergeo"
           }
          ],
          "scattergl": [
           {
            "marker": {
             "colorbar": {
              "outlinewidth": 0,
              "ticks": ""
             }
            },
            "type": "scattergl"
           }
          ],
          "scattermapbox": [
           {
            "marker": {
             "colorbar": {
              "outlinewidth": 0,
              "ticks": ""
             }
            },
            "type": "scattermapbox"
           }
          ],
          "scatterpolar": [
           {
            "marker": {
             "colorbar": {
              "outlinewidth": 0,
              "ticks": ""
             }
            },
            "type": "scatterpolar"
           }
          ],
          "scatterpolargl": [
           {
            "marker": {
             "colorbar": {
              "outlinewidth": 0,
              "ticks": ""
             }
            },
            "type": "scatterpolargl"
           }
          ],
          "scatterternary": [
           {
            "marker": {
             "colorbar": {
              "outlinewidth": 0,
              "ticks": ""
             }
            },
            "type": "scatterternary"
           }
          ],
          "surface": [
           {
            "colorbar": {
             "outlinewidth": 0,
             "ticks": ""
            },
            "colorscale": [
             [
              0,
              "#0d0887"
             ],
             [
              0.1111111111111111,
              "#46039f"
             ],
             [
              0.2222222222222222,
              "#7201a8"
             ],
             [
              0.3333333333333333,
              "#9c179e"
             ],
             [
              0.4444444444444444,
              "#bd3786"
             ],
             [
              0.5555555555555556,
              "#d8576b"
             ],
             [
              0.6666666666666666,
              "#ed7953"
             ],
             [
              0.7777777777777778,
              "#fb9f3a"
             ],
             [
              0.8888888888888888,
              "#fdca26"
             ],
             [
              1,
              "#f0f921"
             ]
            ],
            "type": "surface"
           }
          ],
          "table": [
           {
            "cells": {
             "fill": {
              "color": "#EBF0F8"
             },
             "line": {
              "color": "white"
             }
            },
            "header": {
             "fill": {
              "color": "#C8D4E3"
             },
             "line": {
              "color": "white"
             }
            },
            "type": "table"
           }
          ]
         },
         "layout": {
          "annotationdefaults": {
           "arrowcolor": "#2a3f5f",
           "arrowhead": 0,
           "arrowwidth": 1
          },
          "autotypenumbers": "strict",
          "coloraxis": {
           "colorbar": {
            "outlinewidth": 0,
            "ticks": ""
           }
          },
          "colorscale": {
           "diverging": [
            [
             0,
             "#8e0152"
            ],
            [
             0.1,
             "#c51b7d"
            ],
            [
             0.2,
             "#de77ae"
            ],
            [
             0.3,
             "#f1b6da"
            ],
            [
             0.4,
             "#fde0ef"
            ],
            [
             0.5,
             "#f7f7f7"
            ],
            [
             0.6,
             "#e6f5d0"
            ],
            [
             0.7,
             "#b8e186"
            ],
            [
             0.8,
             "#7fbc41"
            ],
            [
             0.9,
             "#4d9221"
            ],
            [
             1,
             "#276419"
            ]
           ],
           "sequential": [
            [
             0,
             "#0d0887"
            ],
            [
             0.1111111111111111,
             "#46039f"
            ],
            [
             0.2222222222222222,
             "#7201a8"
            ],
            [
             0.3333333333333333,
             "#9c179e"
            ],
            [
             0.4444444444444444,
             "#bd3786"
            ],
            [
             0.5555555555555556,
             "#d8576b"
            ],
            [
             0.6666666666666666,
             "#ed7953"
            ],
            [
             0.7777777777777778,
             "#fb9f3a"
            ],
            [
             0.8888888888888888,
             "#fdca26"
            ],
            [
             1,
             "#f0f921"
            ]
           ],
           "sequentialminus": [
            [
             0,
             "#0d0887"
            ],
            [
             0.1111111111111111,
             "#46039f"
            ],
            [
             0.2222222222222222,
             "#7201a8"
            ],
            [
             0.3333333333333333,
             "#9c179e"
            ],
            [
             0.4444444444444444,
             "#bd3786"
            ],
            [
             0.5555555555555556,
             "#d8576b"
            ],
            [
             0.6666666666666666,
             "#ed7953"
            ],
            [
             0.7777777777777778,
             "#fb9f3a"
            ],
            [
             0.8888888888888888,
             "#fdca26"
            ],
            [
             1,
             "#f0f921"
            ]
           ]
          },
          "colorway": [
           "#636efa",
           "#EF553B",
           "#00cc96",
           "#ab63fa",
           "#FFA15A",
           "#19d3f3",
           "#FF6692",
           "#B6E880",
           "#FF97FF",
           "#FECB52"
          ],
          "font": {
           "color": "#2a3f5f"
          },
          "geo": {
           "bgcolor": "white",
           "lakecolor": "white",
           "landcolor": "#E5ECF6",
           "showlakes": true,
           "showland": true,
           "subunitcolor": "white"
          },
          "hoverlabel": {
           "align": "left"
          },
          "hovermode": "closest",
          "mapbox": {
           "style": "light"
          },
          "paper_bgcolor": "white",
          "plot_bgcolor": "#E5ECF6",
          "polar": {
           "angularaxis": {
            "gridcolor": "white",
            "linecolor": "white",
            "ticks": ""
           },
           "bgcolor": "#E5ECF6",
           "radialaxis": {
            "gridcolor": "white",
            "linecolor": "white",
            "ticks": ""
           }
          },
          "scene": {
           "xaxis": {
            "backgroundcolor": "#E5ECF6",
            "gridcolor": "white",
            "gridwidth": 2,
            "linecolor": "white",
            "showbackground": true,
            "ticks": "",
            "zerolinecolor": "white"
           },
           "yaxis": {
            "backgroundcolor": "#E5ECF6",
            "gridcolor": "white",
            "gridwidth": 2,
            "linecolor": "white",
            "showbackground": true,
            "ticks": "",
            "zerolinecolor": "white"
           },
           "zaxis": {
            "backgroundcolor": "#E5ECF6",
            "gridcolor": "white",
            "gridwidth": 2,
            "linecolor": "white",
            "showbackground": true,
            "ticks": "",
            "zerolinecolor": "white"
           }
          },
          "shapedefaults": {
           "line": {
            "color": "#2a3f5f"
           }
          },
          "ternary": {
           "aaxis": {
            "gridcolor": "white",
            "linecolor": "white",
            "ticks": ""
           },
           "baxis": {
            "gridcolor": "white",
            "linecolor": "white",
            "ticks": ""
           },
           "bgcolor": "#E5ECF6",
           "caxis": {
            "gridcolor": "white",
            "linecolor": "white",
            "ticks": ""
           }
          },
          "title": {
           "x": 0.05
          },
          "xaxis": {
           "automargin": true,
           "gridcolor": "white",
           "linecolor": "white",
           "ticks": "",
           "title": {
            "standoff": 15
           },
           "zerolinecolor": "white",
           "zerolinewidth": 2
          },
          "yaxis": {
           "automargin": true,
           "gridcolor": "white",
           "linecolor": "white",
           "ticks": "",
           "title": {
            "standoff": 15
           },
           "zerolinecolor": "white",
           "zerolinewidth": 2
          }
         }
        },
        "title": {
         "text": "salmon and bears in water"
        },
        "width": 800,
        "xaxis": {
         "anchor": "y",
         "domain": [
          0,
          1
         ],
         "range": [
          0.3,
          1
         ],
         "title": {
          "text": "value"
         }
        },
        "yaxis": {
         "anchor": "x",
         "domain": [
          0,
          1
         ],
         "range": [
          0,
          210
         ],
         "title": {
          "text": "count"
         }
        }
       }
      }
     },
     "metadata": {},
     "output_type": "display_data"
    },
    {
     "data": {
      "application/vnd.plotly.v1+json": {
       "config": {
        "plotlyServerURL": "https://plot.ly"
       },
       "data": [
        {
         "alignmentgroup": "True",
         "bingroup": "x",
         "hovertemplate": "variable=0<br>value=%{x}<br>count=%{y}<extra></extra>",
         "legendgroup": "0",
         "marker": {
          "color": "#636efa",
          "pattern": {
           "shape": ""
          }
         },
         "name": "0",
         "offsetgroup": "0",
         "orientation": "v",
         "showlegend": true,
         "type": "histogram",
         "x": [
          0.9339924021304389,
          0.9105159979280558,
          0.9300713588592014,
          0.8907062354401716,
          0.7867748470079005,
          0.9684823391059613,
          0.7134446339548768,
          0.9287532593443032,
          0.9336579370631023,
          0.9419371993286251,
          0.9234686769929006,
          0.9166702168387805,
          0.9453250998208479,
          0.9382525138645712,
          0.7998727632589108,
          0.872661554675226,
          0.9350614445610438,
          0.842282203273456,
          0.9419371993286251,
          0.7622078382739647,
          0.8779240106188636,
          0.7134446339548768,
          0.9018179261890918,
          0.5453355556634081,
          0.8535802211510869,
          0.916619908638927,
          0.6934582859832954,
          0.8354395516518147,
          0.949813250622688,
          0.8783095118397038,
          0.7969119741937523,
          0.9481803245207489,
          0.8628957509302886,
          0.8670462126024141,
          0.7134446339548768,
          0.8797889877288279,
          0.6660590970030185,
          0.8961620652591741,
          0.7550103472994398,
          0.922902806081589,
          0.925536796597925,
          0.7998727632589108,
          0.7610941022265344,
          0.8984745077755348,
          0.848548934155454,
          0.8515828912598989,
          0.9287158691586599,
          0.922902806081589,
          0.9122022082952612,
          0.7432013262319798,
          0.9382525138645712,
          0.8767312939570321,
          0.8145373717261154,
          0.8733302582883801,
          0.8621437851789073,
          0.922902806081589,
          0.862436718558641,
          0.922902806081589,
          0.7999295776900097,
          0.9428793219559116,
          0.9298966318586248,
          0.9453250998208479,
          0.8042676289405187,
          0.6987442747229841,
          0.9172571515135512,
          0.8558817069421077,
          0.9022298975372004,
          0.8986791285777297,
          0.916619908638927,
          0.9523327626317533,
          0.9210030718028813,
          0.9287902128747888,
          0.922902806081589,
          0.842282203273456,
          0.949813250622688,
          0.7867748470079005,
          0.9506388653339463,
          0.9428769104331431,
          0.7134446339548768,
          0.9018179261890918,
          0.9453250998208479,
          0.9284704893353912,
          0.839874484545699,
          0.9453250998208479,
          0.8783095118397038,
          0.9431105735432933,
          0.9541238206634707,
          0.922902806081589,
          0.9395081815153948,
          0.9481803245207489,
          0.8931387204640074,
          0.9221398486568507,
          0.9453250998208479,
          0.6759586478227823,
          0.9517825409342688,
          0.8233704476169382,
          0.9262539785479853,
          0.956545834247884,
          0.861186601547018,
          0.9401927044666264,
          0.8092424731107326,
          0.7998727632589108,
          0.9453250998208479,
          0.839874484545699,
          0.9419371993286251,
          0.9232703164414316,
          0.8467726448690133,
          0.857865516628555,
          0.8852847835082838,
          0.569104560527203,
          0.804446829263921,
          0.9268357978602461,
          0.6292141612596766,
          0.8789201865153135,
          0.8566531303882917,
          0.7388566125300842,
          0.956102542936724,
          0.922902806081589,
          0.956102542936724,
          0.9419371993286251,
          0.9453250998208479,
          0.8539514968058224,
          0.6136115008735956,
          0.8409794635396401,
          0.8145206777063231,
          0.7998727632589108,
          0.8961620652591741,
          0.9003124995600164,
          0.7867748470079005,
          0.842282203273456,
          0.9221398486568507,
          0.9426767805145149,
          0.7134446339548768,
          0.922902806081589,
          0.839874484545699,
          0.8592022359245118,
          0.743122385717605,
          0.7998727632589108,
          0.916392911349124,
          0.9122156269620493,
          0.9300991891637109,
          0.9453250998208479,
          0.7615010066486515,
          0.8701113857178443,
          0.777460171972273,
          0.9395081815153948,
          0.7867748470079005,
          0.9029297707889825,
          0.9287532593443032,
          0.839874484545699,
          0.850722687371286,
          0.7867748470079005,
          0.83895322263141,
          0.6136115008735956,
          0.7690161749658874,
          0.9221398486568507,
          0.8327819357019296,
          0.7775344459583174,
          0.922902806081589,
          0.9215857634198207,
          0.949813250622688,
          0.7647270953244145,
          0.9428769104331431,
          0.9453250998208479,
          0.9340928912180473,
          0.8331491273817588,
          0.7134446339548768,
          0.9221398486568507,
          0.9253822786446891,
          0.8735878487052915,
          0.9523327626317533,
          0.5327160030986792,
          0.9419371993286251,
          0.8151461006804483,
          0.8807889484086225,
          0.9346927132704754,
          0.9172571515135512,
          0.6569337144577196,
          0.7432013262319798,
          0.9517825409342688,
          0.82054808708185,
          0.9145545129948819,
          0.9419371993286251,
          0.7933518341423641,
          0.7867748470079005,
          0.864421434788848,
          0.8515828912598989,
          0.9517825409342688,
          0.922902806081589,
          0.8211433773805291,
          0.930526874784059,
          0.8503101655584252,
          0.9481803245207489,
          0.9453250998208479,
          0.9203162075924477,
          0.9453250998208479,
          0.8122300101855866,
          0.850722687371286,
          0.8362591536568643,
          0.9275693056552607,
          0.8222133385613953,
          0.922902806081589,
          0.9419371993286251,
          0.7574607729258342,
          0.8430201732692599,
          0.8144452888588576,
          0.8789201865153135,
          0.9221398486568507,
          0.7134446339548768,
          0.9172571515135512,
          0.8849477492614528,
          0.864421434788848,
          0.9221398486568507,
          0.8938020385229705,
          0.8293983098123994,
          0.9479146723807392,
          0.9395081815153948,
          0.9419371993286251,
          0.7908883138937799,
          0.8881180431534793,
          0.9517825409342688,
          0.8359371300698922,
          0.906931205963235,
          0.9346927132704754,
          0.9298966318586248,
          0.7823307338463091,
          0.8575963842228003,
          0.9346927132704754,
          0.9111384839544965,
          0.9287158691586599,
          0.9167646745156838,
          0.9453250998208479,
          0.9221398486568507,
          0.949813250622688,
          0.8542946302995978,
          0.9428769104331431,
          0.864421434788848,
          0.9520635578283742,
          0.7271216211468298,
          0.8924485850429356,
          0.8982317459310889,
          0.756051350473111,
          0.9419371993286251,
          0.9262539785479853,
          0.922902806081589,
          0.8665901168448319,
          0.9238244561338828,
          0.9453250998208479,
          0.786256078455378,
          0.9517825106325074,
          0.9217509821369959,
          0.7811430107666292,
          0.8327819357019296,
          0.7053938829275185,
          0.916619908638927,
          0.9491607024737418,
          0.862909149014656,
          0.9221398486568507,
          0.7134446339548768,
          0.8690319897231471,
          0.858478255474036,
          0.9259072734642693,
          0.9523327626317533,
          0.8671907066969273,
          0.7838436871520894,
          0.7902615589888979,
          0.8612893293574069,
          0.7064224647295444,
          0.8779597209833583,
          0.9346927132704754,
          0.9172571515135512,
          0.8767312939570321,
          0.9526422509619663,
          0.9419371993286251,
          0.9221398486568507,
          0.9453250998208479,
          0.771031435718975,
          0.6136115008735956,
          0.9172571515135512,
          0.40181171453416614,
          0.8409794635396401,
          0.9346927132704754,
          0.8465168784877768,
          0.9419371993286251,
          0.7727824579972618,
          0.9453250998208479,
          0.9172571515135512,
          0.9576904072177517,
          0.9221398486568507,
          0.8765232030484458,
          0.9453250998208479,
          0.7933518341423641,
          0.8783095118397038,
          0.8916618507862227,
          0.9523327821353722,
          0.922902806081589,
          0.8489487741111691,
          0.8502203300811185,
          0.9221398486568507,
          0.7823307338463091
         ],
         "xaxis": "x",
         "xbins": {
          "end": 1,
          "size": 0.02,
          "start": 0.3
         },
         "yaxis": "y"
        }
       ],
       "layout": {
        "barmode": "relative",
        "height": 400,
        "legend": {
         "title": {
          "text": "variable"
         },
         "tracegroupgap": 0
        },
        "margin": {
         "t": 60
        },
        "template": {
         "data": {
          "bar": [
           {
            "error_x": {
             "color": "#2a3f5f"
            },
            "error_y": {
             "color": "#2a3f5f"
            },
            "marker": {
             "line": {
              "color": "#E5ECF6",
              "width": 0.5
             },
             "pattern": {
              "fillmode": "overlay",
              "size": 10,
              "solidity": 0.2
             }
            },
            "type": "bar"
           }
          ],
          "barpolar": [
           {
            "marker": {
             "line": {
              "color": "#E5ECF6",
              "width": 0.5
             },
             "pattern": {
              "fillmode": "overlay",
              "size": 10,
              "solidity": 0.2
             }
            },
            "type": "barpolar"
           }
          ],
          "carpet": [
           {
            "aaxis": {
             "endlinecolor": "#2a3f5f",
             "gridcolor": "white",
             "linecolor": "white",
             "minorgridcolor": "white",
             "startlinecolor": "#2a3f5f"
            },
            "baxis": {
             "endlinecolor": "#2a3f5f",
             "gridcolor": "white",
             "linecolor": "white",
             "minorgridcolor": "white",
             "startlinecolor": "#2a3f5f"
            },
            "type": "carpet"
           }
          ],
          "choropleth": [
           {
            "colorbar": {
             "outlinewidth": 0,
             "ticks": ""
            },
            "type": "choropleth"
           }
          ],
          "contour": [
           {
            "colorbar": {
             "outlinewidth": 0,
             "ticks": ""
            },
            "colorscale": [
             [
              0,
              "#0d0887"
             ],
             [
              0.1111111111111111,
              "#46039f"
             ],
             [
              0.2222222222222222,
              "#7201a8"
             ],
             [
              0.3333333333333333,
              "#9c179e"
             ],
             [
              0.4444444444444444,
              "#bd3786"
             ],
             [
              0.5555555555555556,
              "#d8576b"
             ],
             [
              0.6666666666666666,
              "#ed7953"
             ],
             [
              0.7777777777777778,
              "#fb9f3a"
             ],
             [
              0.8888888888888888,
              "#fdca26"
             ],
             [
              1,
              "#f0f921"
             ]
            ],
            "type": "contour"
           }
          ],
          "contourcarpet": [
           {
            "colorbar": {
             "outlinewidth": 0,
             "ticks": ""
            },
            "type": "contourcarpet"
           }
          ],
          "heatmap": [
           {
            "colorbar": {
             "outlinewidth": 0,
             "ticks": ""
            },
            "colorscale": [
             [
              0,
              "#0d0887"
             ],
             [
              0.1111111111111111,
              "#46039f"
             ],
             [
              0.2222222222222222,
              "#7201a8"
             ],
             [
              0.3333333333333333,
              "#9c179e"
             ],
             [
              0.4444444444444444,
              "#bd3786"
             ],
             [
              0.5555555555555556,
              "#d8576b"
             ],
             [
              0.6666666666666666,
              "#ed7953"
             ],
             [
              0.7777777777777778,
              "#fb9f3a"
             ],
             [
              0.8888888888888888,
              "#fdca26"
             ],
             [
              1,
              "#f0f921"
             ]
            ],
            "type": "heatmap"
           }
          ],
          "heatmapgl": [
           {
            "colorbar": {
             "outlinewidth": 0,
             "ticks": ""
            },
            "colorscale": [
             [
              0,
              "#0d0887"
             ],
             [
              0.1111111111111111,
              "#46039f"
             ],
             [
              0.2222222222222222,
              "#7201a8"
             ],
             [
              0.3333333333333333,
              "#9c179e"
             ],
             [
              0.4444444444444444,
              "#bd3786"
             ],
             [
              0.5555555555555556,
              "#d8576b"
             ],
             [
              0.6666666666666666,
              "#ed7953"
             ],
             [
              0.7777777777777778,
              "#fb9f3a"
             ],
             [
              0.8888888888888888,
              "#fdca26"
             ],
             [
              1,
              "#f0f921"
             ]
            ],
            "type": "heatmapgl"
           }
          ],
          "histogram": [
           {
            "marker": {
             "pattern": {
              "fillmode": "overlay",
              "size": 10,
              "solidity": 0.2
             }
            },
            "type": "histogram"
           }
          ],
          "histogram2d": [
           {
            "colorbar": {
             "outlinewidth": 0,
             "ticks": ""
            },
            "colorscale": [
             [
              0,
              "#0d0887"
             ],
             [
              0.1111111111111111,
              "#46039f"
             ],
             [
              0.2222222222222222,
              "#7201a8"
             ],
             [
              0.3333333333333333,
              "#9c179e"
             ],
             [
              0.4444444444444444,
              "#bd3786"
             ],
             [
              0.5555555555555556,
              "#d8576b"
             ],
             [
              0.6666666666666666,
              "#ed7953"
             ],
             [
              0.7777777777777778,
              "#fb9f3a"
             ],
             [
              0.8888888888888888,
              "#fdca26"
             ],
             [
              1,
              "#f0f921"
             ]
            ],
            "type": "histogram2d"
           }
          ],
          "histogram2dcontour": [
           {
            "colorbar": {
             "outlinewidth": 0,
             "ticks": ""
            },
            "colorscale": [
             [
              0,
              "#0d0887"
             ],
             [
              0.1111111111111111,
              "#46039f"
             ],
             [
              0.2222222222222222,
              "#7201a8"
             ],
             [
              0.3333333333333333,
              "#9c179e"
             ],
             [
              0.4444444444444444,
              "#bd3786"
             ],
             [
              0.5555555555555556,
              "#d8576b"
             ],
             [
              0.6666666666666666,
              "#ed7953"
             ],
             [
              0.7777777777777778,
              "#fb9f3a"
             ],
             [
              0.8888888888888888,
              "#fdca26"
             ],
             [
              1,
              "#f0f921"
             ]
            ],
            "type": "histogram2dcontour"
           }
          ],
          "mesh3d": [
           {
            "colorbar": {
             "outlinewidth": 0,
             "ticks": ""
            },
            "type": "mesh3d"
           }
          ],
          "parcoords": [
           {
            "line": {
             "colorbar": {
              "outlinewidth": 0,
              "ticks": ""
             }
            },
            "type": "parcoords"
           }
          ],
          "pie": [
           {
            "automargin": true,
            "type": "pie"
           }
          ],
          "scatter": [
           {
            "fillpattern": {
             "fillmode": "overlay",
             "size": 10,
             "solidity": 0.2
            },
            "type": "scatter"
           }
          ],
          "scatter3d": [
           {
            "line": {
             "colorbar": {
              "outlinewidth": 0,
              "ticks": ""
             }
            },
            "marker": {
             "colorbar": {
              "outlinewidth": 0,
              "ticks": ""
             }
            },
            "type": "scatter3d"
           }
          ],
          "scattercarpet": [
           {
            "marker": {
             "colorbar": {
              "outlinewidth": 0,
              "ticks": ""
             }
            },
            "type": "scattercarpet"
           }
          ],
          "scattergeo": [
           {
            "marker": {
             "colorbar": {
              "outlinewidth": 0,
              "ticks": ""
             }
            },
            "type": "scattergeo"
           }
          ],
          "scattergl": [
           {
            "marker": {
             "colorbar": {
              "outlinewidth": 0,
              "ticks": ""
             }
            },
            "type": "scattergl"
           }
          ],
          "scattermapbox": [
           {
            "marker": {
             "colorbar": {
              "outlinewidth": 0,
              "ticks": ""
             }
            },
            "type": "scattermapbox"
           }
          ],
          "scatterpolar": [
           {
            "marker": {
             "colorbar": {
              "outlinewidth": 0,
              "ticks": ""
             }
            },
            "type": "scatterpolar"
           }
          ],
          "scatterpolargl": [
           {
            "marker": {
             "colorbar": {
              "outlinewidth": 0,
              "ticks": ""
             }
            },
            "type": "scatterpolargl"
           }
          ],
          "scatterternary": [
           {
            "marker": {
             "colorbar": {
              "outlinewidth": 0,
              "ticks": ""
             }
            },
            "type": "scatterternary"
           }
          ],
          "surface": [
           {
            "colorbar": {
             "outlinewidth": 0,
             "ticks": ""
            },
            "colorscale": [
             [
              0,
              "#0d0887"
             ],
             [
              0.1111111111111111,
              "#46039f"
             ],
             [
              0.2222222222222222,
              "#7201a8"
             ],
             [
              0.3333333333333333,
              "#9c179e"
             ],
             [
              0.4444444444444444,
              "#bd3786"
             ],
             [
              0.5555555555555556,
              "#d8576b"
             ],
             [
              0.6666666666666666,
              "#ed7953"
             ],
             [
              0.7777777777777778,
              "#fb9f3a"
             ],
             [
              0.8888888888888888,
              "#fdca26"
             ],
             [
              1,
              "#f0f921"
             ]
            ],
            "type": "surface"
           }
          ],
          "table": [
           {
            "cells": {
             "fill": {
              "color": "#EBF0F8"
             },
             "line": {
              "color": "white"
             }
            },
            "header": {
             "fill": {
              "color": "#C8D4E3"
             },
             "line": {
              "color": "white"
             }
            },
            "type": "table"
           }
          ]
         },
         "layout": {
          "annotationdefaults": {
           "arrowcolor": "#2a3f5f",
           "arrowhead": 0,
           "arrowwidth": 1
          },
          "autotypenumbers": "strict",
          "coloraxis": {
           "colorbar": {
            "outlinewidth": 0,
            "ticks": ""
           }
          },
          "colorscale": {
           "diverging": [
            [
             0,
             "#8e0152"
            ],
            [
             0.1,
             "#c51b7d"
            ],
            [
             0.2,
             "#de77ae"
            ],
            [
             0.3,
             "#f1b6da"
            ],
            [
             0.4,
             "#fde0ef"
            ],
            [
             0.5,
             "#f7f7f7"
            ],
            [
             0.6,
             "#e6f5d0"
            ],
            [
             0.7,
             "#b8e186"
            ],
            [
             0.8,
             "#7fbc41"
            ],
            [
             0.9,
             "#4d9221"
            ],
            [
             1,
             "#276419"
            ]
           ],
           "sequential": [
            [
             0,
             "#0d0887"
            ],
            [
             0.1111111111111111,
             "#46039f"
            ],
            [
             0.2222222222222222,
             "#7201a8"
            ],
            [
             0.3333333333333333,
             "#9c179e"
            ],
            [
             0.4444444444444444,
             "#bd3786"
            ],
            [
             0.5555555555555556,
             "#d8576b"
            ],
            [
             0.6666666666666666,
             "#ed7953"
            ],
            [
             0.7777777777777778,
             "#fb9f3a"
            ],
            [
             0.8888888888888888,
             "#fdca26"
            ],
            [
             1,
             "#f0f921"
            ]
           ],
           "sequentialminus": [
            [
             0,
             "#0d0887"
            ],
            [
             0.1111111111111111,
             "#46039f"
            ],
            [
             0.2222222222222222,
             "#7201a8"
            ],
            [
             0.3333333333333333,
             "#9c179e"
            ],
            [
             0.4444444444444444,
             "#bd3786"
            ],
            [
             0.5555555555555556,
             "#d8576b"
            ],
            [
             0.6666666666666666,
             "#ed7953"
            ],
            [
             0.7777777777777778,
             "#fb9f3a"
            ],
            [
             0.8888888888888888,
             "#fdca26"
            ],
            [
             1,
             "#f0f921"
            ]
           ]
          },
          "colorway": [
           "#636efa",
           "#EF553B",
           "#00cc96",
           "#ab63fa",
           "#FFA15A",
           "#19d3f3",
           "#FF6692",
           "#B6E880",
           "#FF97FF",
           "#FECB52"
          ],
          "font": {
           "color": "#2a3f5f"
          },
          "geo": {
           "bgcolor": "white",
           "lakecolor": "white",
           "landcolor": "#E5ECF6",
           "showlakes": true,
           "showland": true,
           "subunitcolor": "white"
          },
          "hoverlabel": {
           "align": "left"
          },
          "hovermode": "closest",
          "mapbox": {
           "style": "light"
          },
          "paper_bgcolor": "white",
          "plot_bgcolor": "#E5ECF6",
          "polar": {
           "angularaxis": {
            "gridcolor": "white",
            "linecolor": "white",
            "ticks": ""
           },
           "bgcolor": "#E5ECF6",
           "radialaxis": {
            "gridcolor": "white",
            "linecolor": "white",
            "ticks": ""
           }
          },
          "scene": {
           "xaxis": {
            "backgroundcolor": "#E5ECF6",
            "gridcolor": "white",
            "gridwidth": 2,
            "linecolor": "white",
            "showbackground": true,
            "ticks": "",
            "zerolinecolor": "white"
           },
           "yaxis": {
            "backgroundcolor": "#E5ECF6",
            "gridcolor": "white",
            "gridwidth": 2,
            "linecolor": "white",
            "showbackground": true,
            "ticks": "",
            "zerolinecolor": "white"
           },
           "zaxis": {
            "backgroundcolor": "#E5ECF6",
            "gridcolor": "white",
            "gridwidth": 2,
            "linecolor": "white",
            "showbackground": true,
            "ticks": "",
            "zerolinecolor": "white"
           }
          },
          "shapedefaults": {
           "line": {
            "color": "#2a3f5f"
           }
          },
          "ternary": {
           "aaxis": {
            "gridcolor": "white",
            "linecolor": "white",
            "ticks": ""
           },
           "baxis": {
            "gridcolor": "white",
            "linecolor": "white",
            "ticks": ""
           },
           "bgcolor": "#E5ECF6",
           "caxis": {
            "gridcolor": "white",
            "linecolor": "white",
            "ticks": ""
           }
          },
          "title": {
           "x": 0.05
          },
          "xaxis": {
           "automargin": true,
           "gridcolor": "white",
           "linecolor": "white",
           "ticks": "",
           "title": {
            "standoff": 15
           },
           "zerolinecolor": "white",
           "zerolinewidth": 2
          },
          "yaxis": {
           "automargin": true,
           "gridcolor": "white",
           "linecolor": "white",
           "ticks": "",
           "title": {
            "standoff": 15
           },
           "zerolinecolor": "white",
           "zerolinewidth": 2
          }
         }
        },
        "title": {
         "text": "salmon and bears in hot springs"
        },
        "width": 800,
        "xaxis": {
         "anchor": "y",
         "domain": [
          0,
          1
         ],
         "range": [
          0.3,
          1
         ],
         "title": {
          "text": "value"
         }
        },
        "yaxis": {
         "anchor": "x",
         "domain": [
          0,
          1
         ],
         "range": [
          0,
          210
         ],
         "title": {
          "text": "count"
         }
        }
       }
      }
     },
     "metadata": {},
     "output_type": "display_data"
    },
    {
     "data": {
      "application/vnd.plotly.v1+json": {
       "config": {
        "plotlyServerURL": "https://plot.ly"
       },
       "data": [
        {
         "alignmentgroup": "True",
         "bingroup": "x",
         "hovertemplate": "variable=0<br>value=%{x}<br>count=%{y}<extra></extra>",
         "legendgroup": "0",
         "marker": {
          "color": "#636efa",
          "pattern": {
           "shape": ""
          }
         },
         "name": "0",
         "offsetgroup": "0",
         "orientation": "v",
         "showlegend": true,
         "type": "histogram",
         "x": [
          0.922393068667284,
          0.8902479233341097,
          0.7277578488516476,
          0.8897964054016271,
          0.8113873168572052,
          0.9108099915878064,
          0.9540817488933832,
          0.7203237236232078,
          0.8803570573535237,
          0.8456478026748522,
          0.8373671065361722,
          0.8410021467060128,
          0.9542070178756162,
          0.80741914323142,
          0.8292829051837554,
          0.9446897239398302,
          0.9108099915878064,
          0.915391057332883,
          0.9218263685113913,
          0.9300061875921208,
          0.9448253766274632,
          0.8354345229855004,
          0.8557631859125878,
          0.9318494830245244,
          0.8113873168572052,
          0.947011962371789,
          0.7204304313238636,
          0.9030964338148573,
          0.9249109585792366,
          0.7008578854980381,
          0.940870093591796,
          0.8903884276384939,
          0.8533819976905462,
          0.8690723309632744,
          0.7999575955819869,
          0.9643864872095658,
          0.936415477880475,
          0.9009897097775756,
          0.9279801276547256,
          0.8084701648941032,
          0.9034498950416087,
          0.5796969117321845,
          0.9156480176834023,
          0.8039764380097401,
          0.8270257408337328,
          0.7463817201052232,
          0.940788732070319,
          0.8972365053622633,
          0.41294254897922295,
          0.805487808645457,
          0.8167464515926398,
          0.8894582895265436,
          0.9108099915878064,
          0.883767754461647,
          0.8873705022362692,
          0.7602371703690854,
          0.940870093591796,
          0.6555046177511281,
          0.9370806552952982,
          0.9279801276547256,
          0.9470620631011835,
          0.8513101239548375,
          0.9542070178756162,
          0.9279801276547256,
          0.9229688751412546,
          0.9191134729795433,
          0.9334459097662097,
          0.8123977296790629,
          0.796105526189205,
          0.936415477880475,
          0.8886100072763573,
          0.8477745205652024,
          0.858533026473378,
          0.8825752727789578,
          0.9223743293973155,
          0.939333153478644,
          0.7720012909846036,
          0.8700261084717814,
          0.8906444323396385,
          0.8874737600079428,
          0.9107504282525676,
          0.8751373226098561,
          0.8156264256776469,
          0.8378099704311148,
          0.8069229372902611,
          0.9542070178756162,
          0.8916141924107327,
          0.8583913459111449,
          0.8729804094121102,
          0.9018243910515717,
          0.8902479233341097,
          0.947062044271282,
          0.7790562144230384,
          0.919399605298825,
          0.7008511779872771,
          0.8167464635688075,
          0.922799421520926,
          0.7286129421716588,
          0.8113873168572052,
          0.8068063564720109,
          0.887010200911828,
          0.9156480176834023,
          0.9333991930387981,
          0.8707775155048056,
          0.9156480176834023,
          0.7845009304696589,
          0.940870093591796,
          0.693894653907669,
          0.7277578488516476,
          0.8113873168572052,
          0.8330828364849966,
          0.6926024040755169,
          0.7466419501821662,
          0.8908816659382873,
          0.9229688751412546,
          0.9355670093728514,
          0.9333991930387981,
          0.9229688751412546,
          0.8275311897895562,
          0.9542070178756162,
          0.94461600688254,
          0.9169146678707062,
          0.940870093591796,
          0.8666407554298244,
          0.919399605298825,
          0.8825752727789578,
          0.9370280543224918,
          0.795053788316953,
          0.8689328627885712,
          0.8006340207370833,
          0.8276486290266032,
          0.8927020186593572,
          0.9355670093728514,
          0.8985612286158987,
          0.8710874113183042,
          0.8275311897895562,
          0.9229688751412546,
          0.8930323391951102,
          0.872799397007952,
          0.8934690709872234,
          0.8583156852288423,
          0.9370806552952982,
          0.9335616307096105,
          0.947011962371789,
          0.81341504530899,
          0.7481460000399324,
          0.9335616307096105,
          0.9325834722680094,
          0.9279801276547256,
          0.947011962371789,
          0.940870093591796,
          0.8394859339351878,
          0.9046388173069435,
          0.8549644118098753,
          0.8681297286601498,
          0.9444944661899743,
          0.8113873168572052,
          0.9299126406009198,
          0.9321613007098418,
          0.8698231421893078,
          0.9293429443000343,
          0.8292829051837554,
          0.930920755361968,
          0.8767936804776898,
          0.6916328991452745,
          0.8561053405026297,
          0.9279801276547256,
          0.9156480176834023,
          0.8516092656132659,
          0.8822019600772383,
          0.8573281524934815,
          0.8948876185036645,
          0.8941603517386214,
          0.9057422423700794,
          0.8142744288005995,
          0.7647246434610953,
          0.9228760933156195,
          0.919399605298825,
          0.8478770560260893,
          0.9370806552952982,
          0.9228815758908878,
          0.9127105812621316,
          0.9156480176834023,
          0.8272971652286039,
          0.9446816358734262,
          0.8281810327430293,
          0.8624651185663824,
          0.9141019658269663,
          0.6977165292262671,
          0.8113873168572052,
          0.7862712840303792,
          0.8649614802905436,
          0.9034498950416087,
          0.9542070178756162,
          0.940870093591796,
          0.859679267258636,
          0.7237296155003601,
          0.8123977296790629,
          0.9279801276547256,
          0.929086668696641,
          0.940870093591796,
          0.9481036859812519,
          0.8023894986596096,
          0.8373671065361722,
          0.8108906238153928,
          0.9229688751412546,
          0.6800985272529145,
          0.8275311897895562,
          0.8828542795539779,
          0.9308501081439506,
          0.8585076392362807,
          0.807913719793025,
          0.8477745205652024,
          0.8710874113183042,
          0.8635235715360153,
          0.8041186538085102,
          0.8632830066447729,
          0.8853553045816273,
          0.9370806552952982,
          0.947011962371789,
          0.8015329246511305,
          0.8313191711484141,
          0.9287471526940839,
          0.858533026473378,
          0.9315378504221177,
          0.940870093591796,
          0.9057422423700794,
          0.936415477880475,
          0.9229688751412546,
          0.9124224301542498,
          0.8350927180211118,
          0.8753745874472385,
          0.8715685477209018,
          0.9214268731853523,
          0.9229688751412546,
          0.8561053405026297,
          0.8113873168572052,
          0.932577338825812,
          0.9169146678707062,
          0.947011962371789,
          0.9156480176834023,
          0.9441764026758664,
          0.940870093591796,
          0.8956668374906827,
          0.923254929651821,
          0.8690723309632744,
          0.940870093591796,
          0.8322374019792983,
          0.9141576380706573,
          0.8921694704351597,
          0.8583913459111449,
          0.8790270710106229,
          0.940870093591796,
          0.9370806552952982,
          0.8113873168572052,
          0.9229688751412546,
          0.870751113754066,
          0.9172009053024,
          0.9231748907695988,
          0.9229688751412546,
          0.6717440381818375,
          0.7277578488516476,
          0.9229688751412546,
          0.8642764185426195,
          0.8932553021128834,
          0.9300061875921208,
          0.8344237087242596,
          0.7845009304696589,
          0.9335616307096105,
          0.7277578488516476,
          0.8146776874017647,
          0.7524196162035602,
          0.7000752015492208,
          0.845556641835038,
          0.9420284796503615,
          0.7205337297543695,
          0.9229688751412546,
          0.8477745205652024,
          0.8113873168572052,
          0.8667588968357491,
          0.9446160138516965,
          0.8260809551654167,
          0.9229688751412546,
          0.8183443856900863,
          0.848621666250096,
          0.9156480176834023,
          0.6717440381818375,
          0.9459473851520298,
          0.8965976450531072,
          0.9429547338809555,
          0.9034498950416087,
          0.8666344848723221,
          0.940870093591796,
          0.8493947987497487,
          0.8347339099916067,
          0.8890509481555154,
          0.8373671065361722,
          0.9542070178756162,
          0.8275311897895562,
          0.7746797605766496
         ],
         "xaxis": "x",
         "xbins": {
          "end": 1,
          "size": 0.02,
          "start": 0.3
         },
         "yaxis": "y"
        }
       ],
       "layout": {
        "barmode": "relative",
        "height": 400,
        "legend": {
         "title": {
          "text": "variable"
         },
         "tracegroupgap": 0
        },
        "margin": {
         "t": 60
        },
        "template": {
         "data": {
          "bar": [
           {
            "error_x": {
             "color": "#2a3f5f"
            },
            "error_y": {
             "color": "#2a3f5f"
            },
            "marker": {
             "line": {
              "color": "#E5ECF6",
              "width": 0.5
             },
             "pattern": {
              "fillmode": "overlay",
              "size": 10,
              "solidity": 0.2
             }
            },
            "type": "bar"
           }
          ],
          "barpolar": [
           {
            "marker": {
             "line": {
              "color": "#E5ECF6",
              "width": 0.5
             },
             "pattern": {
              "fillmode": "overlay",
              "size": 10,
              "solidity": 0.2
             }
            },
            "type": "barpolar"
           }
          ],
          "carpet": [
           {
            "aaxis": {
             "endlinecolor": "#2a3f5f",
             "gridcolor": "white",
             "linecolor": "white",
             "minorgridcolor": "white",
             "startlinecolor": "#2a3f5f"
            },
            "baxis": {
             "endlinecolor": "#2a3f5f",
             "gridcolor": "white",
             "linecolor": "white",
             "minorgridcolor": "white",
             "startlinecolor": "#2a3f5f"
            },
            "type": "carpet"
           }
          ],
          "choropleth": [
           {
            "colorbar": {
             "outlinewidth": 0,
             "ticks": ""
            },
            "type": "choropleth"
           }
          ],
          "contour": [
           {
            "colorbar": {
             "outlinewidth": 0,
             "ticks": ""
            },
            "colorscale": [
             [
              0,
              "#0d0887"
             ],
             [
              0.1111111111111111,
              "#46039f"
             ],
             [
              0.2222222222222222,
              "#7201a8"
             ],
             [
              0.3333333333333333,
              "#9c179e"
             ],
             [
              0.4444444444444444,
              "#bd3786"
             ],
             [
              0.5555555555555556,
              "#d8576b"
             ],
             [
              0.6666666666666666,
              "#ed7953"
             ],
             [
              0.7777777777777778,
              "#fb9f3a"
             ],
             [
              0.8888888888888888,
              "#fdca26"
             ],
             [
              1,
              "#f0f921"
             ]
            ],
            "type": "contour"
           }
          ],
          "contourcarpet": [
           {
            "colorbar": {
             "outlinewidth": 0,
             "ticks": ""
            },
            "type": "contourcarpet"
           }
          ],
          "heatmap": [
           {
            "colorbar": {
             "outlinewidth": 0,
             "ticks": ""
            },
            "colorscale": [
             [
              0,
              "#0d0887"
             ],
             [
              0.1111111111111111,
              "#46039f"
             ],
             [
              0.2222222222222222,
              "#7201a8"
             ],
             [
              0.3333333333333333,
              "#9c179e"
             ],
             [
              0.4444444444444444,
              "#bd3786"
             ],
             [
              0.5555555555555556,
              "#d8576b"
             ],
             [
              0.6666666666666666,
              "#ed7953"
             ],
             [
              0.7777777777777778,
              "#fb9f3a"
             ],
             [
              0.8888888888888888,
              "#fdca26"
             ],
             [
              1,
              "#f0f921"
             ]
            ],
            "type": "heatmap"
           }
          ],
          "heatmapgl": [
           {
            "colorbar": {
             "outlinewidth": 0,
             "ticks": ""
            },
            "colorscale": [
             [
              0,
              "#0d0887"
             ],
             [
              0.1111111111111111,
              "#46039f"
             ],
             [
              0.2222222222222222,
              "#7201a8"
             ],
             [
              0.3333333333333333,
              "#9c179e"
             ],
             [
              0.4444444444444444,
              "#bd3786"
             ],
             [
              0.5555555555555556,
              "#d8576b"
             ],
             [
              0.6666666666666666,
              "#ed7953"
             ],
             [
              0.7777777777777778,
              "#fb9f3a"
             ],
             [
              0.8888888888888888,
              "#fdca26"
             ],
             [
              1,
              "#f0f921"
             ]
            ],
            "type": "heatmapgl"
           }
          ],
          "histogram": [
           {
            "marker": {
             "pattern": {
              "fillmode": "overlay",
              "size": 10,
              "solidity": 0.2
             }
            },
            "type": "histogram"
           }
          ],
          "histogram2d": [
           {
            "colorbar": {
             "outlinewidth": 0,
             "ticks": ""
            },
            "colorscale": [
             [
              0,
              "#0d0887"
             ],
             [
              0.1111111111111111,
              "#46039f"
             ],
             [
              0.2222222222222222,
              "#7201a8"
             ],
             [
              0.3333333333333333,
              "#9c179e"
             ],
             [
              0.4444444444444444,
              "#bd3786"
             ],
             [
              0.5555555555555556,
              "#d8576b"
             ],
             [
              0.6666666666666666,
              "#ed7953"
             ],
             [
              0.7777777777777778,
              "#fb9f3a"
             ],
             [
              0.8888888888888888,
              "#fdca26"
             ],
             [
              1,
              "#f0f921"
             ]
            ],
            "type": "histogram2d"
           }
          ],
          "histogram2dcontour": [
           {
            "colorbar": {
             "outlinewidth": 0,
             "ticks": ""
            },
            "colorscale": [
             [
              0,
              "#0d0887"
             ],
             [
              0.1111111111111111,
              "#46039f"
             ],
             [
              0.2222222222222222,
              "#7201a8"
             ],
             [
              0.3333333333333333,
              "#9c179e"
             ],
             [
              0.4444444444444444,
              "#bd3786"
             ],
             [
              0.5555555555555556,
              "#d8576b"
             ],
             [
              0.6666666666666666,
              "#ed7953"
             ],
             [
              0.7777777777777778,
              "#fb9f3a"
             ],
             [
              0.8888888888888888,
              "#fdca26"
             ],
             [
              1,
              "#f0f921"
             ]
            ],
            "type": "histogram2dcontour"
           }
          ],
          "mesh3d": [
           {
            "colorbar": {
             "outlinewidth": 0,
             "ticks": ""
            },
            "type": "mesh3d"
           }
          ],
          "parcoords": [
           {
            "line": {
             "colorbar": {
              "outlinewidth": 0,
              "ticks": ""
             }
            },
            "type": "parcoords"
           }
          ],
          "pie": [
           {
            "automargin": true,
            "type": "pie"
           }
          ],
          "scatter": [
           {
            "fillpattern": {
             "fillmode": "overlay",
             "size": 10,
             "solidity": 0.2
            },
            "type": "scatter"
           }
          ],
          "scatter3d": [
           {
            "line": {
             "colorbar": {
              "outlinewidth": 0,
              "ticks": ""
             }
            },
            "marker": {
             "colorbar": {
              "outlinewidth": 0,
              "ticks": ""
             }
            },
            "type": "scatter3d"
           }
          ],
          "scattercarpet": [
           {
            "marker": {
             "colorbar": {
              "outlinewidth": 0,
              "ticks": ""
             }
            },
            "type": "scattercarpet"
           }
          ],
          "scattergeo": [
           {
            "marker": {
             "colorbar": {
              "outlinewidth": 0,
              "ticks": ""
             }
            },
            "type": "scattergeo"
           }
          ],
          "scattergl": [
           {
            "marker": {
             "colorbar": {
              "outlinewidth": 0,
              "ticks": ""
             }
            },
            "type": "scattergl"
           }
          ],
          "scattermapbox": [
           {
            "marker": {
             "colorbar": {
              "outlinewidth": 0,
              "ticks": ""
             }
            },
            "type": "scattermapbox"
           }
          ],
          "scatterpolar": [
           {
            "marker": {
             "colorbar": {
              "outlinewidth": 0,
              "ticks": ""
             }
            },
            "type": "scatterpolar"
           }
          ],
          "scatterpolargl": [
           {
            "marker": {
             "colorbar": {
              "outlinewidth": 0,
              "ticks": ""
             }
            },
            "type": "scatterpolargl"
           }
          ],
          "scatterternary": [
           {
            "marker": {
             "colorbar": {
              "outlinewidth": 0,
              "ticks": ""
             }
            },
            "type": "scatterternary"
           }
          ],
          "surface": [
           {
            "colorbar": {
             "outlinewidth": 0,
             "ticks": ""
            },
            "colorscale": [
             [
              0,
              "#0d0887"
             ],
             [
              0.1111111111111111,
              "#46039f"
             ],
             [
              0.2222222222222222,
              "#7201a8"
             ],
             [
              0.3333333333333333,
              "#9c179e"
             ],
             [
              0.4444444444444444,
              "#bd3786"
             ],
             [
              0.5555555555555556,
              "#d8576b"
             ],
             [
              0.6666666666666666,
              "#ed7953"
             ],
             [
              0.7777777777777778,
              "#fb9f3a"
             ],
             [
              0.8888888888888888,
              "#fdca26"
             ],
             [
              1,
              "#f0f921"
             ]
            ],
            "type": "surface"
           }
          ],
          "table": [
           {
            "cells": {
             "fill": {
              "color": "#EBF0F8"
             },
             "line": {
              "color": "white"
             }
            },
            "header": {
             "fill": {
              "color": "#C8D4E3"
             },
             "line": {
              "color": "white"
             }
            },
            "type": "table"
           }
          ]
         },
         "layout": {
          "annotationdefaults": {
           "arrowcolor": "#2a3f5f",
           "arrowhead": 0,
           "arrowwidth": 1
          },
          "autotypenumbers": "strict",
          "coloraxis": {
           "colorbar": {
            "outlinewidth": 0,
            "ticks": ""
           }
          },
          "colorscale": {
           "diverging": [
            [
             0,
             "#8e0152"
            ],
            [
             0.1,
             "#c51b7d"
            ],
            [
             0.2,
             "#de77ae"
            ],
            [
             0.3,
             "#f1b6da"
            ],
            [
             0.4,
             "#fde0ef"
            ],
            [
             0.5,
             "#f7f7f7"
            ],
            [
             0.6,
             "#e6f5d0"
            ],
            [
             0.7,
             "#b8e186"
            ],
            [
             0.8,
             "#7fbc41"
            ],
            [
             0.9,
             "#4d9221"
            ],
            [
             1,
             "#276419"
            ]
           ],
           "sequential": [
            [
             0,
             "#0d0887"
            ],
            [
             0.1111111111111111,
             "#46039f"
            ],
            [
             0.2222222222222222,
             "#7201a8"
            ],
            [
             0.3333333333333333,
             "#9c179e"
            ],
            [
             0.4444444444444444,
             "#bd3786"
            ],
            [
             0.5555555555555556,
             "#d8576b"
            ],
            [
             0.6666666666666666,
             "#ed7953"
            ],
            [
             0.7777777777777778,
             "#fb9f3a"
            ],
            [
             0.8888888888888888,
             "#fdca26"
            ],
            [
             1,
             "#f0f921"
            ]
           ],
           "sequentialminus": [
            [
             0,
             "#0d0887"
            ],
            [
             0.1111111111111111,
             "#46039f"
            ],
            [
             0.2222222222222222,
             "#7201a8"
            ],
            [
             0.3333333333333333,
             "#9c179e"
            ],
            [
             0.4444444444444444,
             "#bd3786"
            ],
            [
             0.5555555555555556,
             "#d8576b"
            ],
            [
             0.6666666666666666,
             "#ed7953"
            ],
            [
             0.7777777777777778,
             "#fb9f3a"
            ],
            [
             0.8888888888888888,
             "#fdca26"
            ],
            [
             1,
             "#f0f921"
            ]
           ]
          },
          "colorway": [
           "#636efa",
           "#EF553B",
           "#00cc96",
           "#ab63fa",
           "#FFA15A",
           "#19d3f3",
           "#FF6692",
           "#B6E880",
           "#FF97FF",
           "#FECB52"
          ],
          "font": {
           "color": "#2a3f5f"
          },
          "geo": {
           "bgcolor": "white",
           "lakecolor": "white",
           "landcolor": "#E5ECF6",
           "showlakes": true,
           "showland": true,
           "subunitcolor": "white"
          },
          "hoverlabel": {
           "align": "left"
          },
          "hovermode": "closest",
          "mapbox": {
           "style": "light"
          },
          "paper_bgcolor": "white",
          "plot_bgcolor": "#E5ECF6",
          "polar": {
           "angularaxis": {
            "gridcolor": "white",
            "linecolor": "white",
            "ticks": ""
           },
           "bgcolor": "#E5ECF6",
           "radialaxis": {
            "gridcolor": "white",
            "linecolor": "white",
            "ticks": ""
           }
          },
          "scene": {
           "xaxis": {
            "backgroundcolor": "#E5ECF6",
            "gridcolor": "white",
            "gridwidth": 2,
            "linecolor": "white",
            "showbackground": true,
            "ticks": "",
            "zerolinecolor": "white"
           },
           "yaxis": {
            "backgroundcolor": "#E5ECF6",
            "gridcolor": "white",
            "gridwidth": 2,
            "linecolor": "white",
            "showbackground": true,
            "ticks": "",
            "zerolinecolor": "white"
           },
           "zaxis": {
            "backgroundcolor": "#E5ECF6",
            "gridcolor": "white",
            "gridwidth": 2,
            "linecolor": "white",
            "showbackground": true,
            "ticks": "",
            "zerolinecolor": "white"
           }
          },
          "shapedefaults": {
           "line": {
            "color": "#2a3f5f"
           }
          },
          "ternary": {
           "aaxis": {
            "gridcolor": "white",
            "linecolor": "white",
            "ticks": ""
           },
           "baxis": {
            "gridcolor": "white",
            "linecolor": "white",
            "ticks": ""
           },
           "bgcolor": "#E5ECF6",
           "caxis": {
            "gridcolor": "white",
            "linecolor": "white",
            "ticks": ""
           }
          },
          "title": {
           "x": 0.05
          },
          "xaxis": {
           "automargin": true,
           "gridcolor": "white",
           "linecolor": "white",
           "ticks": "",
           "title": {
            "standoff": 15
           },
           "zerolinecolor": "white",
           "zerolinewidth": 2
          },
          "yaxis": {
           "automargin": true,
           "gridcolor": "white",
           "linecolor": "white",
           "ticks": "",
           "title": {
            "standoff": 15
           },
           "zerolinecolor": "white",
           "zerolinewidth": 2
          }
         }
        },
        "title": {
         "text": "Salmon and bears in hot springs in summer"
        },
        "width": 800,
        "xaxis": {
         "anchor": "y",
         "domain": [
          0,
          1
         ],
         "range": [
          0.3,
          1
         ],
         "title": {
          "text": "value"
         }
        },
        "yaxis": {
         "anchor": "x",
         "domain": [
          0,
          1
         ],
         "range": [
          0,
          210
         ],
         "title": {
          "text": "count"
         }
        }
       }
      }
     },
     "metadata": {},
     "output_type": "display_data"
    }
   ],
   "source": [
    "from numpy import dot\n",
    "from numpy.linalg import norm\n",
    "\n",
    "import plotly.express as px\n",
    "prompt=[\"fish and animal\",\"fish and animals in water\",\"salmon and animals in water\",\"salmon and bears in water\",\"salmon and bears in hot springs\",\"Salmon and bears in hot springs in summer\"]\n",
    "\n",
    "for j in range(6):\n",
    "    average =  np.zeros(shape=(300))\n",
    "    for i in range(300):\n",
    "        average+=vectors[j*300+i]\n",
    "\n",
    "    average/=300\n",
    "\n",
    "    cos_sim=[]\n",
    "    for i in range(300):\n",
    "        cos_sim.append( dot(average, vectors[j*300+i])/(norm(average)*norm(vectors[j*300+i])))\n",
    "\n",
    "    fig = px.histogram(\n",
    "        cos_sim,\n",
    "        range_x=[.3,1],\n",
    "        range_y=[0,210]\n",
    "        )\n",
    "    fig.update_layout(\n",
    "        title=prompt[j],\n",
    "        width=800,\n",
    "        height=400,  # Added parameter\n",
    "    )\n",
    "    fig.update_traces(xbins=dict( # bins used for histogram\n",
    "        start=0.3,\n",
    "        end=1.0,\n",
    "        size=.02\n",
    "    ))\n",
    "    fig.show()\n"
   ]
  },
  {
   "cell_type": "code",
   "execution_count": 8,
   "metadata": {},
   "outputs": [],
   "source": [
    "for_variance=[]\n",
    "\n",
    "\n",
    "for j in range(6):\n",
    "    average =  np.zeros(shape=(300))\n",
    "    for i in range(300):\n",
    "        average+=vectors[j*300+i]\n",
    "\n",
    "    average/=300\n",
    "\n",
    "    cos_sim=[]\n",
    "    for i in range(300):\n",
    "        cos_sim.append( dot(average, vectors[j*300+i])/(norm(average)*norm(vectors[j*300+i])))\n",
    "    \n",
    "    for_variance.append(cos_sim)"
   ]
  },
  {
   "cell_type": "code",
   "execution_count": 9,
   "metadata": {},
   "outputs": [
    {
     "name": "stdout",
     "output_type": "stream",
     "text": [
      "fish and animal : 0.002573791810662042\n",
      "salmon and animals in water : 0.00490867182669619\n",
      "p-value: 0.0033745995009749554\n",
      "\n",
      "\n",
      "fish and animal : 0.002573791810662042\n",
      "salmon and bears in water : 0.004032616983448935\n",
      "p-value: 0.014312231147403768\n",
      "\n",
      "\n",
      "fish and animal : 0.002573791810662042\n",
      "salmon and bears in hot springs : 0.007538622943446634\n",
      "p-value: 9.219881151493423e-11\n",
      "\n",
      "\n",
      "fish and animal : 0.002573791810662042\n",
      "Salmon and bears in hot springs in summer : 0.005516239042852056\n",
      "p-value: 1.5665865675564166e-07\n",
      "\n",
      "\n",
      "fish and animals in water : 0.005191801769595384\n",
      "salmon and bears in hot springs : 0.007538622943446634\n",
      "p-value: 4.535531867789185e-06\n",
      "\n",
      "\n",
      "fish and animals in water : 0.005191801769595384\n",
      "Salmon and bears in hot springs in summer : 0.005516239042852056\n",
      "p-value: 0.0009720777287408036\n",
      "\n",
      "\n",
      "salmon and animals in water : 0.00490867182669619\n",
      "salmon and bears in hot springs : 0.007538622943446634\n",
      "p-value: 0.0005941256949812817\n",
      "\n",
      "\n",
      "salmon and bears in water : 0.004032616983448935\n",
      "salmon and bears in hot springs : 0.007538622943446634\n",
      "p-value: 3.564220727446754e-05\n",
      "\n",
      "\n",
      "salmon and bears in water : 0.004032616983448935\n",
      "Salmon and bears in hot springs in summer : 0.005516239042852056\n",
      "p-value: 0.00914037685931203\n",
      "\n",
      "\n"
     ]
    }
   ],
   "source": [
    "from scipy.stats import levene\n",
    "\n",
    "for i in range(6):\n",
    "    for j in range(i+1,6):\n",
    "        stat, p = levene(for_variance[i],for_variance[j])\n",
    "        if(p<0.05):\n",
    "            print(prompt[i],\":\",np.var(for_variance[i]))\n",
    "            print(prompt[j],\":\",np.var(for_variance[j]))\n",
    "            print(\"p-value:\",p)\n",
    "            print(\"\\n\")"
   ]
  },
  {
   "cell_type": "code",
   "execution_count": 35,
   "metadata": {},
   "outputs": [],
   "source": [
    "quality=[\"bear_3_3.jpg\",\n",
    "\"bear_3_15.jpg\",\n",
    "\"bear_3_76.jpg\",\n",
    "\"bear_4_97.jpg\",\n",
    "\"bear_4_118.jpg\",\n",
    "\"bear_4_213.jpg\",\n",
    "\"bear_4_259.jpg\",\n",
    "\"bear_4_283.jpg\",\n",
    "\"bear_4_288.jpg\",\n",
    "\"bear_4_294.jpg\",\n",
    "\"bear_5_3.jpg\",\n",
    "\"bear_5_4.jpg\",\n",
    "\"bear_5_23.jpg\",\n",
    "\"bear_5_27.jpg\",\n",
    "\"bear_5_35.jpg\",\n",
    "\"bear_5_53.jpg\",\n",
    "\"bear_5_56.jpg\",\n",
    "\"bear_5_60.jpg\",\n",
    "\"bear_5_62.jpg\",\n",
    "\"bear_5_78.jpg\",\n",
    "\"bear_5_157.jpg\",\n",
    "\"bear_5_180.jpg\",\n",
    "\"bear_5_184.jpg\",\n",
    "\"bear_5_234.jpg\",\n",
    "\"bear_5_232.jpg\"]"
   ]
  },
  {
   "cell_type": "code",
   "execution_count": null,
   "metadata": {},
   "outputs": [],
   "source": []
  },
  {
   "cell_type": "code",
   "execution_count": 36,
   "metadata": {},
   "outputs": [],
   "source": [
    "target=np.zeros(shape=(300))\n",
    "\n",
    "for i in quality:\n",
    "    i=i.split(\"_\")\n",
    "    i[2]=i[2].split(\".\")[0]\n",
    "    target+=vectors[int(i[1])*300+int(i[2])]\n",
    "\n",
    "target/=len(quality)\n"
   ]
  },
  {
   "cell_type": "code",
   "execution_count": 37,
   "metadata": {},
   "outputs": [
    {
     "data": {
      "application/vnd.plotly.v1+json": {
       "config": {
        "plotlyServerURL": "https://plot.ly"
       },
       "data": [
        {
         "alignmentgroup": "True",
         "bingroup": "x",
         "hovertemplate": "variable=0<br>value=%{x}<br>count=%{y}<extra></extra>",
         "legendgroup": "0",
         "marker": {
          "color": "#636efa",
          "pattern": {
           "shape": ""
          }
         },
         "name": "0",
         "offsetgroup": "0",
         "orientation": "v",
         "showlegend": true,
         "type": "histogram",
         "x": [
          0.6890841469132081,
          0.7873915605977085,
          0.7809176970731267,
          0.806422873320075,
          0.7740305432452467,
          0.806422873320075,
          0.7540877083192441,
          0.7172590139008352,
          0.7499837079353201,
          0.7905752965968668,
          0.7924966591030873,
          0.843047391120102,
          0.7778099176396258,
          0.806422873320075,
          0.7667490104026752,
          0.8052786964559319,
          0.7889845686411576,
          0.7228685844288111,
          0.773255378977019,
          0.7227210983699982,
          0.825705154020534,
          0.7810183403147017,
          0.765182348644408,
          0.7748130302573865,
          0.7810183403147017,
          0.7228685844288111,
          0.7418777680621287,
          0.7194325296798979,
          0.7456111306313241,
          0.8225430434636661,
          0.7535704036411114,
          0.7835499451056946,
          0.7545728524362132,
          0.7076473896540916,
          0.6968025393884135,
          0.7155644951672205,
          0.806422873320075,
          0.716456440155351,
          0.806422873320075,
          0.7459422727821459,
          0.7120628667502249,
          0.825705154020534,
          0.806422873320075,
          0.8029846272984176,
          0.7227210983699982,
          0.7809176970731267,
          0.8028330573102744,
          0.7379055018083229,
          0.7810183403147017,
          0.806422873320075,
          0.7617991171526832,
          0.806422873320075,
          0.7437958930162661,
          0.7194325296798979,
          0.7887407798235956,
          0.793144076740083,
          0.7071457423719122,
          0.6649141882980191,
          0.806422873320075,
          0.8049159692803918,
          0.7870332651157472,
          0.7437958930162661,
          0.7748130302573865,
          0.7227210983699982,
          0.7020100631411481,
          0.7542121116519134,
          0.8613090649479908,
          0.7482036973295383,
          0.7278811328916177,
          0.8137121756241618,
          0.7956452166298805,
          0.7227210983699982,
          0.773255378977019,
          0.7063982757555587,
          0.7788100503906341,
          0.7835499451056946,
          0.825705154020534,
          0.8264453180106898,
          0.8012304636844475,
          0.7616324453544836,
          0.7228685844288111,
          0.8432995931371376,
          0.7278811328916177,
          0.7990614743326112,
          0.7990614743326112,
          0.825705154020534,
          0.806422873320075,
          0.7940020188336792,
          0.7609398460604566,
          0.7279955697844105,
          0.7415958898109997,
          0.7810183403147017,
          0.7620202411664643,
          0.6743641412118859,
          0.7930902603698768,
          0.825705154020534,
          0.809784441736979,
          0.8130843119633363,
          0.6787124396113086,
          0.7810183403147017,
          0.7227210983699982,
          0.819571853491987,
          0.7748130302573865,
          0.7227210983699982,
          0.6895789195261418,
          0.7415958898109997,
          0.7370272750490742,
          0.7228685844288111,
          0.6822138625763988,
          0.8146172461653399,
          0.710082865392769,
          0.7809176970731267,
          0.689034981671695,
          0.7809176970731267,
          0.806422873320075,
          0.8225430434636661,
          0.7228685844288111,
          0.7656945395055758,
          0.6649141882980191,
          0.692819866992841,
          0.7675266665068455,
          0.4866339975199175,
          0.7810183403147017,
          0.7748130302573865,
          0.806422873320075,
          0.7227210983699982,
          0.6873581192714611,
          0.7236973510164992,
          0.7310705378049163,
          0.804984063794288,
          0.6858883149559561,
          0.773255378977019,
          0.7887407798235956,
          0.8554173768180175,
          0.7873915605977085,
          0.8190714884662951,
          0.7740305432452467,
          0.7219842567671158,
          0.7664638257884033,
          0.7539367881368313,
          0.806422873320075,
          0.7194325296798979,
          0.7951957886686963,
          0.7228685844288111,
          0.6682574357274794,
          0.6787124396113086,
          0.7437958930162661,
          0.7482036973295383,
          0.806422873320075,
          0.7066064603734057,
          0.7219842565507659,
          0.7857946908936951,
          0.7482036973295383,
          0.7951969955661169,
          0.7118363063347615,
          0.7942070495805841,
          0.7326426973698116,
          0.7748130302573865,
          0.773255378977019,
          0.7852791611660149,
          0.8052786964559319,
          0.773255378977019,
          0.8245598742897732,
          0.7835499451056946,
          0.7933422955469119,
          0.7038861392926411,
          0.7759453586129414,
          0.7499837079353201,
          0.7767104981934965,
          0.7633976760207927,
          0.7737908364388266,
          0.806422873320075,
          0.7826175045433763,
          0.7528819397943796,
          0.7809176970731267,
          0.7539367881368313,
          0.7194325296798979,
          0.7468967521863176,
          0.7811377366795579,
          0.7887169452375173,
          0.6892769266919534,
          0.7194325296798979,
          0.71449457550143,
          0.8053874973676488,
          0.6649141882980191,
          0.773255378977019,
          0.6103427060667336,
          0.7987401036135467,
          0.8164814017475275,
          0.7207529773416561,
          0.7611157688024169,
          0.829127811350531,
          0.8658928068092038,
          0.7227210983699982,
          0.7949733050242263,
          0.6556955699912949,
          0.6892769423741832,
          0.7856631163527572,
          0.7482036973295383,
          0.7482036973295383,
          0.7940020188336792,
          0.7748130302573865,
          0.7545172399962613,
          0.8130550357250018,
          0.8177205192049297,
          0.7748130302573865,
          0.8164814017475275,
          0.7331084749835897,
          0.7230397097726602,
          0.8191576758537416,
          0.5628821100508478,
          0.7694172513054705,
          0.7482036973295383,
          0.7194325296798979,
          0.7932035919440654,
          0.7919996831916601,
          0.8164814017475275,
          0.7795774586232077,
          0.7194325296798979,
          0.790502137108889,
          0.7617991171526832,
          0.7493767025911162,
          0.7194325296798979,
          0.7230397097726602,
          0.7602556574576095,
          0.7677012267176117,
          0.708916163113069,
          0.806422873320075,
          0.7499837079353201,
          0.7302675826315064,
          0.725508193811081,
          0.7482036973295383,
          0.6991411338976378,
          0.7518255670973952,
          0.711542613527352,
          0.7345062505502717,
          0.7228685844288111,
          0.7778293135465583,
          0.7809176970731267,
          0.7338815166830155,
          0.825705154020534,
          0.7593858926561206,
          0.657880210963354,
          0.776172896046909,
          0.570066473842622,
          0.7181619073649682,
          0.7839276946987189,
          0.7437958930162661,
          0.7539367881368313,
          0.7862366921120135,
          0.6387660867419274,
          0.7775852144020887,
          0.7767104981934965,
          0.806422873320075,
          0.7694172513054705,
          0.7984414594614498,
          0.7437958930162661,
          0.8171423520047864,
          0.7795774586232077,
          0.7846127532771725,
          0.7069259225754952,
          0.6546818475072037,
          0.8294065085019181,
          0.8003920330269557,
          0.6945654890630595,
          0.806422873320075,
          0.7437958930162661,
          0.7843328411040105,
          0.773255378977019,
          0.7315777357090718,
          0.8164814017475275,
          0.8052786964559319,
          0.7227210983699982,
          0.8231693879178213,
          0.6991411338976378,
          0.7482036973295383,
          0.7093533671586251,
          0.7748130302573865,
          0.7375132038456885,
          0.8366711564071293,
          0.7228685844288111,
          0.761190241606798,
          0.710082865392769,
          0.7227210983699982,
          0.7553965415117956,
          0.7968566730698692,
          0.7810183403147017,
          0.7516184677055331,
          0.7898450306501369,
          0.8298156540122023,
          0.7228685844288111,
          0.7810183403147017,
          0.7228685844288111,
          0.7810183403147017,
          0.7933270441782673,
          0.7656945395055758,
          0.67500167261889,
          0.7810183403147017,
          0.7521543697162274,
          0.7608908798543379
         ],
         "xaxis": "x",
         "xbins": {
          "end": 1,
          "size": 0.02,
          "start": 0.3
         },
         "yaxis": "y"
        }
       ],
       "layout": {
        "barmode": "relative",
        "height": 400,
        "legend": {
         "title": {
          "text": "variable"
         },
         "tracegroupgap": 0
        },
        "margin": {
         "t": 60
        },
        "template": {
         "data": {
          "bar": [
           {
            "error_x": {
             "color": "#2a3f5f"
            },
            "error_y": {
             "color": "#2a3f5f"
            },
            "marker": {
             "line": {
              "color": "#E5ECF6",
              "width": 0.5
             },
             "pattern": {
              "fillmode": "overlay",
              "size": 10,
              "solidity": 0.2
             }
            },
            "type": "bar"
           }
          ],
          "barpolar": [
           {
            "marker": {
             "line": {
              "color": "#E5ECF6",
              "width": 0.5
             },
             "pattern": {
              "fillmode": "overlay",
              "size": 10,
              "solidity": 0.2
             }
            },
            "type": "barpolar"
           }
          ],
          "carpet": [
           {
            "aaxis": {
             "endlinecolor": "#2a3f5f",
             "gridcolor": "white",
             "linecolor": "white",
             "minorgridcolor": "white",
             "startlinecolor": "#2a3f5f"
            },
            "baxis": {
             "endlinecolor": "#2a3f5f",
             "gridcolor": "white",
             "linecolor": "white",
             "minorgridcolor": "white",
             "startlinecolor": "#2a3f5f"
            },
            "type": "carpet"
           }
          ],
          "choropleth": [
           {
            "colorbar": {
             "outlinewidth": 0,
             "ticks": ""
            },
            "type": "choropleth"
           }
          ],
          "contour": [
           {
            "colorbar": {
             "outlinewidth": 0,
             "ticks": ""
            },
            "colorscale": [
             [
              0,
              "#0d0887"
             ],
             [
              0.1111111111111111,
              "#46039f"
             ],
             [
              0.2222222222222222,
              "#7201a8"
             ],
             [
              0.3333333333333333,
              "#9c179e"
             ],
             [
              0.4444444444444444,
              "#bd3786"
             ],
             [
              0.5555555555555556,
              "#d8576b"
             ],
             [
              0.6666666666666666,
              "#ed7953"
             ],
             [
              0.7777777777777778,
              "#fb9f3a"
             ],
             [
              0.8888888888888888,
              "#fdca26"
             ],
             [
              1,
              "#f0f921"
             ]
            ],
            "type": "contour"
           }
          ],
          "contourcarpet": [
           {
            "colorbar": {
             "outlinewidth": 0,
             "ticks": ""
            },
            "type": "contourcarpet"
           }
          ],
          "heatmap": [
           {
            "colorbar": {
             "outlinewidth": 0,
             "ticks": ""
            },
            "colorscale": [
             [
              0,
              "#0d0887"
             ],
             [
              0.1111111111111111,
              "#46039f"
             ],
             [
              0.2222222222222222,
              "#7201a8"
             ],
             [
              0.3333333333333333,
              "#9c179e"
             ],
             [
              0.4444444444444444,
              "#bd3786"
             ],
             [
              0.5555555555555556,
              "#d8576b"
             ],
             [
              0.6666666666666666,
              "#ed7953"
             ],
             [
              0.7777777777777778,
              "#fb9f3a"
             ],
             [
              0.8888888888888888,
              "#fdca26"
             ],
             [
              1,
              "#f0f921"
             ]
            ],
            "type": "heatmap"
           }
          ],
          "heatmapgl": [
           {
            "colorbar": {
             "outlinewidth": 0,
             "ticks": ""
            },
            "colorscale": [
             [
              0,
              "#0d0887"
             ],
             [
              0.1111111111111111,
              "#46039f"
             ],
             [
              0.2222222222222222,
              "#7201a8"
             ],
             [
              0.3333333333333333,
              "#9c179e"
             ],
             [
              0.4444444444444444,
              "#bd3786"
             ],
             [
              0.5555555555555556,
              "#d8576b"
             ],
             [
              0.6666666666666666,
              "#ed7953"
             ],
             [
              0.7777777777777778,
              "#fb9f3a"
             ],
             [
              0.8888888888888888,
              "#fdca26"
             ],
             [
              1,
              "#f0f921"
             ]
            ],
            "type": "heatmapgl"
           }
          ],
          "histogram": [
           {
            "marker": {
             "pattern": {
              "fillmode": "overlay",
              "size": 10,
              "solidity": 0.2
             }
            },
            "type": "histogram"
           }
          ],
          "histogram2d": [
           {
            "colorbar": {
             "outlinewidth": 0,
             "ticks": ""
            },
            "colorscale": [
             [
              0,
              "#0d0887"
             ],
             [
              0.1111111111111111,
              "#46039f"
             ],
             [
              0.2222222222222222,
              "#7201a8"
             ],
             [
              0.3333333333333333,
              "#9c179e"
             ],
             [
              0.4444444444444444,
              "#bd3786"
             ],
             [
              0.5555555555555556,
              "#d8576b"
             ],
             [
              0.6666666666666666,
              "#ed7953"
             ],
             [
              0.7777777777777778,
              "#fb9f3a"
             ],
             [
              0.8888888888888888,
              "#fdca26"
             ],
             [
              1,
              "#f0f921"
             ]
            ],
            "type": "histogram2d"
           }
          ],
          "histogram2dcontour": [
           {
            "colorbar": {
             "outlinewidth": 0,
             "ticks": ""
            },
            "colorscale": [
             [
              0,
              "#0d0887"
             ],
             [
              0.1111111111111111,
              "#46039f"
             ],
             [
              0.2222222222222222,
              "#7201a8"
             ],
             [
              0.3333333333333333,
              "#9c179e"
             ],
             [
              0.4444444444444444,
              "#bd3786"
             ],
             [
              0.5555555555555556,
              "#d8576b"
             ],
             [
              0.6666666666666666,
              "#ed7953"
             ],
             [
              0.7777777777777778,
              "#fb9f3a"
             ],
             [
              0.8888888888888888,
              "#fdca26"
             ],
             [
              1,
              "#f0f921"
             ]
            ],
            "type": "histogram2dcontour"
           }
          ],
          "mesh3d": [
           {
            "colorbar": {
             "outlinewidth": 0,
             "ticks": ""
            },
            "type": "mesh3d"
           }
          ],
          "parcoords": [
           {
            "line": {
             "colorbar": {
              "outlinewidth": 0,
              "ticks": ""
             }
            },
            "type": "parcoords"
           }
          ],
          "pie": [
           {
            "automargin": true,
            "type": "pie"
           }
          ],
          "scatter": [
           {
            "fillpattern": {
             "fillmode": "overlay",
             "size": 10,
             "solidity": 0.2
            },
            "type": "scatter"
           }
          ],
          "scatter3d": [
           {
            "line": {
             "colorbar": {
              "outlinewidth": 0,
              "ticks": ""
             }
            },
            "marker": {
             "colorbar": {
              "outlinewidth": 0,
              "ticks": ""
             }
            },
            "type": "scatter3d"
           }
          ],
          "scattercarpet": [
           {
            "marker": {
             "colorbar": {
              "outlinewidth": 0,
              "ticks": ""
             }
            },
            "type": "scattercarpet"
           }
          ],
          "scattergeo": [
           {
            "marker": {
             "colorbar": {
              "outlinewidth": 0,
              "ticks": ""
             }
            },
            "type": "scattergeo"
           }
          ],
          "scattergl": [
           {
            "marker": {
             "colorbar": {
              "outlinewidth": 0,
              "ticks": ""
             }
            },
            "type": "scattergl"
           }
          ],
          "scattermapbox": [
           {
            "marker": {
             "colorbar": {
              "outlinewidth": 0,
              "ticks": ""
             }
            },
            "type": "scattermapbox"
           }
          ],
          "scatterpolar": [
           {
            "marker": {
             "colorbar": {
              "outlinewidth": 0,
              "ticks": ""
             }
            },
            "type": "scatterpolar"
           }
          ],
          "scatterpolargl": [
           {
            "marker": {
             "colorbar": {
              "outlinewidth": 0,
              "ticks": ""
             }
            },
            "type": "scatterpolargl"
           }
          ],
          "scatterternary": [
           {
            "marker": {
             "colorbar": {
              "outlinewidth": 0,
              "ticks": ""
             }
            },
            "type": "scatterternary"
           }
          ],
          "surface": [
           {
            "colorbar": {
             "outlinewidth": 0,
             "ticks": ""
            },
            "colorscale": [
             [
              0,
              "#0d0887"
             ],
             [
              0.1111111111111111,
              "#46039f"
             ],
             [
              0.2222222222222222,
              "#7201a8"
             ],
             [
              0.3333333333333333,
              "#9c179e"
             ],
             [
              0.4444444444444444,
              "#bd3786"
             ],
             [
              0.5555555555555556,
              "#d8576b"
             ],
             [
              0.6666666666666666,
              "#ed7953"
             ],
             [
              0.7777777777777778,
              "#fb9f3a"
             ],
             [
              0.8888888888888888,
              "#fdca26"
             ],
             [
              1,
              "#f0f921"
             ]
            ],
            "type": "surface"
           }
          ],
          "table": [
           {
            "cells": {
             "fill": {
              "color": "#EBF0F8"
             },
             "line": {
              "color": "white"
             }
            },
            "header": {
             "fill": {
              "color": "#C8D4E3"
             },
             "line": {
              "color": "white"
             }
            },
            "type": "table"
           }
          ]
         },
         "layout": {
          "annotationdefaults": {
           "arrowcolor": "#2a3f5f",
           "arrowhead": 0,
           "arrowwidth": 1
          },
          "autotypenumbers": "strict",
          "coloraxis": {
           "colorbar": {
            "outlinewidth": 0,
            "ticks": ""
           }
          },
          "colorscale": {
           "diverging": [
            [
             0,
             "#8e0152"
            ],
            [
             0.1,
             "#c51b7d"
            ],
            [
             0.2,
             "#de77ae"
            ],
            [
             0.3,
             "#f1b6da"
            ],
            [
             0.4,
             "#fde0ef"
            ],
            [
             0.5,
             "#f7f7f7"
            ],
            [
             0.6,
             "#e6f5d0"
            ],
            [
             0.7,
             "#b8e186"
            ],
            [
             0.8,
             "#7fbc41"
            ],
            [
             0.9,
             "#4d9221"
            ],
            [
             1,
             "#276419"
            ]
           ],
           "sequential": [
            [
             0,
             "#0d0887"
            ],
            [
             0.1111111111111111,
             "#46039f"
            ],
            [
             0.2222222222222222,
             "#7201a8"
            ],
            [
             0.3333333333333333,
             "#9c179e"
            ],
            [
             0.4444444444444444,
             "#bd3786"
            ],
            [
             0.5555555555555556,
             "#d8576b"
            ],
            [
             0.6666666666666666,
             "#ed7953"
            ],
            [
             0.7777777777777778,
             "#fb9f3a"
            ],
            [
             0.8888888888888888,
             "#fdca26"
            ],
            [
             1,
             "#f0f921"
            ]
           ],
           "sequentialminus": [
            [
             0,
             "#0d0887"
            ],
            [
             0.1111111111111111,
             "#46039f"
            ],
            [
             0.2222222222222222,
             "#7201a8"
            ],
            [
             0.3333333333333333,
             "#9c179e"
            ],
            [
             0.4444444444444444,
             "#bd3786"
            ],
            [
             0.5555555555555556,
             "#d8576b"
            ],
            [
             0.6666666666666666,
             "#ed7953"
            ],
            [
             0.7777777777777778,
             "#fb9f3a"
            ],
            [
             0.8888888888888888,
             "#fdca26"
            ],
            [
             1,
             "#f0f921"
            ]
           ]
          },
          "colorway": [
           "#636efa",
           "#EF553B",
           "#00cc96",
           "#ab63fa",
           "#FFA15A",
           "#19d3f3",
           "#FF6692",
           "#B6E880",
           "#FF97FF",
           "#FECB52"
          ],
          "font": {
           "color": "#2a3f5f"
          },
          "geo": {
           "bgcolor": "white",
           "lakecolor": "white",
           "landcolor": "#E5ECF6",
           "showlakes": true,
           "showland": true,
           "subunitcolor": "white"
          },
          "hoverlabel": {
           "align": "left"
          },
          "hovermode": "closest",
          "mapbox": {
           "style": "light"
          },
          "paper_bgcolor": "white",
          "plot_bgcolor": "#E5ECF6",
          "polar": {
           "angularaxis": {
            "gridcolor": "white",
            "linecolor": "white",
            "ticks": ""
           },
           "bgcolor": "#E5ECF6",
           "radialaxis": {
            "gridcolor": "white",
            "linecolor": "white",
            "ticks": ""
           }
          },
          "scene": {
           "xaxis": {
            "backgroundcolor": "#E5ECF6",
            "gridcolor": "white",
            "gridwidth": 2,
            "linecolor": "white",
            "showbackground": true,
            "ticks": "",
            "zerolinecolor": "white"
           },
           "yaxis": {
            "backgroundcolor": "#E5ECF6",
            "gridcolor": "white",
            "gridwidth": 2,
            "linecolor": "white",
            "showbackground": true,
            "ticks": "",
            "zerolinecolor": "white"
           },
           "zaxis": {
            "backgroundcolor": "#E5ECF6",
            "gridcolor": "white",
            "gridwidth": 2,
            "linecolor": "white",
            "showbackground": true,
            "ticks": "",
            "zerolinecolor": "white"
           }
          },
          "shapedefaults": {
           "line": {
            "color": "#2a3f5f"
           }
          },
          "ternary": {
           "aaxis": {
            "gridcolor": "white",
            "linecolor": "white",
            "ticks": ""
           },
           "baxis": {
            "gridcolor": "white",
            "linecolor": "white",
            "ticks": ""
           },
           "bgcolor": "#E5ECF6",
           "caxis": {
            "gridcolor": "white",
            "linecolor": "white",
            "ticks": ""
           }
          },
          "title": {
           "x": 0.05
          },
          "xaxis": {
           "automargin": true,
           "gridcolor": "white",
           "linecolor": "white",
           "ticks": "",
           "title": {
            "standoff": 15
           },
           "zerolinecolor": "white",
           "zerolinewidth": 2
          },
          "yaxis": {
           "automargin": true,
           "gridcolor": "white",
           "linecolor": "white",
           "ticks": "",
           "title": {
            "standoff": 15
           },
           "zerolinecolor": "white",
           "zerolinewidth": 2
          }
         }
        },
        "title": {
         "text": "fish and animal"
        },
        "width": 800,
        "xaxis": {
         "anchor": "y",
         "domain": [
          0,
          1
         ],
         "range": [
          0.3,
          1
         ],
         "title": {
          "text": "value"
         }
        },
        "yaxis": {
         "anchor": "x",
         "domain": [
          0,
          1
         ],
         "range": [
          0,
          110
         ],
         "title": {
          "text": "count"
         }
        }
       }
      }
     },
     "metadata": {},
     "output_type": "display_data"
    },
    {
     "data": {
      "application/vnd.plotly.v1+json": {
       "config": {
        "plotlyServerURL": "https://plot.ly"
       },
       "data": [
        {
         "alignmentgroup": "True",
         "bingroup": "x",
         "hovertemplate": "variable=0<br>value=%{x}<br>count=%{y}<extra></extra>",
         "legendgroup": "0",
         "marker": {
          "color": "#636efa",
          "pattern": {
           "shape": ""
          }
         },
         "name": "0",
         "offsetgroup": "0",
         "orientation": "v",
         "showlegend": true,
         "type": "histogram",
         "x": [
          0.7227210983699982,
          0.8365100928021145,
          0.7810183403147017,
          0.6991411338976378,
          0.806422873320075,
          0.7810183403147017,
          0.7661260240617122,
          0.761190241606798,
          0.7227210983699982,
          0.7833021608690182,
          0.7810183403147017,
          0.7810183403147017,
          0.7809176970731267,
          0.6787124396113086,
          0.7227210983699982,
          0.7810183403147017,
          0.8052786964559319,
          0.8049159692803918,
          0.7810183403147017,
          0.7227210983699982,
          0.7227210983699982,
          0.7415958843155046,
          0.7227210983699982,
          0.7833021608690182,
          0.8049159692803918,
          0.806422873320075,
          0.7227210983699982,
          0.7227210983699982,
          0.7809176970731267,
          0.7505410541576074,
          0.7810183403147017,
          0.7833021608690182,
          0.597858912231796,
          0.7833021608690182,
          0.7227210983699982,
          0.7227210983699982,
          0.7227210983699982,
          0.8052786964559319,
          0.8052786964559319,
          0.7810183403147017,
          0.7227210983699982,
          0.627116718603167,
          0.7482036973295383,
          0.7227210983699982,
          0.8052786964559319,
          0.7227210983699982,
          0.627116718603167,
          0.7978801945757003,
          0.7810183403147017,
          0.7809176970731267,
          0.7656774386235101,
          0.8052786964559319,
          0.7810183403147017,
          0.7227210983699982,
          0.8052786964559319,
          0.7227210983699982,
          0.7227210983699982,
          0.7227210983699982,
          0.7810183403147017,
          0.7810183403147017,
          0.7227210983699982,
          0.7227210983699982,
          0.7541964471276602,
          0.7505410541576074,
          0.6889977750555134,
          0.8024284946190318,
          0.7109399847330354,
          0.7810183403147017,
          0.8049159692803918,
          0.7227210983699982,
          0.7810183403147017,
          0.7810183403147017,
          0.7810183403147017,
          0.6889977750555134,
          0.7810183403147017,
          0.806422873320075,
          0.806422873320075,
          0.7656774386235101,
          0.7227210983699982,
          0.7227210983699982,
          0.7516749460579393,
          0.33095173734431693,
          0.7227210983699982,
          0.7810183403147017,
          0.7810183403147017,
          0.7227210983699982,
          0.7810183403147017,
          0.657880210963354,
          0.7810183403147017,
          0.7810183403147017,
          0.8052786964559319,
          0.75724836171513,
          0.8110780495595422,
          0.7227210983699982,
          0.7194325296798979,
          0.7656774386235101,
          0.7810183403147017,
          0.7943406002230661,
          0.7810183403147017,
          0.7437958930162661,
          0.7810183403147017,
          0.8052786964559319,
          0.7227210983699982,
          0.7810183403147017,
          0.7227210983699982,
          0.7227210983699982,
          0.618625660189092,
          0.7810183403147017,
          0.7810183403147017,
          0.7227210983699982,
          0.7789468515781812,
          0.8110780495595422,
          0.7810183403147017,
          0.7227210983699982,
          0.7227210983699982,
          0.7516749460579393,
          0.7810183403147017,
          0.7810183403147017,
          0.7516749460579393,
          0.7227210983699982,
          0.7227210983699982,
          0.7810183403147017,
          0.7810183403147017,
          0.7810183403147017,
          0.7810183403147017,
          0.7809176970731267,
          0.7227210983699982,
          0.7810183403147017,
          0.806422873320075,
          0.8052786964559319,
          0.7541964471276602,
          0.7227210983699982,
          0.7227210983699982,
          0.7227210983699982,
          0.7459686088848724,
          0.7810183403147017,
          0.7227210983699982,
          0.6871046869994057,
          0.7810183403147017,
          0.7227210983699982,
          0.7227210983699982,
          0.7810183403147017,
          0.7656774386235101,
          0.7194325296798979,
          0.7227210983699982,
          0.7810183403147017,
          0.7227210983699982,
          0.8527607403163522,
          0.7227210983699982,
          0.6991411338976378,
          0.7810183403147017,
          0.7871863298360795,
          0.7987401036135467,
          0.7810183403147017,
          0.7230397097726602,
          0.7810183403147017,
          0.8052786964559319,
          0.7810183403147017,
          0.7227210983699982,
          0.7810183403147017,
          0.7810183403147017,
          0.7227210983699982,
          0.7227210983699982,
          0.7810183403147017,
          0.7227210983699982,
          0.7833021608690182,
          0.7810183403147017,
          0.7810183403147017,
          0.7227210983699982,
          0.7227210983699982,
          0.752598156131871,
          0.7656774386235101,
          0.7227210983699982,
          0.7227210983699982,
          0.8052786964559319,
          0.7227210983699982,
          0.7810183403147017,
          0.806422873320075,
          0.8487402853823551,
          0.6822138625763988,
          0.7810183403147017,
          0.7810183403147017,
          0.7810183403147017,
          0.6425822495254511,
          0.7810183403147017,
          0.8052786964559319,
          0.7833021608690182,
          0.7810183403147017,
          0.7227210983699982,
          0.7810183403147017,
          0.7227210983699982,
          0.706269096476794,
          0.7810183403147017,
          0.6766204870332507,
          0.7227210983699982,
          0.8052786964559319,
          0.7227210983699982,
          0.7810183403147017,
          0.7954513026874874,
          0.7810183403147017,
          0.7810183403147017,
          0.7541964471276602,
          0.7833021608690182,
          0.7810183403147017,
          0.7810183403147017,
          0.7521543697162274,
          0.7116409831272,
          0.8380296344438721,
          0.7227210983699982,
          0.7656774386235101,
          0.7227210983699982,
          0.7227210983699982,
          0.8052786964559319,
          0.7810183403147017,
          0.717077673078921,
          0.7227210983699982,
          0.8052786964559319,
          0.8024284946190318,
          0.7227210983699982,
          0.7833021608690182,
          0.7227210983699982,
          0.7228685844288111,
          0.7656774386235101,
          0.7789468515781812,
          0.7503478414884525,
          0.806422873320075,
          0.7810183403147017,
          0.7789468515781812,
          0.7810183403147017,
          0.7227210983699982,
          0.7516749460579393,
          0.7698216236074735,
          0.8052786964559319,
          0.65300604169006,
          0.7097389662440603,
          0.7482036973295383,
          0.7227210983699982,
          0.7482036973295383,
          0.7459686088848724,
          0.7676095340546712,
          0.7227210983699982,
          0.7810183403147017,
          0.7810183403147017,
          0.7810183403147017,
          0.7810183403147017,
          0.8052786964559319,
          0.6968025393884135,
          0.7810183403147017,
          0.8052786964559319,
          0.75724836171513,
          0.7482036973295383,
          0.7810183403147017,
          0.806422873320075,
          0.7227210983699982,
          0.7833021608690182,
          0.7227210983699982,
          0.7810183403147017,
          0.7505410541576074,
          0.7810183403147017,
          0.6991411338976378,
          0.7810183403147017,
          0.7227210983699982,
          0.7810183403147017,
          0.7227210983699982,
          0.806422873320075,
          0.7227210983699982,
          0.7810183403147017,
          0.7810183403147017,
          0.8052786964559319,
          0.7227210983699982,
          0.6885882512075043,
          0.7810183403147017,
          0.8052786964559319,
          0.7810183403147017,
          0.8225430434636661,
          0.7810183403147017,
          0.7810183403147017,
          0.7227210983699982,
          0.7228685844288111,
          0.7227210983699982,
          0.7541964471276602,
          0.7482036973295383,
          0.7810183403147017,
          0.7810183403147017,
          0.7227210983699982,
          0.8052786964559319,
          0.8052786964559319,
          0.7810183403147017,
          0.8487402853823551,
          0.7767104981934965,
          0.8052786964559319,
          0.7227210983699982,
          0.7889725535971346,
          0.7810183403147017,
          0.6885882512075043,
          0.7227210983699982,
          0.7227210983699982,
          0.7227210983699982,
          0.7810183403147017,
          0.7227210983699982
         ],
         "xaxis": "x",
         "xbins": {
          "end": 1,
          "size": 0.02,
          "start": 0.3
         },
         "yaxis": "y"
        }
       ],
       "layout": {
        "barmode": "relative",
        "height": 400,
        "legend": {
         "title": {
          "text": "variable"
         },
         "tracegroupgap": 0
        },
        "margin": {
         "t": 60
        },
        "template": {
         "data": {
          "bar": [
           {
            "error_x": {
             "color": "#2a3f5f"
            },
            "error_y": {
             "color": "#2a3f5f"
            },
            "marker": {
             "line": {
              "color": "#E5ECF6",
              "width": 0.5
             },
             "pattern": {
              "fillmode": "overlay",
              "size": 10,
              "solidity": 0.2
             }
            },
            "type": "bar"
           }
          ],
          "barpolar": [
           {
            "marker": {
             "line": {
              "color": "#E5ECF6",
              "width": 0.5
             },
             "pattern": {
              "fillmode": "overlay",
              "size": 10,
              "solidity": 0.2
             }
            },
            "type": "barpolar"
           }
          ],
          "carpet": [
           {
            "aaxis": {
             "endlinecolor": "#2a3f5f",
             "gridcolor": "white",
             "linecolor": "white",
             "minorgridcolor": "white",
             "startlinecolor": "#2a3f5f"
            },
            "baxis": {
             "endlinecolor": "#2a3f5f",
             "gridcolor": "white",
             "linecolor": "white",
             "minorgridcolor": "white",
             "startlinecolor": "#2a3f5f"
            },
            "type": "carpet"
           }
          ],
          "choropleth": [
           {
            "colorbar": {
             "outlinewidth": 0,
             "ticks": ""
            },
            "type": "choropleth"
           }
          ],
          "contour": [
           {
            "colorbar": {
             "outlinewidth": 0,
             "ticks": ""
            },
            "colorscale": [
             [
              0,
              "#0d0887"
             ],
             [
              0.1111111111111111,
              "#46039f"
             ],
             [
              0.2222222222222222,
              "#7201a8"
             ],
             [
              0.3333333333333333,
              "#9c179e"
             ],
             [
              0.4444444444444444,
              "#bd3786"
             ],
             [
              0.5555555555555556,
              "#d8576b"
             ],
             [
              0.6666666666666666,
              "#ed7953"
             ],
             [
              0.7777777777777778,
              "#fb9f3a"
             ],
             [
              0.8888888888888888,
              "#fdca26"
             ],
             [
              1,
              "#f0f921"
             ]
            ],
            "type": "contour"
           }
          ],
          "contourcarpet": [
           {
            "colorbar": {
             "outlinewidth": 0,
             "ticks": ""
            },
            "type": "contourcarpet"
           }
          ],
          "heatmap": [
           {
            "colorbar": {
             "outlinewidth": 0,
             "ticks": ""
            },
            "colorscale": [
             [
              0,
              "#0d0887"
             ],
             [
              0.1111111111111111,
              "#46039f"
             ],
             [
              0.2222222222222222,
              "#7201a8"
             ],
             [
              0.3333333333333333,
              "#9c179e"
             ],
             [
              0.4444444444444444,
              "#bd3786"
             ],
             [
              0.5555555555555556,
              "#d8576b"
             ],
             [
              0.6666666666666666,
              "#ed7953"
             ],
             [
              0.7777777777777778,
              "#fb9f3a"
             ],
             [
              0.8888888888888888,
              "#fdca26"
             ],
             [
              1,
              "#f0f921"
             ]
            ],
            "type": "heatmap"
           }
          ],
          "heatmapgl": [
           {
            "colorbar": {
             "outlinewidth": 0,
             "ticks": ""
            },
            "colorscale": [
             [
              0,
              "#0d0887"
             ],
             [
              0.1111111111111111,
              "#46039f"
             ],
             [
              0.2222222222222222,
              "#7201a8"
             ],
             [
              0.3333333333333333,
              "#9c179e"
             ],
             [
              0.4444444444444444,
              "#bd3786"
             ],
             [
              0.5555555555555556,
              "#d8576b"
             ],
             [
              0.6666666666666666,
              "#ed7953"
             ],
             [
              0.7777777777777778,
              "#fb9f3a"
             ],
             [
              0.8888888888888888,
              "#fdca26"
             ],
             [
              1,
              "#f0f921"
             ]
            ],
            "type": "heatmapgl"
           }
          ],
          "histogram": [
           {
            "marker": {
             "pattern": {
              "fillmode": "overlay",
              "size": 10,
              "solidity": 0.2
             }
            },
            "type": "histogram"
           }
          ],
          "histogram2d": [
           {
            "colorbar": {
             "outlinewidth": 0,
             "ticks": ""
            },
            "colorscale": [
             [
              0,
              "#0d0887"
             ],
             [
              0.1111111111111111,
              "#46039f"
             ],
             [
              0.2222222222222222,
              "#7201a8"
             ],
             [
              0.3333333333333333,
              "#9c179e"
             ],
             [
              0.4444444444444444,
              "#bd3786"
             ],
             [
              0.5555555555555556,
              "#d8576b"
             ],
             [
              0.6666666666666666,
              "#ed7953"
             ],
             [
              0.7777777777777778,
              "#fb9f3a"
             ],
             [
              0.8888888888888888,
              "#fdca26"
             ],
             [
              1,
              "#f0f921"
             ]
            ],
            "type": "histogram2d"
           }
          ],
          "histogram2dcontour": [
           {
            "colorbar": {
             "outlinewidth": 0,
             "ticks": ""
            },
            "colorscale": [
             [
              0,
              "#0d0887"
             ],
             [
              0.1111111111111111,
              "#46039f"
             ],
             [
              0.2222222222222222,
              "#7201a8"
             ],
             [
              0.3333333333333333,
              "#9c179e"
             ],
             [
              0.4444444444444444,
              "#bd3786"
             ],
             [
              0.5555555555555556,
              "#d8576b"
             ],
             [
              0.6666666666666666,
              "#ed7953"
             ],
             [
              0.7777777777777778,
              "#fb9f3a"
             ],
             [
              0.8888888888888888,
              "#fdca26"
             ],
             [
              1,
              "#f0f921"
             ]
            ],
            "type": "histogram2dcontour"
           }
          ],
          "mesh3d": [
           {
            "colorbar": {
             "outlinewidth": 0,
             "ticks": ""
            },
            "type": "mesh3d"
           }
          ],
          "parcoords": [
           {
            "line": {
             "colorbar": {
              "outlinewidth": 0,
              "ticks": ""
             }
            },
            "type": "parcoords"
           }
          ],
          "pie": [
           {
            "automargin": true,
            "type": "pie"
           }
          ],
          "scatter": [
           {
            "fillpattern": {
             "fillmode": "overlay",
             "size": 10,
             "solidity": 0.2
            },
            "type": "scatter"
           }
          ],
          "scatter3d": [
           {
            "line": {
             "colorbar": {
              "outlinewidth": 0,
              "ticks": ""
             }
            },
            "marker": {
             "colorbar": {
              "outlinewidth": 0,
              "ticks": ""
             }
            },
            "type": "scatter3d"
           }
          ],
          "scattercarpet": [
           {
            "marker": {
             "colorbar": {
              "outlinewidth": 0,
              "ticks": ""
             }
            },
            "type": "scattercarpet"
           }
          ],
          "scattergeo": [
           {
            "marker": {
             "colorbar": {
              "outlinewidth": 0,
              "ticks": ""
             }
            },
            "type": "scattergeo"
           }
          ],
          "scattergl": [
           {
            "marker": {
             "colorbar": {
              "outlinewidth": 0,
              "ticks": ""
             }
            },
            "type": "scattergl"
           }
          ],
          "scattermapbox": [
           {
            "marker": {
             "colorbar": {
              "outlinewidth": 0,
              "ticks": ""
             }
            },
            "type": "scattermapbox"
           }
          ],
          "scatterpolar": [
           {
            "marker": {
             "colorbar": {
              "outlinewidth": 0,
              "ticks": ""
             }
            },
            "type": "scatterpolar"
           }
          ],
          "scatterpolargl": [
           {
            "marker": {
             "colorbar": {
              "outlinewidth": 0,
              "ticks": ""
             }
            },
            "type": "scatterpolargl"
           }
          ],
          "scatterternary": [
           {
            "marker": {
             "colorbar": {
              "outlinewidth": 0,
              "ticks": ""
             }
            },
            "type": "scatterternary"
           }
          ],
          "surface": [
           {
            "colorbar": {
             "outlinewidth": 0,
             "ticks": ""
            },
            "colorscale": [
             [
              0,
              "#0d0887"
             ],
             [
              0.1111111111111111,
              "#46039f"
             ],
             [
              0.2222222222222222,
              "#7201a8"
             ],
             [
              0.3333333333333333,
              "#9c179e"
             ],
             [
              0.4444444444444444,
              "#bd3786"
             ],
             [
              0.5555555555555556,
              "#d8576b"
             ],
             [
              0.6666666666666666,
              "#ed7953"
             ],
             [
              0.7777777777777778,
              "#fb9f3a"
             ],
             [
              0.8888888888888888,
              "#fdca26"
             ],
             [
              1,
              "#f0f921"
             ]
            ],
            "type": "surface"
           }
          ],
          "table": [
           {
            "cells": {
             "fill": {
              "color": "#EBF0F8"
             },
             "line": {
              "color": "white"
             }
            },
            "header": {
             "fill": {
              "color": "#C8D4E3"
             },
             "line": {
              "color": "white"
             }
            },
            "type": "table"
           }
          ]
         },
         "layout": {
          "annotationdefaults": {
           "arrowcolor": "#2a3f5f",
           "arrowhead": 0,
           "arrowwidth": 1
          },
          "autotypenumbers": "strict",
          "coloraxis": {
           "colorbar": {
            "outlinewidth": 0,
            "ticks": ""
           }
          },
          "colorscale": {
           "diverging": [
            [
             0,
             "#8e0152"
            ],
            [
             0.1,
             "#c51b7d"
            ],
            [
             0.2,
             "#de77ae"
            ],
            [
             0.3,
             "#f1b6da"
            ],
            [
             0.4,
             "#fde0ef"
            ],
            [
             0.5,
             "#f7f7f7"
            ],
            [
             0.6,
             "#e6f5d0"
            ],
            [
             0.7,
             "#b8e186"
            ],
            [
             0.8,
             "#7fbc41"
            ],
            [
             0.9,
             "#4d9221"
            ],
            [
             1,
             "#276419"
            ]
           ],
           "sequential": [
            [
             0,
             "#0d0887"
            ],
            [
             0.1111111111111111,
             "#46039f"
            ],
            [
             0.2222222222222222,
             "#7201a8"
            ],
            [
             0.3333333333333333,
             "#9c179e"
            ],
            [
             0.4444444444444444,
             "#bd3786"
            ],
            [
             0.5555555555555556,
             "#d8576b"
            ],
            [
             0.6666666666666666,
             "#ed7953"
            ],
            [
             0.7777777777777778,
             "#fb9f3a"
            ],
            [
             0.8888888888888888,
             "#fdca26"
            ],
            [
             1,
             "#f0f921"
            ]
           ],
           "sequentialminus": [
            [
             0,
             "#0d0887"
            ],
            [
             0.1111111111111111,
             "#46039f"
            ],
            [
             0.2222222222222222,
             "#7201a8"
            ],
            [
             0.3333333333333333,
             "#9c179e"
            ],
            [
             0.4444444444444444,
             "#bd3786"
            ],
            [
             0.5555555555555556,
             "#d8576b"
            ],
            [
             0.6666666666666666,
             "#ed7953"
            ],
            [
             0.7777777777777778,
             "#fb9f3a"
            ],
            [
             0.8888888888888888,
             "#fdca26"
            ],
            [
             1,
             "#f0f921"
            ]
           ]
          },
          "colorway": [
           "#636efa",
           "#EF553B",
           "#00cc96",
           "#ab63fa",
           "#FFA15A",
           "#19d3f3",
           "#FF6692",
           "#B6E880",
           "#FF97FF",
           "#FECB52"
          ],
          "font": {
           "color": "#2a3f5f"
          },
          "geo": {
           "bgcolor": "white",
           "lakecolor": "white",
           "landcolor": "#E5ECF6",
           "showlakes": true,
           "showland": true,
           "subunitcolor": "white"
          },
          "hoverlabel": {
           "align": "left"
          },
          "hovermode": "closest",
          "mapbox": {
           "style": "light"
          },
          "paper_bgcolor": "white",
          "plot_bgcolor": "#E5ECF6",
          "polar": {
           "angularaxis": {
            "gridcolor": "white",
            "linecolor": "white",
            "ticks": ""
           },
           "bgcolor": "#E5ECF6",
           "radialaxis": {
            "gridcolor": "white",
            "linecolor": "white",
            "ticks": ""
           }
          },
          "scene": {
           "xaxis": {
            "backgroundcolor": "#E5ECF6",
            "gridcolor": "white",
            "gridwidth": 2,
            "linecolor": "white",
            "showbackground": true,
            "ticks": "",
            "zerolinecolor": "white"
           },
           "yaxis": {
            "backgroundcolor": "#E5ECF6",
            "gridcolor": "white",
            "gridwidth": 2,
            "linecolor": "white",
            "showbackground": true,
            "ticks": "",
            "zerolinecolor": "white"
           },
           "zaxis": {
            "backgroundcolor": "#E5ECF6",
            "gridcolor": "white",
            "gridwidth": 2,
            "linecolor": "white",
            "showbackground": true,
            "ticks": "",
            "zerolinecolor": "white"
           }
          },
          "shapedefaults": {
           "line": {
            "color": "#2a3f5f"
           }
          },
          "ternary": {
           "aaxis": {
            "gridcolor": "white",
            "linecolor": "white",
            "ticks": ""
           },
           "baxis": {
            "gridcolor": "white",
            "linecolor": "white",
            "ticks": ""
           },
           "bgcolor": "#E5ECF6",
           "caxis": {
            "gridcolor": "white",
            "linecolor": "white",
            "ticks": ""
           }
          },
          "title": {
           "x": 0.05
          },
          "xaxis": {
           "automargin": true,
           "gridcolor": "white",
           "linecolor": "white",
           "ticks": "",
           "title": {
            "standoff": 15
           },
           "zerolinecolor": "white",
           "zerolinewidth": 2
          },
          "yaxis": {
           "automargin": true,
           "gridcolor": "white",
           "linecolor": "white",
           "ticks": "",
           "title": {
            "standoff": 15
           },
           "zerolinecolor": "white",
           "zerolinewidth": 2
          }
         }
        },
        "title": {
         "text": "fish and animals in water"
        },
        "width": 800,
        "xaxis": {
         "anchor": "y",
         "domain": [
          0,
          1
         ],
         "range": [
          0.3,
          1
         ],
         "title": {
          "text": "value"
         }
        },
        "yaxis": {
         "anchor": "x",
         "domain": [
          0,
          1
         ],
         "range": [
          0,
          110
         ],
         "title": {
          "text": "count"
         }
        }
       }
      }
     },
     "metadata": {},
     "output_type": "display_data"
    },
    {
     "data": {
      "application/vnd.plotly.v1+json": {
       "config": {
        "plotlyServerURL": "https://plot.ly"
       },
       "data": [
        {
         "alignmentgroup": "True",
         "bingroup": "x",
         "hovertemplate": "variable=0<br>value=%{x}<br>count=%{y}<extra></extra>",
         "legendgroup": "0",
         "marker": {
          "color": "#636efa",
          "pattern": {
           "shape": ""
          }
         },
         "name": "0",
         "offsetgroup": "0",
         "orientation": "v",
         "showlegend": true,
         "type": "histogram",
         "x": [
          0.8171102876369277,
          0.7535693895894388,
          0.8118275597450291,
          0.5107754259816158,
          0.7987401036135467,
          0.8501350353470244,
          0.702002686644918,
          0.7748130302573865,
          0.8420480081391638,
          0.7063982215332022,
          0.6971161962243424,
          0.6471034446498527,
          0.6991411338976378,
          0.815473776458557,
          0.7565243801642361,
          0.7987401036135467,
          0.8420480081391638,
          0.8049159692803918,
          0.8003920330269557,
          0.7804539863094909,
          0.7750565411065504,
          0.5609341478217352,
          0.7797818981118672,
          0.7748130302573865,
          0.843047391120102,
          0.8049159692803918,
          0.7541964471276602,
          0.6623921366557464,
          0.657880210963354,
          0.7071457423719122,
          0.8305488118923248,
          0.8215342099865963,
          0.8003998508565591,
          0.6991411338976378,
          0.7804539863094909,
          0.7748130302573865,
          0.8243033332343958,
          0.710226954598618,
          0.8512582263013708,
          0.7541964471276602,
          0.7748028469980146,
          0.7541964471276602,
          0.7246549207408288,
          0.8048094038970104,
          0.7541964471276602,
          0.7541964471276602,
          0.8272901316412268,
          0.8060384150761251,
          0.7394734634846676,
          0.8709503261598359,
          0.8369591770103966,
          0.810701180532215,
          0.6713432920880207,
          0.7436916140171687,
          0.7752088926439683,
          0.8600467475581093,
          0.6909161756116426,
          0.8215253914637404,
          0.7516749460579393,
          0.8049159692803918,
          0.7528421135333206,
          0.7505410541576074,
          0.839853380107977,
          0.8170453262177477,
          0.8118275597450291,
          0.8003920330269557,
          0.7090638606972459,
          0.7792414376491269,
          0.6911709659192586,
          0.7325065267788995,
          0.8322122910805556,
          0.8585598133473912,
          0.7640289134437436,
          0.8420480081391638,
          0.8325443448540192,
          0.8288467579426911,
          0.7769293820982999,
          0.7576711735578913,
          0.8118275597450291,
          0.7813000457421219,
          0.7541964471276602,
          0.7541964471276602,
          0.8117151657910907,
          0.8026630550346647,
          0.4724950302685121,
          0.7849871922366349,
          0.7715944182328256,
          0.4478075386390591,
          0.7541964471276602,
          0.5609341478217352,
          0.7541964471276602,
          0.8038675823076947,
          0.7541964471276602,
          0.6546818475072037,
          0.7304295991096079,
          0.706269096476794,
          0.8365100928021145,
          0.8171102876369277,
          0.8804927950870713,
          0.7140230923045257,
          0.8003998508565591,
          0.8003998508565591,
          0.6261204188700764,
          0.7565797000870567,
          0.6883796607665227,
          0.7810183403147017,
          0.8288467579426911,
          0.8322122910805556,
          0.7333322697618325,
          0.7748130302573865,
          0.8600467475581093,
          0.8215342099865963,
          0.8049159692803918,
          0.7675266665068455,
          0.7071457423719122,
          0.8452631414538874,
          0.7576844027644906,
          0.7382751060952519,
          0.7274995078087202,
          0.8371889601869433,
          0.810701180532215,
          0.816630124988542,
          0.7541964471276602,
          0.8118275597450291,
          0.6261204188700764,
          0.7497184509262029,
          0.7940105027607856,
          0.7810183403147017,
          0.7804539863094909,
          0.6546818475072037,
          0.8133865713727678,
          0.7978801945757003,
          0.7541964471276602,
          0.6261204188700764,
          0.7969007366474814,
          0.6546818475072037,
          0.7804539863094909,
          0.6122904581320191,
          0.7071457423719122,
          0.7748130302573865,
          0.7752088926439683,
          0.8389197133842236,
          0.7541964471276602,
          0.7541964471276602,
          0.825705154020534,
          0.825705154020534,
          0.6352906067282922,
          0.7541964471276602,
          0.7071457423719122,
          0.7987401036135467,
          0.7458909205014524,
          0.8049159692803918,
          0.8457240182918996,
          0.8237121233859488,
          0.7748130302573865,
          0.6594265245112647,
          0.7460249188729989,
          0.7541964471276602,
          0.7611598709551158,
          0.8118275597450291,
          0.7516749460579393,
          0.7987401036135467,
          0.7274995078087202,
          0.8118275597450291,
          0.8171102876369277,
          0.6546818475072037,
          0.7429199671518795,
          0.7987401036135467,
          0.785093149407526,
          0.8183913969977894,
          0.8709503261598359,
          0.7541964471276602,
          0.8322122910805556,
          0.8038675823076947,
          0.7489570310403315,
          0.7804539863094909,
          0.754650964493072,
          0.8731495423138713,
          0.7541964471276602,
          0.8668614107891661,
          0.7535693895894388,
          0.7748130302573865,
          0.8215253705968857,
          0.7541964471276602,
          0.810034578251164,
          0.7071457423719122,
          0.5643441190973647,
          0.76169860778686,
          0.706269096476794,
          0.7748130302573865,
          0.625010725691084,
          0.7803637433290932,
          0.8501350353470244,
          0.810701180532215,
          0.8215253914637404,
          0.812685010007786,
          0.8224757438029956,
          0.8322122910805556,
          0.7541964471276602,
          0.7748130302573865,
          0.7640289134437436,
          0.8073617797673213,
          0.7987401036135467,
          0.7810183403147017,
          0.6261204188700764,
          0.7541964471276602,
          0.8050335916151046,
          0.7105811782245821,
          0.8420480081391638,
          0.8237884095132632,
          0.7767477616082564,
          0.7810183403147017,
          0.7363755015998235,
          0.7838485425817152,
          0.8049159692803918,
          0.7516749460579393,
          0.7987401036135467,
          0.7804539863094909,
          0.8294020874037796,
          0.7274995078087202,
          0.8044756650372435,
          0.810701180532215,
          0.8003920330269557,
          0.8105031086128092,
          0.7987401036135467,
          0.7227210983699982,
          0.8215342099865963,
          0.7935438379807063,
          0.7748130302573865,
          0.7987401036135467,
          0.740317489623253,
          0.7541964471276602,
          0.7512976543991248,
          0.657880210963354,
          0.8117151657910907,
          0.3861937096819632,
          0.7748130302573865,
          0.8495657680619766,
          0.7382000891179481,
          0.8675817080080181,
          0.8108359644842039,
          0.7064729245072302,
          0.7935438379807063,
          0.7598513332813719,
          0.8215342099865963,
          0.7748130302573865,
          0.8322122910805556,
          0.645269902015638,
          0.8215342099865963,
          0.8294020874037796,
          0.7811377366795579,
          0.8049159692803918,
          0.8302899560731914,
          0.8016600979877017,
          0.8004892118475078,
          0.8288467579426911,
          0.8338161239015294,
          0.7810183403147017,
          0.7987401036135467,
          0.8049159692803918,
          0.8003998508565591,
          0.7124976354457552,
          0.6546818475072037,
          0.8187684314472166,
          0.7541964471276602,
          0.8049159692803918,
          0.8050335916151046,
          0.783299716170797,
          0.7987401036135467,
          0.7010974210194257,
          0.8049159692803918,
          0.8237214514406409,
          0.7325065267788995,
          0.7541964471276602,
          0.7541964471276602,
          0.5609341478217352,
          0.8136843340665094,
          0.8322122910805556,
          0.7541964471276602,
          0.4478075386390591,
          0.8135226290912845,
          0.7541964471276602,
          0.7987401036135467,
          0.8049159692803918,
          0.810701180532215,
          0.8411625637841671,
          0.7372066744230807,
          0.7071457423719122,
          0.5008798721795606,
          0.7541964471276602,
          0.8118275597450291,
          0.8365100928021145,
          0.8322122910805556,
          0.8049159692803918,
          0.7810183403147017,
          0.6708513185947141,
          0.7889736792401424,
          0.8322122910805556,
          0.8628266128640693,
          0.8049159692803918
         ],
         "xaxis": "x",
         "xbins": {
          "end": 1,
          "size": 0.02,
          "start": 0.3
         },
         "yaxis": "y"
        }
       ],
       "layout": {
        "barmode": "relative",
        "height": 400,
        "legend": {
         "title": {
          "text": "variable"
         },
         "tracegroupgap": 0
        },
        "margin": {
         "t": 60
        },
        "template": {
         "data": {
          "bar": [
           {
            "error_x": {
             "color": "#2a3f5f"
            },
            "error_y": {
             "color": "#2a3f5f"
            },
            "marker": {
             "line": {
              "color": "#E5ECF6",
              "width": 0.5
             },
             "pattern": {
              "fillmode": "overlay",
              "size": 10,
              "solidity": 0.2
             }
            },
            "type": "bar"
           }
          ],
          "barpolar": [
           {
            "marker": {
             "line": {
              "color": "#E5ECF6",
              "width": 0.5
             },
             "pattern": {
              "fillmode": "overlay",
              "size": 10,
              "solidity": 0.2
             }
            },
            "type": "barpolar"
           }
          ],
          "carpet": [
           {
            "aaxis": {
             "endlinecolor": "#2a3f5f",
             "gridcolor": "white",
             "linecolor": "white",
             "minorgridcolor": "white",
             "startlinecolor": "#2a3f5f"
            },
            "baxis": {
             "endlinecolor": "#2a3f5f",
             "gridcolor": "white",
             "linecolor": "white",
             "minorgridcolor": "white",
             "startlinecolor": "#2a3f5f"
            },
            "type": "carpet"
           }
          ],
          "choropleth": [
           {
            "colorbar": {
             "outlinewidth": 0,
             "ticks": ""
            },
            "type": "choropleth"
           }
          ],
          "contour": [
           {
            "colorbar": {
             "outlinewidth": 0,
             "ticks": ""
            },
            "colorscale": [
             [
              0,
              "#0d0887"
             ],
             [
              0.1111111111111111,
              "#46039f"
             ],
             [
              0.2222222222222222,
              "#7201a8"
             ],
             [
              0.3333333333333333,
              "#9c179e"
             ],
             [
              0.4444444444444444,
              "#bd3786"
             ],
             [
              0.5555555555555556,
              "#d8576b"
             ],
             [
              0.6666666666666666,
              "#ed7953"
             ],
             [
              0.7777777777777778,
              "#fb9f3a"
             ],
             [
              0.8888888888888888,
              "#fdca26"
             ],
             [
              1,
              "#f0f921"
             ]
            ],
            "type": "contour"
           }
          ],
          "contourcarpet": [
           {
            "colorbar": {
             "outlinewidth": 0,
             "ticks": ""
            },
            "type": "contourcarpet"
           }
          ],
          "heatmap": [
           {
            "colorbar": {
             "outlinewidth": 0,
             "ticks": ""
            },
            "colorscale": [
             [
              0,
              "#0d0887"
             ],
             [
              0.1111111111111111,
              "#46039f"
             ],
             [
              0.2222222222222222,
              "#7201a8"
             ],
             [
              0.3333333333333333,
              "#9c179e"
             ],
             [
              0.4444444444444444,
              "#bd3786"
             ],
             [
              0.5555555555555556,
              "#d8576b"
             ],
             [
              0.6666666666666666,
              "#ed7953"
             ],
             [
              0.7777777777777778,
              "#fb9f3a"
             ],
             [
              0.8888888888888888,
              "#fdca26"
             ],
             [
              1,
              "#f0f921"
             ]
            ],
            "type": "heatmap"
           }
          ],
          "heatmapgl": [
           {
            "colorbar": {
             "outlinewidth": 0,
             "ticks": ""
            },
            "colorscale": [
             [
              0,
              "#0d0887"
             ],
             [
              0.1111111111111111,
              "#46039f"
             ],
             [
              0.2222222222222222,
              "#7201a8"
             ],
             [
              0.3333333333333333,
              "#9c179e"
             ],
             [
              0.4444444444444444,
              "#bd3786"
             ],
             [
              0.5555555555555556,
              "#d8576b"
             ],
             [
              0.6666666666666666,
              "#ed7953"
             ],
             [
              0.7777777777777778,
              "#fb9f3a"
             ],
             [
              0.8888888888888888,
              "#fdca26"
             ],
             [
              1,
              "#f0f921"
             ]
            ],
            "type": "heatmapgl"
           }
          ],
          "histogram": [
           {
            "marker": {
             "pattern": {
              "fillmode": "overlay",
              "size": 10,
              "solidity": 0.2
             }
            },
            "type": "histogram"
           }
          ],
          "histogram2d": [
           {
            "colorbar": {
             "outlinewidth": 0,
             "ticks": ""
            },
            "colorscale": [
             [
              0,
              "#0d0887"
             ],
             [
              0.1111111111111111,
              "#46039f"
             ],
             [
              0.2222222222222222,
              "#7201a8"
             ],
             [
              0.3333333333333333,
              "#9c179e"
             ],
             [
              0.4444444444444444,
              "#bd3786"
             ],
             [
              0.5555555555555556,
              "#d8576b"
             ],
             [
              0.6666666666666666,
              "#ed7953"
             ],
             [
              0.7777777777777778,
              "#fb9f3a"
             ],
             [
              0.8888888888888888,
              "#fdca26"
             ],
             [
              1,
              "#f0f921"
             ]
            ],
            "type": "histogram2d"
           }
          ],
          "histogram2dcontour": [
           {
            "colorbar": {
             "outlinewidth": 0,
             "ticks": ""
            },
            "colorscale": [
             [
              0,
              "#0d0887"
             ],
             [
              0.1111111111111111,
              "#46039f"
             ],
             [
              0.2222222222222222,
              "#7201a8"
             ],
             [
              0.3333333333333333,
              "#9c179e"
             ],
             [
              0.4444444444444444,
              "#bd3786"
             ],
             [
              0.5555555555555556,
              "#d8576b"
             ],
             [
              0.6666666666666666,
              "#ed7953"
             ],
             [
              0.7777777777777778,
              "#fb9f3a"
             ],
             [
              0.8888888888888888,
              "#fdca26"
             ],
             [
              1,
              "#f0f921"
             ]
            ],
            "type": "histogram2dcontour"
           }
          ],
          "mesh3d": [
           {
            "colorbar": {
             "outlinewidth": 0,
             "ticks": ""
            },
            "type": "mesh3d"
           }
          ],
          "parcoords": [
           {
            "line": {
             "colorbar": {
              "outlinewidth": 0,
              "ticks": ""
             }
            },
            "type": "parcoords"
           }
          ],
          "pie": [
           {
            "automargin": true,
            "type": "pie"
           }
          ],
          "scatter": [
           {
            "fillpattern": {
             "fillmode": "overlay",
             "size": 10,
             "solidity": 0.2
            },
            "type": "scatter"
           }
          ],
          "scatter3d": [
           {
            "line": {
             "colorbar": {
              "outlinewidth": 0,
              "ticks": ""
             }
            },
            "marker": {
             "colorbar": {
              "outlinewidth": 0,
              "ticks": ""
             }
            },
            "type": "scatter3d"
           }
          ],
          "scattercarpet": [
           {
            "marker": {
             "colorbar": {
              "outlinewidth": 0,
              "ticks": ""
             }
            },
            "type": "scattercarpet"
           }
          ],
          "scattergeo": [
           {
            "marker": {
             "colorbar": {
              "outlinewidth": 0,
              "ticks": ""
             }
            },
            "type": "scattergeo"
           }
          ],
          "scattergl": [
           {
            "marker": {
             "colorbar": {
              "outlinewidth": 0,
              "ticks": ""
             }
            },
            "type": "scattergl"
           }
          ],
          "scattermapbox": [
           {
            "marker": {
             "colorbar": {
              "outlinewidth": 0,
              "ticks": ""
             }
            },
            "type": "scattermapbox"
           }
          ],
          "scatterpolar": [
           {
            "marker": {
             "colorbar": {
              "outlinewidth": 0,
              "ticks": ""
             }
            },
            "type": "scatterpolar"
           }
          ],
          "scatterpolargl": [
           {
            "marker": {
             "colorbar": {
              "outlinewidth": 0,
              "ticks": ""
             }
            },
            "type": "scatterpolargl"
           }
          ],
          "scatterternary": [
           {
            "marker": {
             "colorbar": {
              "outlinewidth": 0,
              "ticks": ""
             }
            },
            "type": "scatterternary"
           }
          ],
          "surface": [
           {
            "colorbar": {
             "outlinewidth": 0,
             "ticks": ""
            },
            "colorscale": [
             [
              0,
              "#0d0887"
             ],
             [
              0.1111111111111111,
              "#46039f"
             ],
             [
              0.2222222222222222,
              "#7201a8"
             ],
             [
              0.3333333333333333,
              "#9c179e"
             ],
             [
              0.4444444444444444,
              "#bd3786"
             ],
             [
              0.5555555555555556,
              "#d8576b"
             ],
             [
              0.6666666666666666,
              "#ed7953"
             ],
             [
              0.7777777777777778,
              "#fb9f3a"
             ],
             [
              0.8888888888888888,
              "#fdca26"
             ],
             [
              1,
              "#f0f921"
             ]
            ],
            "type": "surface"
           }
          ],
          "table": [
           {
            "cells": {
             "fill": {
              "color": "#EBF0F8"
             },
             "line": {
              "color": "white"
             }
            },
            "header": {
             "fill": {
              "color": "#C8D4E3"
             },
             "line": {
              "color": "white"
             }
            },
            "type": "table"
           }
          ]
         },
         "layout": {
          "annotationdefaults": {
           "arrowcolor": "#2a3f5f",
           "arrowhead": 0,
           "arrowwidth": 1
          },
          "autotypenumbers": "strict",
          "coloraxis": {
           "colorbar": {
            "outlinewidth": 0,
            "ticks": ""
           }
          },
          "colorscale": {
           "diverging": [
            [
             0,
             "#8e0152"
            ],
            [
             0.1,
             "#c51b7d"
            ],
            [
             0.2,
             "#de77ae"
            ],
            [
             0.3,
             "#f1b6da"
            ],
            [
             0.4,
             "#fde0ef"
            ],
            [
             0.5,
             "#f7f7f7"
            ],
            [
             0.6,
             "#e6f5d0"
            ],
            [
             0.7,
             "#b8e186"
            ],
            [
             0.8,
             "#7fbc41"
            ],
            [
             0.9,
             "#4d9221"
            ],
            [
             1,
             "#276419"
            ]
           ],
           "sequential": [
            [
             0,
             "#0d0887"
            ],
            [
             0.1111111111111111,
             "#46039f"
            ],
            [
             0.2222222222222222,
             "#7201a8"
            ],
            [
             0.3333333333333333,
             "#9c179e"
            ],
            [
             0.4444444444444444,
             "#bd3786"
            ],
            [
             0.5555555555555556,
             "#d8576b"
            ],
            [
             0.6666666666666666,
             "#ed7953"
            ],
            [
             0.7777777777777778,
             "#fb9f3a"
            ],
            [
             0.8888888888888888,
             "#fdca26"
            ],
            [
             1,
             "#f0f921"
            ]
           ],
           "sequentialminus": [
            [
             0,
             "#0d0887"
            ],
            [
             0.1111111111111111,
             "#46039f"
            ],
            [
             0.2222222222222222,
             "#7201a8"
            ],
            [
             0.3333333333333333,
             "#9c179e"
            ],
            [
             0.4444444444444444,
             "#bd3786"
            ],
            [
             0.5555555555555556,
             "#d8576b"
            ],
            [
             0.6666666666666666,
             "#ed7953"
            ],
            [
             0.7777777777777778,
             "#fb9f3a"
            ],
            [
             0.8888888888888888,
             "#fdca26"
            ],
            [
             1,
             "#f0f921"
            ]
           ]
          },
          "colorway": [
           "#636efa",
           "#EF553B",
           "#00cc96",
           "#ab63fa",
           "#FFA15A",
           "#19d3f3",
           "#FF6692",
           "#B6E880",
           "#FF97FF",
           "#FECB52"
          ],
          "font": {
           "color": "#2a3f5f"
          },
          "geo": {
           "bgcolor": "white",
           "lakecolor": "white",
           "landcolor": "#E5ECF6",
           "showlakes": true,
           "showland": true,
           "subunitcolor": "white"
          },
          "hoverlabel": {
           "align": "left"
          },
          "hovermode": "closest",
          "mapbox": {
           "style": "light"
          },
          "paper_bgcolor": "white",
          "plot_bgcolor": "#E5ECF6",
          "polar": {
           "angularaxis": {
            "gridcolor": "white",
            "linecolor": "white",
            "ticks": ""
           },
           "bgcolor": "#E5ECF6",
           "radialaxis": {
            "gridcolor": "white",
            "linecolor": "white",
            "ticks": ""
           }
          },
          "scene": {
           "xaxis": {
            "backgroundcolor": "#E5ECF6",
            "gridcolor": "white",
            "gridwidth": 2,
            "linecolor": "white",
            "showbackground": true,
            "ticks": "",
            "zerolinecolor": "white"
           },
           "yaxis": {
            "backgroundcolor": "#E5ECF6",
            "gridcolor": "white",
            "gridwidth": 2,
            "linecolor": "white",
            "showbackground": true,
            "ticks": "",
            "zerolinecolor": "white"
           },
           "zaxis": {
            "backgroundcolor": "#E5ECF6",
            "gridcolor": "white",
            "gridwidth": 2,
            "linecolor": "white",
            "showbackground": true,
            "ticks": "",
            "zerolinecolor": "white"
           }
          },
          "shapedefaults": {
           "line": {
            "color": "#2a3f5f"
           }
          },
          "ternary": {
           "aaxis": {
            "gridcolor": "white",
            "linecolor": "white",
            "ticks": ""
           },
           "baxis": {
            "gridcolor": "white",
            "linecolor": "white",
            "ticks": ""
           },
           "bgcolor": "#E5ECF6",
           "caxis": {
            "gridcolor": "white",
            "linecolor": "white",
            "ticks": ""
           }
          },
          "title": {
           "x": 0.05
          },
          "xaxis": {
           "automargin": true,
           "gridcolor": "white",
           "linecolor": "white",
           "ticks": "",
           "title": {
            "standoff": 15
           },
           "zerolinecolor": "white",
           "zerolinewidth": 2
          },
          "yaxis": {
           "automargin": true,
           "gridcolor": "white",
           "linecolor": "white",
           "ticks": "",
           "title": {
            "standoff": 15
           },
           "zerolinecolor": "white",
           "zerolinewidth": 2
          }
         }
        },
        "title": {
         "text": "salmon and animals in water"
        },
        "width": 800,
        "xaxis": {
         "anchor": "y",
         "domain": [
          0,
          1
         ],
         "range": [
          0.3,
          1
         ],
         "title": {
          "text": "value"
         }
        },
        "yaxis": {
         "anchor": "x",
         "domain": [
          0,
          1
         ],
         "range": [
          0,
          110
         ],
         "title": {
          "text": "count"
         }
        }
       }
      }
     },
     "metadata": {},
     "output_type": "display_data"
    },
    {
     "data": {
      "application/vnd.plotly.v1+json": {
       "config": {
        "plotlyServerURL": "https://plot.ly"
       },
       "data": [
        {
         "alignmentgroup": "True",
         "bingroup": "x",
         "hovertemplate": "variable=0<br>value=%{x}<br>count=%{y}<extra></extra>",
         "legendgroup": "0",
         "marker": {
          "color": "#636efa",
          "pattern": {
           "shape": ""
          }
         },
         "name": "0",
         "offsetgroup": "0",
         "orientation": "v",
         "showlegend": true,
         "type": "histogram",
         "x": [
          0.9126154601965418,
          0.9319376453206709,
          0.8951925949829294,
          0.8871399142145033,
          0.7937485940531758,
          0.7611598709551158,
          0.9019169969378683,
          0.7565797000870567,
          0.845150818160087,
          0.9387970535161245,
          0.9260278743484978,
          0.7517549512732776,
          0.930868068091527,
          0.7642091969104454,
          0.8724159461030851,
          0.9027916684050137,
          0.7984929058475569,
          0.8492378407581815,
          0.9475131654272867,
          0.9359843074943832,
          0.926922220406729,
          0.8655839394430185,
          0.7937485940531758,
          0.9319376453206709,
          0.9368085116535385,
          0.691169821512575,
          0.7810183403147017,
          0.71041082072975,
          0.6398413041901457,
          0.691169821512575,
          0.9404636189809217,
          0.9409107688732662,
          0.7826426125812483,
          0.706429982559743,
          0.8420738999826181,
          0.9017357543852902,
          0.8120601815579094,
          0.9084033219203999,
          0.9258494860960673,
          0.7541964471276602,
          0.5008798721795606,
          0.5609341478217352,
          0.8181080712188494,
          0.8215342099865963,
          0.8186453302820662,
          0.8120601815579094,
          0.8432606741935861,
          0.6261204188700764,
          0.8721164584514086,
          0.8747399014889223,
          0.855738923228304,
          0.9208764804929866,
          0.7943406002230661,
          0.8655839394430185,
          0.838420315348883,
          0.9019169969378683,
          0.7751076902961678,
          0.9190809555743933,
          0.7563063271871221,
          0.6689857319309539,
          0.810950306292856,
          0.9352222885640651,
          0.8584698729188328,
          0.810950306292856,
          0.9222565520052753,
          0.7966627773699883,
          0.7957441993349313,
          0.691169821512575,
          0.9656495650093245,
          0.9424648222021553,
          0.9012562002999733,
          0.9564926020036372,
          0.8871399142145033,
          0.9352222885640651,
          0.7132316665265124,
          0.806422873320075,
          0.8229166782591475,
          0.7539367881368313,
          0.9352222885640651,
          0.5433194059728232,
          0.7937485940531758,
          0.9027916684050137,
          0.9074575465868966,
          0.8420394473190147,
          0.9656495650093245,
          0.7372066744230807,
          0.9260514047039028,
          0.9257792243869505,
          0.9110072820606474,
          0.9019169969378683,
          0.9019169969378683,
          0.7198939404188546,
          0.8708239837293705,
          0.9416260238339894,
          0.6261204188700764,
          0.8300994777363264,
          0.8799216489492936,
          0.9019169969378683,
          0.9131525356253591,
          0.5008798721795606,
          0.9352222885640651,
          0.8024508064365797,
          0.882828320492734,
          0.9257792243869505,
          0.9466271273634046,
          0.8420650555933541,
          0.8340394162717732,
          0.7964957277937067,
          0.930868068091527,
          0.8215342099865963,
          0.8655839394430185,
          0.8658184434898855,
          0.8118275579624392,
          0.9019169969378683,
          0.70693226869215,
          0.8450662929465584,
          0.9145185073021728,
          0.8376692493097214,
          0.9132687032163805,
          0.9223376696936365,
          0.6829611991334315,
          0.9019169969378683,
          0.8080841711475999,
          0.930868068091527,
          0.7224002064270648,
          0.9258494860960673,
          0.7565797000870567,
          0.7825824191941355,
          0.7810183403147017,
          0.803785484034425,
          0.9019169969378683,
          0.8655839394430185,
          0.8110552549550963,
          0.8889323329211444,
          0.7810857188001139,
          0.930868068091527,
          0.803216583939123,
          0.810950306292856,
          0.9019169969378683,
          0.9391485139709368,
          0.8944723186360575,
          0.691169821512575,
          0.8374950432615073,
          0.8420394473190147,
          0.750482591368741,
          0.930291424186926,
          0.8564458405393351,
          0.9019169969378683,
          0.7937485940531758,
          0.8718474306014414,
          0.8256126347768253,
          0.8710164095862021,
          0.9027916684050137,
          0.691169821512575,
          0.7937485940531758,
          0.7658748922312085,
          0.5726426747173503,
          0.8322122910805556,
          0.9318916554695688,
          0.7087776600706679,
          0.7984982310546309,
          0.4917489246619239,
          0.8119275330463063,
          0.9019169969378683,
          0.8171102876369277,
          0.9257792243869505,
          0.9583374671581987,
          0.9296672214443866,
          0.8655839394430185,
          0.9019169969378683,
          0.9499433632623178,
          0.8658184548217732,
          0.9656495650093245,
          0.9190674146550413,
          0.9499433632623178,
          0.9416260238339894,
          0.881004328133087,
          0.7894307212725973,
          0.8614481648208905,
          0.7937485940531758,
          0.691169821512575,
          0.7964957277937067,
          0.8125647926611104,
          0.691169821512575,
          0.8599528355315719,
          0.8146416845068932,
          0.8557015276234756,
          0.8073617797673213,
          0.9249760866052927,
          0.7748130302573865,
          0.9352222885640651,
          0.7880379577555241,
          0.863319180245052,
          0.8764572495735243,
          0.5892712576483418,
          0.9656495650093245,
          0.9019169969378683,
          0.8889323329211444,
          0.7752088926439683,
          0.7938585885471726,
          0.8506722462279432,
          0.9352222885640651,
          0.9110072820606474,
          0.691169821512575,
          0.9352222885640651,
          0.8996700662879715,
          0.7787003655356085,
          0.8171102876369277,
          0.8171102876369277,
          0.9424648222021553,
          0.8807751110389535,
          0.9319376453206709,
          0.8420738999826181,
          0.7363755015998235,
          0.7937485940531758,
          0.9251848715422609,
          0.8324045145584997,
          0.803216583939123,
          0.7937485940531758,
          0.7008409567135069,
          0.712757125387714,
          0.7316625873282705,
          0.8420738999826181,
          0.9466271273634046,
          0.845150818160087,
          0.930868068091527,
          0.8133574309640019,
          0.80336274878797,
          0.9131525356253591,
          0.691169821512575,
          0.8889323329211444,
          0.8214647681290734,
          0.803216583939123,
          0.8899643222312448,
          0.926922220406729,
          0.9112705909400745,
          0.5609341478217352,
          0.9019169969378683,
          0.810950306292856,
          0.7847996662679324,
          0.9373681158042071,
          0.9352222885640651,
          0.8871399142145033,
          0.8054339349135107,
          0.9257792243869505,
          0.8229770005418326,
          0.7333322697618325,
          0.5609341478217352,
          0.8707492289578143,
          0.691169821512575,
          0.9145322081939551,
          0.8199923091446325,
          0.8567588235969699,
          0.7810183403147017,
          0.8871399142145033,
          0.8171102876369277,
          0.7535693895894388,
          0.8893355965901187,
          0.9187235907942696,
          0.9424648222021553,
          0.9163279343731994,
          0.8655839394430185,
          0.7245628552675493,
          0.9352222885640651,
          0.9074575465868966,
          0.9319376453206709,
          0.691169821512575,
          0.8778051870904144,
          0.9251937723126958,
          0.9074575465868966,
          0.8297423220906988,
          0.7565797000870567,
          0.8387304837214594,
          0.9019169969378683,
          0.9190674146550413,
          0.8951925949829294,
          0.930868068091527,
          0.8724332903457271,
          0.8904578455153053,
          0.8290010787456674,
          0.863319180245052,
          0.9284254681631264,
          0.6261204188700764,
          0.8230824138173356,
          0.7997071713355609,
          0.951496878623178,
          0.691169821512575,
          0.851600598766412,
          0.9019169969378683,
          0.8572704658249475,
          0.7274995078087202,
          0.88702426226317,
          0.8376692493097214,
          0.7089404361668717,
          0.8485327879225656,
          0.8707492289578143,
          0.6944363932951648,
          0.8411787135643349,
          0.691169821512575,
          0.840807184436558
         ],
         "xaxis": "x",
         "xbins": {
          "end": 1,
          "size": 0.02,
          "start": 0.3
         },
         "yaxis": "y"
        }
       ],
       "layout": {
        "barmode": "relative",
        "height": 400,
        "legend": {
         "title": {
          "text": "variable"
         },
         "tracegroupgap": 0
        },
        "margin": {
         "t": 60
        },
        "template": {
         "data": {
          "bar": [
           {
            "error_x": {
             "color": "#2a3f5f"
            },
            "error_y": {
             "color": "#2a3f5f"
            },
            "marker": {
             "line": {
              "color": "#E5ECF6",
              "width": 0.5
             },
             "pattern": {
              "fillmode": "overlay",
              "size": 10,
              "solidity": 0.2
             }
            },
            "type": "bar"
           }
          ],
          "barpolar": [
           {
            "marker": {
             "line": {
              "color": "#E5ECF6",
              "width": 0.5
             },
             "pattern": {
              "fillmode": "overlay",
              "size": 10,
              "solidity": 0.2
             }
            },
            "type": "barpolar"
           }
          ],
          "carpet": [
           {
            "aaxis": {
             "endlinecolor": "#2a3f5f",
             "gridcolor": "white",
             "linecolor": "white",
             "minorgridcolor": "white",
             "startlinecolor": "#2a3f5f"
            },
            "baxis": {
             "endlinecolor": "#2a3f5f",
             "gridcolor": "white",
             "linecolor": "white",
             "minorgridcolor": "white",
             "startlinecolor": "#2a3f5f"
            },
            "type": "carpet"
           }
          ],
          "choropleth": [
           {
            "colorbar": {
             "outlinewidth": 0,
             "ticks": ""
            },
            "type": "choropleth"
           }
          ],
          "contour": [
           {
            "colorbar": {
             "outlinewidth": 0,
             "ticks": ""
            },
            "colorscale": [
             [
              0,
              "#0d0887"
             ],
             [
              0.1111111111111111,
              "#46039f"
             ],
             [
              0.2222222222222222,
              "#7201a8"
             ],
             [
              0.3333333333333333,
              "#9c179e"
             ],
             [
              0.4444444444444444,
              "#bd3786"
             ],
             [
              0.5555555555555556,
              "#d8576b"
             ],
             [
              0.6666666666666666,
              "#ed7953"
             ],
             [
              0.7777777777777778,
              "#fb9f3a"
             ],
             [
              0.8888888888888888,
              "#fdca26"
             ],
             [
              1,
              "#f0f921"
             ]
            ],
            "type": "contour"
           }
          ],
          "contourcarpet": [
           {
            "colorbar": {
             "outlinewidth": 0,
             "ticks": ""
            },
            "type": "contourcarpet"
           }
          ],
          "heatmap": [
           {
            "colorbar": {
             "outlinewidth": 0,
             "ticks": ""
            },
            "colorscale": [
             [
              0,
              "#0d0887"
             ],
             [
              0.1111111111111111,
              "#46039f"
             ],
             [
              0.2222222222222222,
              "#7201a8"
             ],
             [
              0.3333333333333333,
              "#9c179e"
             ],
             [
              0.4444444444444444,
              "#bd3786"
             ],
             [
              0.5555555555555556,
              "#d8576b"
             ],
             [
              0.6666666666666666,
              "#ed7953"
             ],
             [
              0.7777777777777778,
              "#fb9f3a"
             ],
             [
              0.8888888888888888,
              "#fdca26"
             ],
             [
              1,
              "#f0f921"
             ]
            ],
            "type": "heatmap"
           }
          ],
          "heatmapgl": [
           {
            "colorbar": {
             "outlinewidth": 0,
             "ticks": ""
            },
            "colorscale": [
             [
              0,
              "#0d0887"
             ],
             [
              0.1111111111111111,
              "#46039f"
             ],
             [
              0.2222222222222222,
              "#7201a8"
             ],
             [
              0.3333333333333333,
              "#9c179e"
             ],
             [
              0.4444444444444444,
              "#bd3786"
             ],
             [
              0.5555555555555556,
              "#d8576b"
             ],
             [
              0.6666666666666666,
              "#ed7953"
             ],
             [
              0.7777777777777778,
              "#fb9f3a"
             ],
             [
              0.8888888888888888,
              "#fdca26"
             ],
             [
              1,
              "#f0f921"
             ]
            ],
            "type": "heatmapgl"
           }
          ],
          "histogram": [
           {
            "marker": {
             "pattern": {
              "fillmode": "overlay",
              "size": 10,
              "solidity": 0.2
             }
            },
            "type": "histogram"
           }
          ],
          "histogram2d": [
           {
            "colorbar": {
             "outlinewidth": 0,
             "ticks": ""
            },
            "colorscale": [
             [
              0,
              "#0d0887"
             ],
             [
              0.1111111111111111,
              "#46039f"
             ],
             [
              0.2222222222222222,
              "#7201a8"
             ],
             [
              0.3333333333333333,
              "#9c179e"
             ],
             [
              0.4444444444444444,
              "#bd3786"
             ],
             [
              0.5555555555555556,
              "#d8576b"
             ],
             [
              0.6666666666666666,
              "#ed7953"
             ],
             [
              0.7777777777777778,
              "#fb9f3a"
             ],
             [
              0.8888888888888888,
              "#fdca26"
             ],
             [
              1,
              "#f0f921"
             ]
            ],
            "type": "histogram2d"
           }
          ],
          "histogram2dcontour": [
           {
            "colorbar": {
             "outlinewidth": 0,
             "ticks": ""
            },
            "colorscale": [
             [
              0,
              "#0d0887"
             ],
             [
              0.1111111111111111,
              "#46039f"
             ],
             [
              0.2222222222222222,
              "#7201a8"
             ],
             [
              0.3333333333333333,
              "#9c179e"
             ],
             [
              0.4444444444444444,
              "#bd3786"
             ],
             [
              0.5555555555555556,
              "#d8576b"
             ],
             [
              0.6666666666666666,
              "#ed7953"
             ],
             [
              0.7777777777777778,
              "#fb9f3a"
             ],
             [
              0.8888888888888888,
              "#fdca26"
             ],
             [
              1,
              "#f0f921"
             ]
            ],
            "type": "histogram2dcontour"
           }
          ],
          "mesh3d": [
           {
            "colorbar": {
             "outlinewidth": 0,
             "ticks": ""
            },
            "type": "mesh3d"
           }
          ],
          "parcoords": [
           {
            "line": {
             "colorbar": {
              "outlinewidth": 0,
              "ticks": ""
             }
            },
            "type": "parcoords"
           }
          ],
          "pie": [
           {
            "automargin": true,
            "type": "pie"
           }
          ],
          "scatter": [
           {
            "fillpattern": {
             "fillmode": "overlay",
             "size": 10,
             "solidity": 0.2
            },
            "type": "scatter"
           }
          ],
          "scatter3d": [
           {
            "line": {
             "colorbar": {
              "outlinewidth": 0,
              "ticks": ""
             }
            },
            "marker": {
             "colorbar": {
              "outlinewidth": 0,
              "ticks": ""
             }
            },
            "type": "scatter3d"
           }
          ],
          "scattercarpet": [
           {
            "marker": {
             "colorbar": {
              "outlinewidth": 0,
              "ticks": ""
             }
            },
            "type": "scattercarpet"
           }
          ],
          "scattergeo": [
           {
            "marker": {
             "colorbar": {
              "outlinewidth": 0,
              "ticks": ""
             }
            },
            "type": "scattergeo"
           }
          ],
          "scattergl": [
           {
            "marker": {
             "colorbar": {
              "outlinewidth": 0,
              "ticks": ""
             }
            },
            "type": "scattergl"
           }
          ],
          "scattermapbox": [
           {
            "marker": {
             "colorbar": {
              "outlinewidth": 0,
              "ticks": ""
             }
            },
            "type": "scattermapbox"
           }
          ],
          "scatterpolar": [
           {
            "marker": {
             "colorbar": {
              "outlinewidth": 0,
              "ticks": ""
             }
            },
            "type": "scatterpolar"
           }
          ],
          "scatterpolargl": [
           {
            "marker": {
             "colorbar": {
              "outlinewidth": 0,
              "ticks": ""
             }
            },
            "type": "scatterpolargl"
           }
          ],
          "scatterternary": [
           {
            "marker": {
             "colorbar": {
              "outlinewidth": 0,
              "ticks": ""
             }
            },
            "type": "scatterternary"
           }
          ],
          "surface": [
           {
            "colorbar": {
             "outlinewidth": 0,
             "ticks": ""
            },
            "colorscale": [
             [
              0,
              "#0d0887"
             ],
             [
              0.1111111111111111,
              "#46039f"
             ],
             [
              0.2222222222222222,
              "#7201a8"
             ],
             [
              0.3333333333333333,
              "#9c179e"
             ],
             [
              0.4444444444444444,
              "#bd3786"
             ],
             [
              0.5555555555555556,
              "#d8576b"
             ],
             [
              0.6666666666666666,
              "#ed7953"
             ],
             [
              0.7777777777777778,
              "#fb9f3a"
             ],
             [
              0.8888888888888888,
              "#fdca26"
             ],
             [
              1,
              "#f0f921"
             ]
            ],
            "type": "surface"
           }
          ],
          "table": [
           {
            "cells": {
             "fill": {
              "color": "#EBF0F8"
             },
             "line": {
              "color": "white"
             }
            },
            "header": {
             "fill": {
              "color": "#C8D4E3"
             },
             "line": {
              "color": "white"
             }
            },
            "type": "table"
           }
          ]
         },
         "layout": {
          "annotationdefaults": {
           "arrowcolor": "#2a3f5f",
           "arrowhead": 0,
           "arrowwidth": 1
          },
          "autotypenumbers": "strict",
          "coloraxis": {
           "colorbar": {
            "outlinewidth": 0,
            "ticks": ""
           }
          },
          "colorscale": {
           "diverging": [
            [
             0,
             "#8e0152"
            ],
            [
             0.1,
             "#c51b7d"
            ],
            [
             0.2,
             "#de77ae"
            ],
            [
             0.3,
             "#f1b6da"
            ],
            [
             0.4,
             "#fde0ef"
            ],
            [
             0.5,
             "#f7f7f7"
            ],
            [
             0.6,
             "#e6f5d0"
            ],
            [
             0.7,
             "#b8e186"
            ],
            [
             0.8,
             "#7fbc41"
            ],
            [
             0.9,
             "#4d9221"
            ],
            [
             1,
             "#276419"
            ]
           ],
           "sequential": [
            [
             0,
             "#0d0887"
            ],
            [
             0.1111111111111111,
             "#46039f"
            ],
            [
             0.2222222222222222,
             "#7201a8"
            ],
            [
             0.3333333333333333,
             "#9c179e"
            ],
            [
             0.4444444444444444,
             "#bd3786"
            ],
            [
             0.5555555555555556,
             "#d8576b"
            ],
            [
             0.6666666666666666,
             "#ed7953"
            ],
            [
             0.7777777777777778,
             "#fb9f3a"
            ],
            [
             0.8888888888888888,
             "#fdca26"
            ],
            [
             1,
             "#f0f921"
            ]
           ],
           "sequentialminus": [
            [
             0,
             "#0d0887"
            ],
            [
             0.1111111111111111,
             "#46039f"
            ],
            [
             0.2222222222222222,
             "#7201a8"
            ],
            [
             0.3333333333333333,
             "#9c179e"
            ],
            [
             0.4444444444444444,
             "#bd3786"
            ],
            [
             0.5555555555555556,
             "#d8576b"
            ],
            [
             0.6666666666666666,
             "#ed7953"
            ],
            [
             0.7777777777777778,
             "#fb9f3a"
            ],
            [
             0.8888888888888888,
             "#fdca26"
            ],
            [
             1,
             "#f0f921"
            ]
           ]
          },
          "colorway": [
           "#636efa",
           "#EF553B",
           "#00cc96",
           "#ab63fa",
           "#FFA15A",
           "#19d3f3",
           "#FF6692",
           "#B6E880",
           "#FF97FF",
           "#FECB52"
          ],
          "font": {
           "color": "#2a3f5f"
          },
          "geo": {
           "bgcolor": "white",
           "lakecolor": "white",
           "landcolor": "#E5ECF6",
           "showlakes": true,
           "showland": true,
           "subunitcolor": "white"
          },
          "hoverlabel": {
           "align": "left"
          },
          "hovermode": "closest",
          "mapbox": {
           "style": "light"
          },
          "paper_bgcolor": "white",
          "plot_bgcolor": "#E5ECF6",
          "polar": {
           "angularaxis": {
            "gridcolor": "white",
            "linecolor": "white",
            "ticks": ""
           },
           "bgcolor": "#E5ECF6",
           "radialaxis": {
            "gridcolor": "white",
            "linecolor": "white",
            "ticks": ""
           }
          },
          "scene": {
           "xaxis": {
            "backgroundcolor": "#E5ECF6",
            "gridcolor": "white",
            "gridwidth": 2,
            "linecolor": "white",
            "showbackground": true,
            "ticks": "",
            "zerolinecolor": "white"
           },
           "yaxis": {
            "backgroundcolor": "#E5ECF6",
            "gridcolor": "white",
            "gridwidth": 2,
            "linecolor": "white",
            "showbackground": true,
            "ticks": "",
            "zerolinecolor": "white"
           },
           "zaxis": {
            "backgroundcolor": "#E5ECF6",
            "gridcolor": "white",
            "gridwidth": 2,
            "linecolor": "white",
            "showbackground": true,
            "ticks": "",
            "zerolinecolor": "white"
           }
          },
          "shapedefaults": {
           "line": {
            "color": "#2a3f5f"
           }
          },
          "ternary": {
           "aaxis": {
            "gridcolor": "white",
            "linecolor": "white",
            "ticks": ""
           },
           "baxis": {
            "gridcolor": "white",
            "linecolor": "white",
            "ticks": ""
           },
           "bgcolor": "#E5ECF6",
           "caxis": {
            "gridcolor": "white",
            "linecolor": "white",
            "ticks": ""
           }
          },
          "title": {
           "x": 0.05
          },
          "xaxis": {
           "automargin": true,
           "gridcolor": "white",
           "linecolor": "white",
           "ticks": "",
           "title": {
            "standoff": 15
           },
           "zerolinecolor": "white",
           "zerolinewidth": 2
          },
          "yaxis": {
           "automargin": true,
           "gridcolor": "white",
           "linecolor": "white",
           "ticks": "",
           "title": {
            "standoff": 15
           },
           "zerolinecolor": "white",
           "zerolinewidth": 2
          }
         }
        },
        "title": {
         "text": "salmon and bears in water"
        },
        "width": 800,
        "xaxis": {
         "anchor": "y",
         "domain": [
          0,
          1
         ],
         "range": [
          0.3,
          1
         ],
         "title": {
          "text": "value"
         }
        },
        "yaxis": {
         "anchor": "x",
         "domain": [
          0,
          1
         ],
         "range": [
          0,
          110
         ],
         "title": {
          "text": "count"
         }
        }
       }
      }
     },
     "metadata": {},
     "output_type": "display_data"
    },
    {
     "data": {
      "application/vnd.plotly.v1+json": {
       "config": {
        "plotlyServerURL": "https://plot.ly"
       },
       "data": [
        {
         "alignmentgroup": "True",
         "bingroup": "x",
         "hovertemplate": "variable=0<br>value=%{x}<br>count=%{y}<extra></extra>",
         "legendgroup": "0",
         "marker": {
          "color": "#636efa",
          "pattern": {
           "shape": ""
          }
         },
         "name": "0",
         "offsetgroup": "0",
         "orientation": "v",
         "showlegend": true,
         "type": "histogram",
         "x": [
          0.9411950906843903,
          0.9162454625592175,
          0.9429197453867585,
          0.9107281729809404,
          0.7316625873282705,
          0.9807444334771268,
          0.691169821512575,
          0.9278202241611991,
          0.9433555635787978,
          0.9466271273634046,
          0.939265346231326,
          0.9139029483492411,
          0.9352222885640651,
          0.9416260238339894,
          0.7937485940531758,
          0.8587659730983667,
          0.9268272441521247,
          0.8322122910805556,
          0.9466271273634046,
          0.7606791965708628,
          0.860196640833002,
          0.691169821512575,
          0.8839162384797556,
          0.55865435840643,
          0.8115817441857336,
          0.9391141649390922,
          0.701187216847696,
          0.83064568870694,
          0.9499433632623178,
          0.8600467475581093,
          0.8056480306525542,
          0.9578388870451697,
          0.8417655946622307,
          0.8541524973074163,
          0.691169821512575,
          0.8431240592547855,
          0.6261204188700764,
          0.8991849081665384,
          0.6998642064254967,
          0.9019169969378683,
          0.9293447955812132,
          0.7937485940531758,
          0.7378465070742866,
          0.8829280014221218,
          0.838420315348883,
          0.8387304837214594,
          0.9470582962039517,
          0.9019169969378683,
          0.8888451810672658,
          0.7314423242286494,
          0.9416260238339894,
          0.881004328133087,
          0.8050335916151046,
          0.848596209855121,
          0.8718474306014414,
          0.9019169969378683,
          0.8467531985210257,
          0.9019169969378683,
          0.7911111261333771,
          0.9521138726560898,
          0.9387970535161245,
          0.9352222885640651,
          0.7935438379807063,
          0.6483154868366733,
          0.9110072820606474,
          0.8552938637938478,
          0.930291424186926,
          0.8893596335770436,
          0.9391141649390922,
          0.9656495650093245,
          0.9257031750643333,
          0.9257792243869505,
          0.9019169969378683,
          0.8322122910805556,
          0.9499433632623178,
          0.7316625873282705,
          0.952424542838469,
          0.9328754966895579,
          0.691169821512575,
          0.8839162384797556,
          0.9352222885640651,
          0.9229936418650664,
          0.8025529068041247,
          0.9352222885640651,
          0.8600467475581093,
          0.9354691025484987,
          0.9487685198986048,
          0.9019169969378683,
          0.9409107688732662,
          0.9578388870451697,
          0.8906498418669038,
          0.9223376696936365,
          0.9352222885640651,
          0.6399227952879429,
          0.9549089501185877,
          0.8000089032959428,
          0.9249760866052927,
          0.9573443607644175,
          0.8481551641768401,
          0.9529095173075204,
          0.7797818981118672,
          0.7937485940531758,
          0.9352222885640651,
          0.8025529068041247,
          0.9466271273634046,
          0.923048206545583,
          0.8257565112669627,
          0.8636147005927965,
          0.8648301404754553,
          0.5493506177129425,
          0.7857255470576603,
          0.9263618766284751,
          0.6031431965121796,
          0.8384347402390568,
          0.8261124029182931,
          0.6923880564273888,
          0.9655142954947695,
          0.9019169969378683,
          0.9655142954947695,
          0.9466271273634046,
          0.9352222885640651,
          0.8761685862021591,
          0.5609341478217352,
          0.8183690323974693,
          0.8071854766465354,
          0.7937485940531758,
          0.8991849081665384,
          0.8881790401822551,
          0.7316625873282705,
          0.8322122910805556,
          0.9223376696936365,
          0.9405033017599418,
          0.691169821512575,
          0.9019169969378683,
          0.8025529068041247,
          0.8360136706532343,
          0.7361349014603139,
          0.7937485940531758,
          0.933095766705069,
          0.9169199237740726,
          0.9194020749951688,
          0.9352222885640651,
          0.7616946491321436,
          0.8871399142145033,
          0.7363755015998235,
          0.9409107688732662,
          0.7316625873282705,
          0.8780926330658025,
          0.9278202241611991,
          0.8025529068041247,
          0.812685010007786,
          0.7316625873282705,
          0.8040781663811134,
          0.5609341478217352,
          0.7538936892127607,
          0.9223376696936365,
          0.8736340847849627,
          0.7595227609538686,
          0.9019169969378683,
          0.9409071378866438,
          0.9499433632623178,
          0.7548046223055676,
          0.9328754966895579,
          0.9352222885640651,
          0.9440998503978592,
          0.8373820486589687,
          0.691169821512575,
          0.9223376696936365,
          0.9344694483110846,
          0.8859393362116229,
          0.9656495650093245,
          0.48442908078553315,
          0.9466271273634046,
          0.8047992992542153,
          0.8939071771698217,
          0.930868068091527,
          0.9110072820606474,
          0.6581862187702014,
          0.7314423242286494,
          0.9549089501185877,
          0.8106167340548335,
          0.9266195980505031,
          0.9466271273634046,
          0.756263356716916,
          0.7316625873282705,
          0.8556385983762955,
          0.8387304837214594,
          0.9549089501185877,
          0.9019169969378683,
          0.8049248413853638,
          0.9457783617477944,
          0.8816558453849698,
          0.9578388870451697,
          0.9352222885640651,
          0.9352493313882166,
          0.9352222885640651,
          0.7899242303510972,
          0.812685010007786,
          0.8580595641792222,
          0.9233644046301999,
          0.7700853332953685,
          0.9019169969378683,
          0.9466271273634046,
          0.7570217788253925,
          0.825705154020534,
          0.8196834323386917,
          0.8384347402390568,
          0.9223376696936365,
          0.691169821512575,
          0.9110072820606474,
          0.9070394367178647,
          0.8556385983762955,
          0.9223376696936365,
          0.88702426226317,
          0.8176621510021124,
          0.9401455893748146,
          0.9409107688732662,
          0.9466271273634046,
          0.7894307212725973,
          0.8788630935732774,
          0.9549089501185877,
          0.8406665901270679,
          0.9146473879178485,
          0.930868068091527,
          0.9387970535161245,
          0.7748130302573865,
          0.8360193869455452,
          0.930868068091527,
          0.9012012209420541,
          0.9470582962039517,
          0.926922220406729,
          0.9352222885640651,
          0.9223376696936365,
          0.9499433632623178,
          0.8707492289578143,
          0.9328754966895579,
          0.8556385983762955,
          0.9496120824811697,
          0.71095842982612,
          0.8700231414799652,
          0.9088308867470708,
          0.7291854618558721,
          0.9466271273634046,
          0.9249760866052927,
          0.9019169969378683,
          0.8764572495735243,
          0.9187235907942696,
          0.9352222885640651,
          0.7579800148696101,
          0.9549089195505475,
          0.9195162984361311,
          0.7655383082979852,
          0.8736340847849627,
          0.6822877954750775,
          0.9391141649390922,
          0.9530748001241001,
          0.8413104358858398,
          0.9223376696936365,
          0.691169821512575,
          0.8948344772658858,
          0.8623926224834172,
          0.9319376453206709,
          0.9656495650093245,
          0.8420394473190147,
          0.7814230811408803,
          0.7580946412488156,
          0.8782176427370488,
          0.7114897491412264,
          0.879700806964839,
          0.930868068091527,
          0.9110072820606474,
          0.881004328133087,
          0.9451381099817338,
          0.9466271273634046,
          0.9223376696936365,
          0.9352222885640651,
          0.750482591368741,
          0.5609341478217352,
          0.9110072820606474,
          0.3496509412211411,
          0.8183690323974693,
          0.930868068091527,
          0.8012377748352282,
          0.9466271273634046,
          0.7931677775109885,
          0.9352222885640651,
          0.9110072820606474,
          0.9660773315635786,
          0.9223376696936365,
          0.8681388569211381,
          0.9352222885640651,
          0.756263356716916,
          0.8600467475581093,
          0.9072559675896817,
          0.9656495849049621,
          0.9019169969378683,
          0.8655839394430185,
          0.8216931294609068,
          0.9223376696936365,
          0.7748130302573865
         ],
         "xaxis": "x",
         "xbins": {
          "end": 1,
          "size": 0.02,
          "start": 0.3
         },
         "yaxis": "y"
        }
       ],
       "layout": {
        "barmode": "relative",
        "height": 400,
        "legend": {
         "title": {
          "text": "variable"
         },
         "tracegroupgap": 0
        },
        "margin": {
         "t": 60
        },
        "template": {
         "data": {
          "bar": [
           {
            "error_x": {
             "color": "#2a3f5f"
            },
            "error_y": {
             "color": "#2a3f5f"
            },
            "marker": {
             "line": {
              "color": "#E5ECF6",
              "width": 0.5
             },
             "pattern": {
              "fillmode": "overlay",
              "size": 10,
              "solidity": 0.2
             }
            },
            "type": "bar"
           }
          ],
          "barpolar": [
           {
            "marker": {
             "line": {
              "color": "#E5ECF6",
              "width": 0.5
             },
             "pattern": {
              "fillmode": "overlay",
              "size": 10,
              "solidity": 0.2
             }
            },
            "type": "barpolar"
           }
          ],
          "carpet": [
           {
            "aaxis": {
             "endlinecolor": "#2a3f5f",
             "gridcolor": "white",
             "linecolor": "white",
             "minorgridcolor": "white",
             "startlinecolor": "#2a3f5f"
            },
            "baxis": {
             "endlinecolor": "#2a3f5f",
             "gridcolor": "white",
             "linecolor": "white",
             "minorgridcolor": "white",
             "startlinecolor": "#2a3f5f"
            },
            "type": "carpet"
           }
          ],
          "choropleth": [
           {
            "colorbar": {
             "outlinewidth": 0,
             "ticks": ""
            },
            "type": "choropleth"
           }
          ],
          "contour": [
           {
            "colorbar": {
             "outlinewidth": 0,
             "ticks": ""
            },
            "colorscale": [
             [
              0,
              "#0d0887"
             ],
             [
              0.1111111111111111,
              "#46039f"
             ],
             [
              0.2222222222222222,
              "#7201a8"
             ],
             [
              0.3333333333333333,
              "#9c179e"
             ],
             [
              0.4444444444444444,
              "#bd3786"
             ],
             [
              0.5555555555555556,
              "#d8576b"
             ],
             [
              0.6666666666666666,
              "#ed7953"
             ],
             [
              0.7777777777777778,
              "#fb9f3a"
             ],
             [
              0.8888888888888888,
              "#fdca26"
             ],
             [
              1,
              "#f0f921"
             ]
            ],
            "type": "contour"
           }
          ],
          "contourcarpet": [
           {
            "colorbar": {
             "outlinewidth": 0,
             "ticks": ""
            },
            "type": "contourcarpet"
           }
          ],
          "heatmap": [
           {
            "colorbar": {
             "outlinewidth": 0,
             "ticks": ""
            },
            "colorscale": [
             [
              0,
              "#0d0887"
             ],
             [
              0.1111111111111111,
              "#46039f"
             ],
             [
              0.2222222222222222,
              "#7201a8"
             ],
             [
              0.3333333333333333,
              "#9c179e"
             ],
             [
              0.4444444444444444,
              "#bd3786"
             ],
             [
              0.5555555555555556,
              "#d8576b"
             ],
             [
              0.6666666666666666,
              "#ed7953"
             ],
             [
              0.7777777777777778,
              "#fb9f3a"
             ],
             [
              0.8888888888888888,
              "#fdca26"
             ],
             [
              1,
              "#f0f921"
             ]
            ],
            "type": "heatmap"
           }
          ],
          "heatmapgl": [
           {
            "colorbar": {
             "outlinewidth": 0,
             "ticks": ""
            },
            "colorscale": [
             [
              0,
              "#0d0887"
             ],
             [
              0.1111111111111111,
              "#46039f"
             ],
             [
              0.2222222222222222,
              "#7201a8"
             ],
             [
              0.3333333333333333,
              "#9c179e"
             ],
             [
              0.4444444444444444,
              "#bd3786"
             ],
             [
              0.5555555555555556,
              "#d8576b"
             ],
             [
              0.6666666666666666,
              "#ed7953"
             ],
             [
              0.7777777777777778,
              "#fb9f3a"
             ],
             [
              0.8888888888888888,
              "#fdca26"
             ],
             [
              1,
              "#f0f921"
             ]
            ],
            "type": "heatmapgl"
           }
          ],
          "histogram": [
           {
            "marker": {
             "pattern": {
              "fillmode": "overlay",
              "size": 10,
              "solidity": 0.2
             }
            },
            "type": "histogram"
           }
          ],
          "histogram2d": [
           {
            "colorbar": {
             "outlinewidth": 0,
             "ticks": ""
            },
            "colorscale": [
             [
              0,
              "#0d0887"
             ],
             [
              0.1111111111111111,
              "#46039f"
             ],
             [
              0.2222222222222222,
              "#7201a8"
             ],
             [
              0.3333333333333333,
              "#9c179e"
             ],
             [
              0.4444444444444444,
              "#bd3786"
             ],
             [
              0.5555555555555556,
              "#d8576b"
             ],
             [
              0.6666666666666666,
              "#ed7953"
             ],
             [
              0.7777777777777778,
              "#fb9f3a"
             ],
             [
              0.8888888888888888,
              "#fdca26"
             ],
             [
              1,
              "#f0f921"
             ]
            ],
            "type": "histogram2d"
           }
          ],
          "histogram2dcontour": [
           {
            "colorbar": {
             "outlinewidth": 0,
             "ticks": ""
            },
            "colorscale": [
             [
              0,
              "#0d0887"
             ],
             [
              0.1111111111111111,
              "#46039f"
             ],
             [
              0.2222222222222222,
              "#7201a8"
             ],
             [
              0.3333333333333333,
              "#9c179e"
             ],
             [
              0.4444444444444444,
              "#bd3786"
             ],
             [
              0.5555555555555556,
              "#d8576b"
             ],
             [
              0.6666666666666666,
              "#ed7953"
             ],
             [
              0.7777777777777778,
              "#fb9f3a"
             ],
             [
              0.8888888888888888,
              "#fdca26"
             ],
             [
              1,
              "#f0f921"
             ]
            ],
            "type": "histogram2dcontour"
           }
          ],
          "mesh3d": [
           {
            "colorbar": {
             "outlinewidth": 0,
             "ticks": ""
            },
            "type": "mesh3d"
           }
          ],
          "parcoords": [
           {
            "line": {
             "colorbar": {
              "outlinewidth": 0,
              "ticks": ""
             }
            },
            "type": "parcoords"
           }
          ],
          "pie": [
           {
            "automargin": true,
            "type": "pie"
           }
          ],
          "scatter": [
           {
            "fillpattern": {
             "fillmode": "overlay",
             "size": 10,
             "solidity": 0.2
            },
            "type": "scatter"
           }
          ],
          "scatter3d": [
           {
            "line": {
             "colorbar": {
              "outlinewidth": 0,
              "ticks": ""
             }
            },
            "marker": {
             "colorbar": {
              "outlinewidth": 0,
              "ticks": ""
             }
            },
            "type": "scatter3d"
           }
          ],
          "scattercarpet": [
           {
            "marker": {
             "colorbar": {
              "outlinewidth": 0,
              "ticks": ""
             }
            },
            "type": "scattercarpet"
           }
          ],
          "scattergeo": [
           {
            "marker": {
             "colorbar": {
              "outlinewidth": 0,
              "ticks": ""
             }
            },
            "type": "scattergeo"
           }
          ],
          "scattergl": [
           {
            "marker": {
             "colorbar": {
              "outlinewidth": 0,
              "ticks": ""
             }
            },
            "type": "scattergl"
           }
          ],
          "scattermapbox": [
           {
            "marker": {
             "colorbar": {
              "outlinewidth": 0,
              "ticks": ""
             }
            },
            "type": "scattermapbox"
           }
          ],
          "scatterpolar": [
           {
            "marker": {
             "colorbar": {
              "outlinewidth": 0,
              "ticks": ""
             }
            },
            "type": "scatterpolar"
           }
          ],
          "scatterpolargl": [
           {
            "marker": {
             "colorbar": {
              "outlinewidth": 0,
              "ticks": ""
             }
            },
            "type": "scatterpolargl"
           }
          ],
          "scatterternary": [
           {
            "marker": {
             "colorbar": {
              "outlinewidth": 0,
              "ticks": ""
             }
            },
            "type": "scatterternary"
           }
          ],
          "surface": [
           {
            "colorbar": {
             "outlinewidth": 0,
             "ticks": ""
            },
            "colorscale": [
             [
              0,
              "#0d0887"
             ],
             [
              0.1111111111111111,
              "#46039f"
             ],
             [
              0.2222222222222222,
              "#7201a8"
             ],
             [
              0.3333333333333333,
              "#9c179e"
             ],
             [
              0.4444444444444444,
              "#bd3786"
             ],
             [
              0.5555555555555556,
              "#d8576b"
             ],
             [
              0.6666666666666666,
              "#ed7953"
             ],
             [
              0.7777777777777778,
              "#fb9f3a"
             ],
             [
              0.8888888888888888,
              "#fdca26"
             ],
             [
              1,
              "#f0f921"
             ]
            ],
            "type": "surface"
           }
          ],
          "table": [
           {
            "cells": {
             "fill": {
              "color": "#EBF0F8"
             },
             "line": {
              "color": "white"
             }
            },
            "header": {
             "fill": {
              "color": "#C8D4E3"
             },
             "line": {
              "color": "white"
             }
            },
            "type": "table"
           }
          ]
         },
         "layout": {
          "annotationdefaults": {
           "arrowcolor": "#2a3f5f",
           "arrowhead": 0,
           "arrowwidth": 1
          },
          "autotypenumbers": "strict",
          "coloraxis": {
           "colorbar": {
            "outlinewidth": 0,
            "ticks": ""
           }
          },
          "colorscale": {
           "diverging": [
            [
             0,
             "#8e0152"
            ],
            [
             0.1,
             "#c51b7d"
            ],
            [
             0.2,
             "#de77ae"
            ],
            [
             0.3,
             "#f1b6da"
            ],
            [
             0.4,
             "#fde0ef"
            ],
            [
             0.5,
             "#f7f7f7"
            ],
            [
             0.6,
             "#e6f5d0"
            ],
            [
             0.7,
             "#b8e186"
            ],
            [
             0.8,
             "#7fbc41"
            ],
            [
             0.9,
             "#4d9221"
            ],
            [
             1,
             "#276419"
            ]
           ],
           "sequential": [
            [
             0,
             "#0d0887"
            ],
            [
             0.1111111111111111,
             "#46039f"
            ],
            [
             0.2222222222222222,
             "#7201a8"
            ],
            [
             0.3333333333333333,
             "#9c179e"
            ],
            [
             0.4444444444444444,
             "#bd3786"
            ],
            [
             0.5555555555555556,
             "#d8576b"
            ],
            [
             0.6666666666666666,
             "#ed7953"
            ],
            [
             0.7777777777777778,
             "#fb9f3a"
            ],
            [
             0.8888888888888888,
             "#fdca26"
            ],
            [
             1,
             "#f0f921"
            ]
           ],
           "sequentialminus": [
            [
             0,
             "#0d0887"
            ],
            [
             0.1111111111111111,
             "#46039f"
            ],
            [
             0.2222222222222222,
             "#7201a8"
            ],
            [
             0.3333333333333333,
             "#9c179e"
            ],
            [
             0.4444444444444444,
             "#bd3786"
            ],
            [
             0.5555555555555556,
             "#d8576b"
            ],
            [
             0.6666666666666666,
             "#ed7953"
            ],
            [
             0.7777777777777778,
             "#fb9f3a"
            ],
            [
             0.8888888888888888,
             "#fdca26"
            ],
            [
             1,
             "#f0f921"
            ]
           ]
          },
          "colorway": [
           "#636efa",
           "#EF553B",
           "#00cc96",
           "#ab63fa",
           "#FFA15A",
           "#19d3f3",
           "#FF6692",
           "#B6E880",
           "#FF97FF",
           "#FECB52"
          ],
          "font": {
           "color": "#2a3f5f"
          },
          "geo": {
           "bgcolor": "white",
           "lakecolor": "white",
           "landcolor": "#E5ECF6",
           "showlakes": true,
           "showland": true,
           "subunitcolor": "white"
          },
          "hoverlabel": {
           "align": "left"
          },
          "hovermode": "closest",
          "mapbox": {
           "style": "light"
          },
          "paper_bgcolor": "white",
          "plot_bgcolor": "#E5ECF6",
          "polar": {
           "angularaxis": {
            "gridcolor": "white",
            "linecolor": "white",
            "ticks": ""
           },
           "bgcolor": "#E5ECF6",
           "radialaxis": {
            "gridcolor": "white",
            "linecolor": "white",
            "ticks": ""
           }
          },
          "scene": {
           "xaxis": {
            "backgroundcolor": "#E5ECF6",
            "gridcolor": "white",
            "gridwidth": 2,
            "linecolor": "white",
            "showbackground": true,
            "ticks": "",
            "zerolinecolor": "white"
           },
           "yaxis": {
            "backgroundcolor": "#E5ECF6",
            "gridcolor": "white",
            "gridwidth": 2,
            "linecolor": "white",
            "showbackground": true,
            "ticks": "",
            "zerolinecolor": "white"
           },
           "zaxis": {
            "backgroundcolor": "#E5ECF6",
            "gridcolor": "white",
            "gridwidth": 2,
            "linecolor": "white",
            "showbackground": true,
            "ticks": "",
            "zerolinecolor": "white"
           }
          },
          "shapedefaults": {
           "line": {
            "color": "#2a3f5f"
           }
          },
          "ternary": {
           "aaxis": {
            "gridcolor": "white",
            "linecolor": "white",
            "ticks": ""
           },
           "baxis": {
            "gridcolor": "white",
            "linecolor": "white",
            "ticks": ""
           },
           "bgcolor": "#E5ECF6",
           "caxis": {
            "gridcolor": "white",
            "linecolor": "white",
            "ticks": ""
           }
          },
          "title": {
           "x": 0.05
          },
          "xaxis": {
           "automargin": true,
           "gridcolor": "white",
           "linecolor": "white",
           "ticks": "",
           "title": {
            "standoff": 15
           },
           "zerolinecolor": "white",
           "zerolinewidth": 2
          },
          "yaxis": {
           "automargin": true,
           "gridcolor": "white",
           "linecolor": "white",
           "ticks": "",
           "title": {
            "standoff": 15
           },
           "zerolinecolor": "white",
           "zerolinewidth": 2
          }
         }
        },
        "title": {
         "text": "salmon and bears in hot springs"
        },
        "width": 800,
        "xaxis": {
         "anchor": "y",
         "domain": [
          0,
          1
         ],
         "range": [
          0.3,
          1
         ],
         "title": {
          "text": "value"
         }
        },
        "yaxis": {
         "anchor": "x",
         "domain": [
          0,
          1
         ],
         "range": [
          0,
          110
         ],
         "title": {
          "text": "count"
         }
        }
       }
      }
     },
     "metadata": {},
     "output_type": "display_data"
    },
    {
     "data": {
      "application/vnd.plotly.v1+json": {
       "config": {
        "plotlyServerURL": "https://plot.ly"
       },
       "data": [
        {
         "alignmentgroup": "True",
         "bingroup": "x",
         "hovertemplate": "variable=0<br>value=%{x}<br>count=%{y}<extra></extra>",
         "legendgroup": "0",
         "marker": {
          "color": "#636efa",
          "pattern": {
           "shape": ""
          }
         },
         "name": "0",
         "offsetgroup": "0",
         "orientation": "v",
         "showlegend": true,
         "type": "histogram",
         "x": [
          0.9359843074943832,
          0.8652947430772654,
          0.691169821512575,
          0.8873095289378526,
          0.7937485940531758,
          0.9027916684050137,
          0.9441101097022216,
          0.6750371614239952,
          0.8569398789496601,
          0.8340512485259263,
          0.8790846888278484,
          0.8697814837289253,
          0.9494219455905148,
          0.7952146772516042,
          0.7971287367458485,
          0.9444481783812689,
          0.9027916684050137,
          0.9086719511561854,
          0.9269755740972808,
          0.9416260238339894,
          0.9578388870451697,
          0.8110780495595422,
          0.8662729008009472,
          0.9334834770084323,
          0.7937485940531758,
          0.9656495650093245,
          0.7197999180294817,
          0.91573281330761,
          0.9260514047039028,
          0.7112740591830653,
          0.9319376453206709,
          0.8717014977771449,
          0.887171995008906,
          0.843047391120102,
          0.7803304851704421,
          0.9807444334771268,
          0.9564926020036372,
          0.8991849081665384,
          0.930868068091527,
          0.7782206745087014,
          0.8889323329211444,
          0.5134212111161002,
          0.9019169969378683,
          0.798634119915334,
          0.8167080143821588,
          0.7172608820282892,
          0.9305982200992635,
          0.8872608076566108,
          0.3496509412211411,
          0.7894307212725973,
          0.833718847167509,
          0.8644091426968055,
          0.9027916684050137,
          0.888532888221405,
          0.9155460713140756,
          0.7122525134233553,
          0.9319376453206709,
          0.6208945302283728,
          0.9352222885640651,
          0.930868068091527,
          0.9660773315635786,
          0.8285829304778567,
          0.9494219455905148,
          0.930868068091527,
          0.9223376696936365,
          0.9193736030065474,
          0.9474941511870895,
          0.803216583939123,
          0.750482591368741,
          0.9564926020036372,
          0.8718474306014414,
          0.8322122910805556,
          0.8655839394430185,
          0.8609603603967348,
          0.9362802511131234,
          0.9386604006098915,
          0.776229307419363,
          0.8431240592547855,
          0.8940495643056166,
          0.8797700715424459,
          0.9139202305242815,
          0.8574211490612322,
          0.7999259218881106,
          0.8247991620308422,
          0.7938585885471726,
          0.9494219455905148,
          0.8886625622635439,
          0.8384347402390568,
          0.8567588235969699,
          0.9072559675896817,
          0.8652947430772654,
          0.966077312758994,
          0.7618061037967734,
          0.9208764804929866,
          0.6987612688967211,
          0.8337188594810492,
          0.9343168837139014,
          0.7041566064743965,
          0.7937485940531758,
          0.7758903325942629,
          0.8592539915577825,
          0.9019169969378683,
          0.9375178696336876,
          0.8510453940795782,
          0.9019169969378683,
          0.7532223870309737,
          0.9319376453206709,
          0.6968042275719296,
          0.691169821512575,
          0.7937485940531758,
          0.8079762256808802,
          0.6782467635532016,
          0.7388700661115944,
          0.8951925949829294,
          0.9223376696936365,
          0.9284254681631264,
          0.9375178696336876,
          0.9223376696936365,
          0.8637955256408035,
          0.9494219455905148,
          0.952424542838469,
          0.9187235907942696,
          0.9319376453206709,
          0.8397822757275095,
          0.9208764804929866,
          0.8609603603967348,
          0.9278202241611991,
          0.7740610766316219,
          0.8673584071809904,
          0.7998982839958997,
          0.8064888572172516,
          0.9029871579043522,
          0.9284254681631264,
          0.8817009183644415,
          0.8468479870702275,
          0.8637955256408035,
          0.9223376696936365,
          0.8974544346384742,
          0.8578898532293417,
          0.930291424186926,
          0.8294020874037796,
          0.9352222885640651,
          0.9466271273634046,
          0.9656495650093245,
          0.7826426125812483,
          0.7488678268702451,
          0.9466271273634046,
          0.9153622915951102,
          0.930868068091527,
          0.9656495650093245,
          0.9319376453206709,
          0.8261292673092671,
          0.9074575465868966,
          0.8496614357851413,
          0.8712796140662831,
          0.9549089501185877,
          0.7937485940531758,
          0.9477687922396909,
          0.9093001422802819,
          0.8686690486532695,
          0.9497347283570827,
          0.7971287367458485,
          0.9413487067334262,
          0.8557015276234756,
          0.6680321508074994,
          0.8541524973074163,
          0.930868068091527,
          0.9019169969378683,
          0.8179415130478261,
          0.8810575015859277,
          0.8360136706532343,
          0.9060742585563997,
          0.8709503261598359,
          0.9102660598017808,
          0.8111405934153116,
          0.7453435161373173,
          0.9391141649390922,
          0.9208764804929866,
          0.8199712625456707,
          0.9352222885640651,
          0.9196194708627117,
          0.9096060754306019,
          0.9019169969378683,
          0.8042870638707951,
          0.9655142954947695,
          0.8108361840998218,
          0.843796307038695,
          0.9251848715422609,
          0.6684837525729461,
          0.7937485940531758,
          0.7780355604359619,
          0.8448754557250837,
          0.8889323329211444,
          0.9494219455905148,
          0.9319376453206709,
          0.8420738999826181,
          0.7123036404111189,
          0.803216583939123,
          0.930868068091527,
          0.9296672214443866,
          0.9319376453206709,
          0.9532553474147788,
          0.7748130302573865,
          0.8790846888278484,
          0.7987401054960643,
          0.9223376696936365,
          0.625010725691084,
          0.8637955256408035,
          0.8627828927340526,
          0.9368371691776062,
          0.8521131995272776,
          0.794734455580751,
          0.8322122910805556,
          0.8468479870702275,
          0.8658184548217732,
          0.7793255544244356,
          0.8420394473190147,
          0.8604416382339516,
          0.9352222885640651,
          0.9656495650093245,
          0.7789231918193752,
          0.8209914749868146,
          0.9304555118423524,
          0.8655839394430185,
          0.9400739451812888,
          0.9319376453206709,
          0.9102660598017808,
          0.9564926020036372,
          0.9223376696936365,
          0.9102261717267035,
          0.8025529068041247,
          0.8765159422736228,
          0.8935428476789979,
          0.9380171945009953,
          0.9223376696936365,
          0.8541524973074163,
          0.7937485940531758,
          0.9409107688732662,
          0.9187235907942696,
          0.9656495650093245,
          0.9019169969378683,
          0.9499433632623178,
          0.9319376453206709,
          0.8871431173159451,
          0.9233644046301999,
          0.843047391120102,
          0.9319376453206709,
          0.8204281261766438,
          0.9112705909400745,
          0.8739864422472233,
          0.8384347402390568,
          0.8799216489492936,
          0.9319376453206709,
          0.9352222885640651,
          0.7937485940531758,
          0.9223376696936365,
          0.8410785876630004,
          0.9145185073021728,
          0.9249444454241067,
          0.9223376696936365,
          0.614719285914019,
          0.691169821512575,
          0.9223376696936365,
          0.8290074235058333,
          0.8954162283099167,
          0.9416260238339894,
          0.8158556630909681,
          0.7532223870309737,
          0.9466271273634046,
          0.691169821512575,
          0.7980752685412661,
          0.7188115017612652,
          0.6683361243883122,
          0.8284462655353222,
          0.9564994495447394,
          0.7046014554227142,
          0.9223376696936365,
          0.8322122910805556,
          0.7937485940531758,
          0.8940635751397539,
          0.9524245498178436,
          0.7915231640935911,
          0.9223376696936365,
          0.780662955202734,
          0.834062141886901,
          0.9019169969378683,
          0.614719285914019,
          0.943959804152889,
          0.8954672424885621,
          0.9489840952217297,
          0.8889323329211444,
          0.8856907450969072,
          0.9319376453206709,
          0.8445026686481273,
          0.8192245501086122,
          0.8610614696866022,
          0.8790846888278484,
          0.9494219455905148,
          0.8637955256408035,
          0.7627134749037457
         ],
         "xaxis": "x",
         "xbins": {
          "end": 1,
          "size": 0.02,
          "start": 0.3
         },
         "yaxis": "y"
        }
       ],
       "layout": {
        "barmode": "relative",
        "height": 400,
        "legend": {
         "title": {
          "text": "variable"
         },
         "tracegroupgap": 0
        },
        "margin": {
         "t": 60
        },
        "template": {
         "data": {
          "bar": [
           {
            "error_x": {
             "color": "#2a3f5f"
            },
            "error_y": {
             "color": "#2a3f5f"
            },
            "marker": {
             "line": {
              "color": "#E5ECF6",
              "width": 0.5
             },
             "pattern": {
              "fillmode": "overlay",
              "size": 10,
              "solidity": 0.2
             }
            },
            "type": "bar"
           }
          ],
          "barpolar": [
           {
            "marker": {
             "line": {
              "color": "#E5ECF6",
              "width": 0.5
             },
             "pattern": {
              "fillmode": "overlay",
              "size": 10,
              "solidity": 0.2
             }
            },
            "type": "barpolar"
           }
          ],
          "carpet": [
           {
            "aaxis": {
             "endlinecolor": "#2a3f5f",
             "gridcolor": "white",
             "linecolor": "white",
             "minorgridcolor": "white",
             "startlinecolor": "#2a3f5f"
            },
            "baxis": {
             "endlinecolor": "#2a3f5f",
             "gridcolor": "white",
             "linecolor": "white",
             "minorgridcolor": "white",
             "startlinecolor": "#2a3f5f"
            },
            "type": "carpet"
           }
          ],
          "choropleth": [
           {
            "colorbar": {
             "outlinewidth": 0,
             "ticks": ""
            },
            "type": "choropleth"
           }
          ],
          "contour": [
           {
            "colorbar": {
             "outlinewidth": 0,
             "ticks": ""
            },
            "colorscale": [
             [
              0,
              "#0d0887"
             ],
             [
              0.1111111111111111,
              "#46039f"
             ],
             [
              0.2222222222222222,
              "#7201a8"
             ],
             [
              0.3333333333333333,
              "#9c179e"
             ],
             [
              0.4444444444444444,
              "#bd3786"
             ],
             [
              0.5555555555555556,
              "#d8576b"
             ],
             [
              0.6666666666666666,
              "#ed7953"
             ],
             [
              0.7777777777777778,
              "#fb9f3a"
             ],
             [
              0.8888888888888888,
              "#fdca26"
             ],
             [
              1,
              "#f0f921"
             ]
            ],
            "type": "contour"
           }
          ],
          "contourcarpet": [
           {
            "colorbar": {
             "outlinewidth": 0,
             "ticks": ""
            },
            "type": "contourcarpet"
           }
          ],
          "heatmap": [
           {
            "colorbar": {
             "outlinewidth": 0,
             "ticks": ""
            },
            "colorscale": [
             [
              0,
              "#0d0887"
             ],
             [
              0.1111111111111111,
              "#46039f"
             ],
             [
              0.2222222222222222,
              "#7201a8"
             ],
             [
              0.3333333333333333,
              "#9c179e"
             ],
             [
              0.4444444444444444,
              "#bd3786"
             ],
             [
              0.5555555555555556,
              "#d8576b"
             ],
             [
              0.6666666666666666,
              "#ed7953"
             ],
             [
              0.7777777777777778,
              "#fb9f3a"
             ],
             [
              0.8888888888888888,
              "#fdca26"
             ],
             [
              1,
              "#f0f921"
             ]
            ],
            "type": "heatmap"
           }
          ],
          "heatmapgl": [
           {
            "colorbar": {
             "outlinewidth": 0,
             "ticks": ""
            },
            "colorscale": [
             [
              0,
              "#0d0887"
             ],
             [
              0.1111111111111111,
              "#46039f"
             ],
             [
              0.2222222222222222,
              "#7201a8"
             ],
             [
              0.3333333333333333,
              "#9c179e"
             ],
             [
              0.4444444444444444,
              "#bd3786"
             ],
             [
              0.5555555555555556,
              "#d8576b"
             ],
             [
              0.6666666666666666,
              "#ed7953"
             ],
             [
              0.7777777777777778,
              "#fb9f3a"
             ],
             [
              0.8888888888888888,
              "#fdca26"
             ],
             [
              1,
              "#f0f921"
             ]
            ],
            "type": "heatmapgl"
           }
          ],
          "histogram": [
           {
            "marker": {
             "pattern": {
              "fillmode": "overlay",
              "size": 10,
              "solidity": 0.2
             }
            },
            "type": "histogram"
           }
          ],
          "histogram2d": [
           {
            "colorbar": {
             "outlinewidth": 0,
             "ticks": ""
            },
            "colorscale": [
             [
              0,
              "#0d0887"
             ],
             [
              0.1111111111111111,
              "#46039f"
             ],
             [
              0.2222222222222222,
              "#7201a8"
             ],
             [
              0.3333333333333333,
              "#9c179e"
             ],
             [
              0.4444444444444444,
              "#bd3786"
             ],
             [
              0.5555555555555556,
              "#d8576b"
             ],
             [
              0.6666666666666666,
              "#ed7953"
             ],
             [
              0.7777777777777778,
              "#fb9f3a"
             ],
             [
              0.8888888888888888,
              "#fdca26"
             ],
             [
              1,
              "#f0f921"
             ]
            ],
            "type": "histogram2d"
           }
          ],
          "histogram2dcontour": [
           {
            "colorbar": {
             "outlinewidth": 0,
             "ticks": ""
            },
            "colorscale": [
             [
              0,
              "#0d0887"
             ],
             [
              0.1111111111111111,
              "#46039f"
             ],
             [
              0.2222222222222222,
              "#7201a8"
             ],
             [
              0.3333333333333333,
              "#9c179e"
             ],
             [
              0.4444444444444444,
              "#bd3786"
             ],
             [
              0.5555555555555556,
              "#d8576b"
             ],
             [
              0.6666666666666666,
              "#ed7953"
             ],
             [
              0.7777777777777778,
              "#fb9f3a"
             ],
             [
              0.8888888888888888,
              "#fdca26"
             ],
             [
              1,
              "#f0f921"
             ]
            ],
            "type": "histogram2dcontour"
           }
          ],
          "mesh3d": [
           {
            "colorbar": {
             "outlinewidth": 0,
             "ticks": ""
            },
            "type": "mesh3d"
           }
          ],
          "parcoords": [
           {
            "line": {
             "colorbar": {
              "outlinewidth": 0,
              "ticks": ""
             }
            },
            "type": "parcoords"
           }
          ],
          "pie": [
           {
            "automargin": true,
            "type": "pie"
           }
          ],
          "scatter": [
           {
            "fillpattern": {
             "fillmode": "overlay",
             "size": 10,
             "solidity": 0.2
            },
            "type": "scatter"
           }
          ],
          "scatter3d": [
           {
            "line": {
             "colorbar": {
              "outlinewidth": 0,
              "ticks": ""
             }
            },
            "marker": {
             "colorbar": {
              "outlinewidth": 0,
              "ticks": ""
             }
            },
            "type": "scatter3d"
           }
          ],
          "scattercarpet": [
           {
            "marker": {
             "colorbar": {
              "outlinewidth": 0,
              "ticks": ""
             }
            },
            "type": "scattercarpet"
           }
          ],
          "scattergeo": [
           {
            "marker": {
             "colorbar": {
              "outlinewidth": 0,
              "ticks": ""
             }
            },
            "type": "scattergeo"
           }
          ],
          "scattergl": [
           {
            "marker": {
             "colorbar": {
              "outlinewidth": 0,
              "ticks": ""
             }
            },
            "type": "scattergl"
           }
          ],
          "scattermapbox": [
           {
            "marker": {
             "colorbar": {
              "outlinewidth": 0,
              "ticks": ""
             }
            },
            "type": "scattermapbox"
           }
          ],
          "scatterpolar": [
           {
            "marker": {
             "colorbar": {
              "outlinewidth": 0,
              "ticks": ""
             }
            },
            "type": "scatterpolar"
           }
          ],
          "scatterpolargl": [
           {
            "marker": {
             "colorbar": {
              "outlinewidth": 0,
              "ticks": ""
             }
            },
            "type": "scatterpolargl"
           }
          ],
          "scatterternary": [
           {
            "marker": {
             "colorbar": {
              "outlinewidth": 0,
              "ticks": ""
             }
            },
            "type": "scatterternary"
           }
          ],
          "surface": [
           {
            "colorbar": {
             "outlinewidth": 0,
             "ticks": ""
            },
            "colorscale": [
             [
              0,
              "#0d0887"
             ],
             [
              0.1111111111111111,
              "#46039f"
             ],
             [
              0.2222222222222222,
              "#7201a8"
             ],
             [
              0.3333333333333333,
              "#9c179e"
             ],
             [
              0.4444444444444444,
              "#bd3786"
             ],
             [
              0.5555555555555556,
              "#d8576b"
             ],
             [
              0.6666666666666666,
              "#ed7953"
             ],
             [
              0.7777777777777778,
              "#fb9f3a"
             ],
             [
              0.8888888888888888,
              "#fdca26"
             ],
             [
              1,
              "#f0f921"
             ]
            ],
            "type": "surface"
           }
          ],
          "table": [
           {
            "cells": {
             "fill": {
              "color": "#EBF0F8"
             },
             "line": {
              "color": "white"
             }
            },
            "header": {
             "fill": {
              "color": "#C8D4E3"
             },
             "line": {
              "color": "white"
             }
            },
            "type": "table"
           }
          ]
         },
         "layout": {
          "annotationdefaults": {
           "arrowcolor": "#2a3f5f",
           "arrowhead": 0,
           "arrowwidth": 1
          },
          "autotypenumbers": "strict",
          "coloraxis": {
           "colorbar": {
            "outlinewidth": 0,
            "ticks": ""
           }
          },
          "colorscale": {
           "diverging": [
            [
             0,
             "#8e0152"
            ],
            [
             0.1,
             "#c51b7d"
            ],
            [
             0.2,
             "#de77ae"
            ],
            [
             0.3,
             "#f1b6da"
            ],
            [
             0.4,
             "#fde0ef"
            ],
            [
             0.5,
             "#f7f7f7"
            ],
            [
             0.6,
             "#e6f5d0"
            ],
            [
             0.7,
             "#b8e186"
            ],
            [
             0.8,
             "#7fbc41"
            ],
            [
             0.9,
             "#4d9221"
            ],
            [
             1,
             "#276419"
            ]
           ],
           "sequential": [
            [
             0,
             "#0d0887"
            ],
            [
             0.1111111111111111,
             "#46039f"
            ],
            [
             0.2222222222222222,
             "#7201a8"
            ],
            [
             0.3333333333333333,
             "#9c179e"
            ],
            [
             0.4444444444444444,
             "#bd3786"
            ],
            [
             0.5555555555555556,
             "#d8576b"
            ],
            [
             0.6666666666666666,
             "#ed7953"
            ],
            [
             0.7777777777777778,
             "#fb9f3a"
            ],
            [
             0.8888888888888888,
             "#fdca26"
            ],
            [
             1,
             "#f0f921"
            ]
           ],
           "sequentialminus": [
            [
             0,
             "#0d0887"
            ],
            [
             0.1111111111111111,
             "#46039f"
            ],
            [
             0.2222222222222222,
             "#7201a8"
            ],
            [
             0.3333333333333333,
             "#9c179e"
            ],
            [
             0.4444444444444444,
             "#bd3786"
            ],
            [
             0.5555555555555556,
             "#d8576b"
            ],
            [
             0.6666666666666666,
             "#ed7953"
            ],
            [
             0.7777777777777778,
             "#fb9f3a"
            ],
            [
             0.8888888888888888,
             "#fdca26"
            ],
            [
             1,
             "#f0f921"
            ]
           ]
          },
          "colorway": [
           "#636efa",
           "#EF553B",
           "#00cc96",
           "#ab63fa",
           "#FFA15A",
           "#19d3f3",
           "#FF6692",
           "#B6E880",
           "#FF97FF",
           "#FECB52"
          ],
          "font": {
           "color": "#2a3f5f"
          },
          "geo": {
           "bgcolor": "white",
           "lakecolor": "white",
           "landcolor": "#E5ECF6",
           "showlakes": true,
           "showland": true,
           "subunitcolor": "white"
          },
          "hoverlabel": {
           "align": "left"
          },
          "hovermode": "closest",
          "mapbox": {
           "style": "light"
          },
          "paper_bgcolor": "white",
          "plot_bgcolor": "#E5ECF6",
          "polar": {
           "angularaxis": {
            "gridcolor": "white",
            "linecolor": "white",
            "ticks": ""
           },
           "bgcolor": "#E5ECF6",
           "radialaxis": {
            "gridcolor": "white",
            "linecolor": "white",
            "ticks": ""
           }
          },
          "scene": {
           "xaxis": {
            "backgroundcolor": "#E5ECF6",
            "gridcolor": "white",
            "gridwidth": 2,
            "linecolor": "white",
            "showbackground": true,
            "ticks": "",
            "zerolinecolor": "white"
           },
           "yaxis": {
            "backgroundcolor": "#E5ECF6",
            "gridcolor": "white",
            "gridwidth": 2,
            "linecolor": "white",
            "showbackground": true,
            "ticks": "",
            "zerolinecolor": "white"
           },
           "zaxis": {
            "backgroundcolor": "#E5ECF6",
            "gridcolor": "white",
            "gridwidth": 2,
            "linecolor": "white",
            "showbackground": true,
            "ticks": "",
            "zerolinecolor": "white"
           }
          },
          "shapedefaults": {
           "line": {
            "color": "#2a3f5f"
           }
          },
          "ternary": {
           "aaxis": {
            "gridcolor": "white",
            "linecolor": "white",
            "ticks": ""
           },
           "baxis": {
            "gridcolor": "white",
            "linecolor": "white",
            "ticks": ""
           },
           "bgcolor": "#E5ECF6",
           "caxis": {
            "gridcolor": "white",
            "linecolor": "white",
            "ticks": ""
           }
          },
          "title": {
           "x": 0.05
          },
          "xaxis": {
           "automargin": true,
           "gridcolor": "white",
           "linecolor": "white",
           "ticks": "",
           "title": {
            "standoff": 15
           },
           "zerolinecolor": "white",
           "zerolinewidth": 2
          },
          "yaxis": {
           "automargin": true,
           "gridcolor": "white",
           "linecolor": "white",
           "ticks": "",
           "title": {
            "standoff": 15
           },
           "zerolinecolor": "white",
           "zerolinewidth": 2
          }
         }
        },
        "title": {
         "text": "Salmon and bears in hot springs in summer"
        },
        "width": 800,
        "xaxis": {
         "anchor": "y",
         "domain": [
          0,
          1
         ],
         "range": [
          0.3,
          1
         ],
         "title": {
          "text": "value"
         }
        },
        "yaxis": {
         "anchor": "x",
         "domain": [
          0,
          1
         ],
         "range": [
          0,
          110
         ],
         "title": {
          "text": "count"
         }
        }
       }
      }
     },
     "metadata": {},
     "output_type": "display_data"
    }
   ],
   "source": [
    "from numpy import dot\n",
    "from numpy.linalg import norm\n",
    "\n",
    "import plotly.express as px\n",
    "prompt=[\"fish and animal\",\"fish and animals in water\",\"salmon and animals in water\",\"salmon and bears in water\",\"salmon and bears in hot springs\",\"Salmon and bears in hot springs in summer\"]\n",
    "\n",
    "for j in range(6):\n",
    "    average =  target\n",
    "    cos_sim=[]\n",
    "    for i in range(300):\n",
    "        cos_sim.append( dot(average, vectors[j*300+i])/(norm(average)*norm(vectors[j*300+i])))\n",
    "\n",
    "    fig = px.histogram(\n",
    "        cos_sim,\n",
    "        range_x=[.3,1],\n",
    "        range_y=[0,110]\n",
    "        )\n",
    "    fig.update_layout(\n",
    "        title=prompt[j],\n",
    "        width=800,\n",
    "        height=400,  # Added parameter\n",
    "    )\n",
    "    fig.update_traces(xbins=dict( # bins used for histogram\n",
    "        start=0.3,\n",
    "        end=1.0,\n",
    "        size=.02\n",
    "    ))\n",
    "    fig.show()\n"
   ]
  },
  {
   "cell_type": "code",
   "execution_count": 26,
   "metadata": {},
   "outputs": [
    {
     "name": "stdout",
     "output_type": "stream",
     "text": [
      "fish and animal : 0.0024107341901082936\n",
      "salmon and animals in water : 0.0053637432756309415\n",
      "p-value: 0.0013670137954586048\n",
      "\n",
      "\n",
      "fish and animal : 0.0024107341901082936\n",
      "salmon and bears in water : 0.008703776319398478\n",
      "p-value: 6.904108926423992e-17\n",
      "\n",
      "\n",
      "fish and animal : 0.0024107341901082936\n",
      "salmon and bears in hot springs : 0.009382757218124184\n",
      "p-value: 2.0894012272698286e-13\n",
      "\n",
      "\n",
      "fish and animal : 0.0024107341901082936\n",
      "Salmon and bears in hot springs in summer : 0.00725847175221271\n",
      "p-value: 3.750721044372429e-11\n",
      "\n",
      "\n",
      "fish and animals in water : 0.0022188783294550454\n",
      "salmon and animals in water : 0.0053637432756309415\n",
      "p-value: 7.904075564856594e-05\n",
      "\n",
      "\n",
      "fish and animals in water : 0.0022188783294550454\n",
      "salmon and bears in water : 0.008703776319398478\n",
      "p-value: 2.365110763169639e-18\n",
      "\n",
      "\n",
      "fish and animals in water : 0.0022188783294550454\n",
      "salmon and bears in hot springs : 0.009382757218124184\n",
      "p-value: 6.995082405170094e-15\n",
      "\n",
      "\n",
      "fish and animals in water : 0.0022188783294550454\n",
      "Salmon and bears in hot springs in summer : 0.00725847175221271\n",
      "p-value: 1.117973516829667e-12\n",
      "\n",
      "\n",
      "salmon and animals in water : 0.0053637432756309415\n",
      "salmon and bears in water : 0.008703776319398478\n",
      "p-value: 2.988114210767911e-06\n",
      "\n",
      "\n",
      "salmon and animals in water : 0.0053637432756309415\n",
      "salmon and bears in hot springs : 0.009382757218124184\n",
      "p-value: 2.3262767001352624e-05\n",
      "\n",
      "\n",
      "salmon and animals in water : 0.0053637432756309415\n",
      "Salmon and bears in hot springs in summer : 0.00725847175221271\n",
      "p-value: 0.0023691342157459343\n",
      "\n",
      "\n"
     ]
    }
   ],
   "source": [
    "for_variance=[]\n",
    "\n",
    "\n",
    "for j in range(6):\n",
    "    average = target\n",
    "\n",
    "    cos_sim=[]\n",
    "    for i in range(300):\n",
    "        cos_sim.append( dot(average, vectors[j*300+i])/(norm(average)*norm(vectors[j*300+i])))\n",
    "    \n",
    "    for_variance.append(cos_sim)\n",
    "from scipy.stats import levene\n",
    "\n",
    "for i in range(6):\n",
    "    for j in range(i+1,6):\n",
    "        stat, p = levene(for_variance[i],for_variance[j])\n",
    "        if(p<0.05):\n",
    "            print(prompt[i],\":\",np.var(for_variance[i]))\n",
    "            print(prompt[j],\":\",np.var(for_variance[j]))\n",
    "            print(\"p-value:\",p)\n",
    "            print(\"\\n\")"
   ]
  },
  {
   "cell_type": "code",
   "execution_count": null,
   "metadata": {},
   "outputs": [],
   "source": []
  }
 ],
 "metadata": {
  "kernelspec": {
   "display_name": "Python 3.9.13 ('clip')",
   "language": "python",
   "name": "python3"
  },
  "language_info": {
   "codemirror_mode": {
    "name": "ipython",
    "version": 3
   },
   "file_extension": ".py",
   "mimetype": "text/x-python",
   "name": "python",
   "nbconvert_exporter": "python",
   "pygments_lexer": "ipython3",
   "version": "3.9.13"
  },
  "orig_nbformat": 4,
  "vscode": {
   "interpreter": {
    "hash": "71a3f170833a6ffb7c12a41e2b9b6d1517603db0d370ce9862b044104d15eeb9"
   }
  }
 },
 "nbformat": 4,
 "nbformat_minor": 2
}
